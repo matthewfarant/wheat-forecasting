{
  "cells": [
    {
      "cell_type": "markdown",
      "metadata": {
        "id": "8mhnMrBOOFKl"
      },
      "source": [
        "# **Multivariate Time Series Forecasting of Wheat Yield in Australia Using LSTM**"
      ]
    },
    {
      "cell_type": "markdown",
      "metadata": {
        "id": "9HE2RetIyfBQ"
      },
      "source": [
        "This notebook shows the code for my Final Year Project: *Actuaries Climate Index and Multivariate Wheat Yield Modelling: A Comparison of VAR and LSTM* "
      ]
    },
    {
      "cell_type": "code",
      "execution_count": 1,
      "metadata": {
        "vscode": {
          "languageId": "python"
        }
      },
      "outputs": [
        {
          "data": {
            "text/plain": [
              "'/home/matthewfarant123/apu-fyp'"
            ]
          },
          "execution_count": 1,
          "metadata": {},
          "output_type": "execute_result"
        }
      ],
      "source": [
        "import os\n",
        "os.getcwd()"
      ]
    },
    {
      "cell_type": "markdown",
      "metadata": {
        "id": "WxhixhKazHLv"
      },
      "source": [
        "# Data Pre-Processing"
      ]
    },
    {
      "cell_type": "code",
      "execution_count": 2,
      "metadata": {
        "id": "9YOczUCaEMdq",
        "vscode": {
          "languageId": "python"
        }
      },
      "outputs": [],
      "source": [
        "%matplotlib inline\n",
        "import numpy as np\n",
        "import pandas as pd\n",
        "import matplotlib.pyplot as plt\n",
        "import seaborn as sn\n",
        "from scipy import interpolate\n",
        "from pandasql import sqldf"
      ]
    },
    {
      "cell_type": "code",
      "execution_count": 3,
      "metadata": {
        "id": "0XIJd4NgEUVA",
        "vscode": {
          "languageId": "python"
        }
      },
      "outputs": [],
      "source": [
        "#Import The Australian Actuaries Climate Index (AACI) Dataset\n",
        "\n",
        "df_all = pd.read_csv('/home/matthewfarant123/apu-fyp/datasets/aaci_australia.csv')\n",
        "df_cdd = pd.read_csv('/home/matthewfarant123/apu-fyp/datasets/aaci_cdd_australia.csv')\n",
        "df_rainfall = pd.read_csv('/home/matthewfarant123/apu-fyp/datasets/aaci_rainfall_australia.csv')\n",
        "df_sealevel = pd.read_csv('/home/matthewfarant123/apu-fyp/datasets/aaci_sealevel_australia.csv')\n",
        "df_temphigh = pd.read_csv('/home/matthewfarant123/apu-fyp/datasets/aaci_temphigh_australia.csv')\n",
        "df_templow = pd.read_csv('/home/matthewfarant123/apu-fyp/datasets/aaci_templow_australia.csv')\n",
        "df_wind = pd.read_csv('/home/matthewfarant123/apu-fyp/datasets/aaci_wind_australia.csv')"
      ]
    },
    {
      "cell_type": "code",
      "execution_count": 4,
      "metadata": {
        "id": "AdOnG3YqHk06",
        "vscode": {
          "languageId": "python"
        }
      },
      "outputs": [],
      "source": [
        "#Transpose the AACI data\n",
        "sqlkey = lambda q : sqldf(q,globals())\n",
        "query = '''\n",
        "WITH grouped AS (\n",
        "  -- ALL\n",
        "  SELECT Year,\n",
        "    Region || '_ALL' Region,\n",
        "    AVG(AACI) AS AACI\n",
        "  FROM df_all\n",
        "  GROUP BY 1,2\n",
        "\n",
        "  UNION ALL\n",
        "  -- CDD\n",
        "  SELECT Year,\n",
        "    Region || '_CDD' Region,\n",
        "    AVG(AACI) AS AACI\n",
        "  FROM df_cdd\n",
        "  GROUP BY 1,2\n",
        "\n",
        "  UNION ALL\n",
        "  --RAINFALL\n",
        "  SELECT Year,\n",
        "    Region || '_RF' Region,\n",
        "    AVG(AACI) AS AACI\n",
        "  FROM df_rainfall\n",
        "  GROUP BY 1,2\n",
        "\n",
        "  UNION ALL\n",
        "  --SEALEVEL\n",
        "  SELECT Year,\n",
        "    Region || '_SL' Region,\n",
        "    AVG(AACI) AS AACI\n",
        "  FROM df_sealevel\n",
        "  GROUP BY 1,2\n",
        "\n",
        "  UNION ALL\n",
        "  --TEMPHIGH\n",
        "  SELECT Year,\n",
        "    Region || '_TH' Region,\n",
        "    AVG(AACI) AS AACI\n",
        "  FROM df_temphigh\n",
        "  GROUP BY 1,2\n",
        "\n",
        "  UNION ALL\n",
        "  --TEMPLOW\n",
        "  SELECT Year,\n",
        "    Region || '_TL' Region,\n",
        "    AVG(AACI) AS AACI\n",
        "  FROM df_templow\n",
        "  GROUP BY 1,2\n",
        "\n",
        "  UNION ALL\n",
        "  --WIND\n",
        "  SELECT Year,\n",
        "    Region || '_WI' Region,\n",
        "    AVG(AACI) AS AACI\n",
        "  FROM df_wind\n",
        "  GROUP BY 1,2\n",
        "), \n",
        "transposed AS (\n",
        "  SELECT Year,\n",
        "    --ALL\n",
        "    CASE WHEN Region = 'AU_ALL' THEN AACI END AS AU_ALL,\n",
        "    CASE WHEN Region = 'CS_ALL' THEN AACI END AS CS_ALL,\n",
        "    CASE WHEN Region = 'EN_ALL' THEN AACI END AS EN_ALL,\n",
        "    CASE WHEN Region = 'ES_ALL' THEN AACI END AS ES_ALL,\n",
        "    CASE WHEN Region = 'MB_ALL' THEN AACI END AS MB_ALL,\n",
        "    CASE WHEN Region = 'MN_ALL' THEN AACI END AS MN_ALL,\n",
        "    CASE WHEN Region = 'RN_ALL' THEN AACI END AS RN_ALL,\n",
        "    CASE WHEN Region = 'RS_ALL' THEN AACI END AS RS_ALL,\n",
        "    CASE WHEN Region = 'SE_ALL' THEN AACI END AS SE_ALL,\n",
        "    CASE WHEN Region = 'ST_ALL' THEN AACI END AS ST_ALL,\n",
        "    CASE WHEN Region = 'SV_ALL' THEN AACI END AS SV_ALL,\n",
        "    CASE WHEN Region = 'SW_ALL' THEN AACI END AS SW_ALL,\n",
        "    CASE WHEN Region = 'WT_ALL' THEN AACI END AS WT_ALL,\n",
        "    --CDD\n",
        "    CASE WHEN Region = 'AU_CDD' THEN AACI END AS AU_CDD,\n",
        "    CASE WHEN Region = 'CS_CDD' THEN AACI END AS CS_CDD,\n",
        "    CASE WHEN Region = 'EN_CDD' THEN AACI END AS EN_CDD,\n",
        "    CASE WHEN Region = 'ES_CDD' THEN AACI END AS ES_CDD,\n",
        "    CASE WHEN Region = 'MB_CDD' THEN AACI END AS MB_CDD,\n",
        "    CASE WHEN Region = 'MN_CDD' THEN AACI END AS MN_CDD,\n",
        "    CASE WHEN Region = 'RN_CDD' THEN AACI END AS RN_CDD,\n",
        "    CASE WHEN Region = 'RS_CDD' THEN AACI END AS RS_CDD,\n",
        "    CASE WHEN Region = 'SE_CDD' THEN AACI END AS SE_CDD,\n",
        "    CASE WHEN Region = 'ST_CDD' THEN AACI END AS ST_CDD,\n",
        "    CASE WHEN Region = 'SV_CDD' THEN AACI END AS SV_CDD,\n",
        "    CASE WHEN Region = 'SW_CDD' THEN AACI END AS SW_CDD,\n",
        "    CASE WHEN Region = 'WT_CDD' THEN AACI END AS WT_CDD,\n",
        "    --RAINFALL\n",
        "    CASE WHEN Region = 'AU_RF' THEN AACI END AS AU_RF,\n",
        "    CASE WHEN Region = 'CS_RF' THEN AACI END AS CS_RF,\n",
        "    CASE WHEN Region = 'EN_RF' THEN AACI END AS EN_RF,\n",
        "    CASE WHEN Region = 'ES_RF' THEN AACI END AS ES_RF,\n",
        "    CASE WHEN Region = 'MB_RF' THEN AACI END AS MB_RF,\n",
        "    CASE WHEN Region = 'MN_RF' THEN AACI END AS MN_RF,\n",
        "    CASE WHEN Region = 'RN_RF' THEN AACI END AS RN_RF,\n",
        "    CASE WHEN Region = 'RS_RF' THEN AACI END AS RS_RF,\n",
        "    CASE WHEN Region = 'SE_RF' THEN AACI END AS SE_RF,\n",
        "    CASE WHEN Region = 'ST_RF' THEN AACI END AS ST_RF,\n",
        "    CASE WHEN Region = 'SV_RF' THEN AACI END AS SV_RF,\n",
        "    CASE WHEN Region = 'SW_RF' THEN AACI END AS SW_RF,\n",
        "    CASE WHEN Region = 'WT_RF' THEN AACI END AS WT_RF,\n",
        "    --SEALEVEL\n",
        "    CASE WHEN Region = 'AU_SL' THEN AACI END AS AU_SL,\n",
        "    CASE WHEN Region = 'CS_SL' THEN AACI END AS CS_SL,\n",
        "    CASE WHEN Region = 'EN_SL' THEN AACI END AS EN_SL,\n",
        "    CASE WHEN Region = 'ES_SL' THEN AACI END AS ES_SL,\n",
        "    CASE WHEN Region = 'MB_SL' THEN AACI END AS MB_SL,\n",
        "    CASE WHEN Region = 'MN_SL' THEN AACI END AS MN_SL,\n",
        "    CASE WHEN Region = 'RN_SL' THEN AACI END AS RN_SL,\n",
        "    CASE WHEN Region = 'RS_SL' THEN AACI END AS RS_SL,\n",
        "    CASE WHEN Region = 'SE_SL' THEN AACI END AS SE_SL,\n",
        "    CASE WHEN Region = 'ST_SL' THEN AACI END AS ST_SL,\n",
        "    CASE WHEN Region = 'SV_SL' THEN AACI END AS SV_SL,\n",
        "    CASE WHEN Region = 'SW_SL' THEN AACI END AS SW_SL,\n",
        "    CASE WHEN Region = 'WT_SL' THEN AACI END AS WT_SL,\n",
        "    --TEMPHIGH\n",
        "    CASE WHEN Region = 'AU_TH' THEN AACI END AS AU_TH,\n",
        "    CASE WHEN Region = 'CS_TH' THEN AACI END AS CS_TH,\n",
        "    CASE WHEN Region = 'EN_TH' THEN AACI END AS EN_TH,\n",
        "    CASE WHEN Region = 'ES_TH' THEN AACI END AS ES_TH,\n",
        "    CASE WHEN Region = 'MB_TH' THEN AACI END AS MB_TH,\n",
        "    CASE WHEN Region = 'MN_TH' THEN AACI END AS MN_TH,\n",
        "    CASE WHEN Region = 'RN_TH' THEN AACI END AS RN_TH,\n",
        "    CASE WHEN Region = 'RS_TH' THEN AACI END AS RS_TH,\n",
        "    CASE WHEN Region = 'SE_TH' THEN AACI END AS SE_TH,\n",
        "    CASE WHEN Region = 'ST_TH' THEN AACI END AS ST_TH,\n",
        "    CASE WHEN Region = 'SV_TH' THEN AACI END AS SV_TH,\n",
        "    CASE WHEN Region = 'SW_TH' THEN AACI END AS SW_TH,\n",
        "    CASE WHEN Region = 'WT_TH' THEN AACI END AS WT_TH,\n",
        "    --TEMPLOW\n",
        "    CASE WHEN Region = 'AU_TL' THEN AACI END AS AU_TL,\n",
        "    CASE WHEN Region = 'CS_TL' THEN AACI END AS CS_TL,\n",
        "    CASE WHEN Region = 'EN_TL' THEN AACI END AS EN_TL,\n",
        "    CASE WHEN Region = 'ES_TL' THEN AACI END AS ES_TL,\n",
        "    CASE WHEN Region = 'MB_TL' THEN AACI END AS MB_TL,\n",
        "    CASE WHEN Region = 'MN_TL' THEN AACI END AS MN_TL,\n",
        "    CASE WHEN Region = 'RN_TL' THEN AACI END AS RN_TL,\n",
        "    CASE WHEN Region = 'RS_TL' THEN AACI END AS RS_TL,\n",
        "    CASE WHEN Region = 'SE_TL' THEN AACI END AS SE_TL,\n",
        "    CASE WHEN Region = 'ST_TL' THEN AACI END AS ST_TL,\n",
        "    CASE WHEN Region = 'SV_TL' THEN AACI END AS SV_TL,\n",
        "    CASE WHEN Region = 'SW_TL' THEN AACI END AS SW_TL,\n",
        "    CASE WHEN Region = 'WT_TL' THEN AACI END AS WT_TL,\n",
        "    --WIND\n",
        "    CASE WHEN Region = 'AU_WI' THEN AACI END AS AU_WI,\n",
        "    CASE WHEN Region = 'CS_WI' THEN AACI END AS CS_WI,\n",
        "    CASE WHEN Region = 'EN_WI' THEN AACI END AS EN_WI,\n",
        "    CASE WHEN Region = 'ES_WI' THEN AACI END AS ES_WI,\n",
        "    CASE WHEN Region = 'MB_WI' THEN AACI END AS MB_WI,\n",
        "    CASE WHEN Region = 'MN_WI' THEN AACI END AS MN_WI,\n",
        "    CASE WHEN Region = 'RN_WI' THEN AACI END AS RN_WI,\n",
        "    CASE WHEN Region = 'RS_WI' THEN AACI END AS RS_WI,\n",
        "    CASE WHEN Region = 'SE_WI' THEN AACI END AS SE_WI,\n",
        "    CASE WHEN Region = 'ST_WI' THEN AACI END AS ST_WI,\n",
        "    CASE WHEN Region = 'SV_WI' THEN AACI END AS SV_WI,\n",
        "    CASE WHEN Region = 'SW_WI' THEN AACI END AS SW_WI,\n",
        "    CASE WHEN Region = 'WT_WI' THEN AACI END AS WT_WI\n",
        "  FROM grouped\n",
        ")\n",
        "SELECT Year,\n",
        "    --ALL\n",
        "      SUM(AU_ALL) AS AU_ALL,\n",
        "      SUM(CS_ALL) AS CS_ALL,\n",
        "      SUM(EN_ALL) AS EN_ALL,\n",
        "      SUM(ES_ALL) AS ES_ALL,\n",
        "      SUM(MB_ALL) AS MB_ALL,\n",
        "      SUM(MN_ALL) AS MN_ALL,\n",
        "      SUM(RN_ALL) AS RN_ALL,\n",
        "      SUM(RS_ALL) AS RS_ALL,\n",
        "      SUM(SE_ALL) AS SE_ALL,\n",
        "      SUM(ST_ALL) AS ST_ALL,\n",
        "      SUM(SV_ALL) AS SV_ALL,\n",
        "      SUM(SW_ALL) AS SW_ALL,\n",
        "      SUM(WT_ALL) AS WT_ALL,\n",
        "    --CDD\n",
        "      SUM(AU_CDD) AS AU_CDD,\n",
        "      SUM(CS_CDD) AS CS_CDD,\n",
        "      SUM(EN_CDD) AS EN_CDD,\n",
        "      SUM(ES_CDD) AS ES_CDD,\n",
        "      SUM(MB_CDD) AS MB_CDD,\n",
        "      SUM(MN_CDD) AS MN_CDD,\n",
        "      SUM(RN_CDD) AS RN_CDD,\n",
        "      SUM(RS_CDD) AS RS_CDD,\n",
        "      SUM(SE_CDD) AS SE_CDD,\n",
        "      SUM(ST_CDD) AS ST_CDD,\n",
        "      SUM(SV_CDD) AS SV_CDD,\n",
        "      SUM(SW_CDD) AS SW_CDD,\n",
        "      SUM(WT_CDD) AS WT_CDD,\n",
        "    --RAINFALL\n",
        "      SUM(AU_RF) AS AU_RF,\n",
        "      SUM(CS_RF) AS CS_RF,\n",
        "      SUM(EN_RF) AS EN_RF,\n",
        "      SUM(ES_RF) AS ES_RF,\n",
        "      SUM(MB_RF) AS MB_RF,\n",
        "      SUM(MN_RF) AS MN_RF,\n",
        "      SUM(RN_RF) AS RN_RF,\n",
        "      SUM(RS_RF) AS RS_RF,\n",
        "      SUM(SE_RF) AS SE_RF,\n",
        "      SUM(ST_RF) AS ST_RF,\n",
        "      SUM(SV_RF) AS SV_RF,\n",
        "      SUM(SW_RF) AS SW_RF,\n",
        "      SUM(WT_RF) AS WT_RF,\n",
        "    --SEALEVEL\n",
        "      SUM(AU_SL) AS AU_SL,\n",
        "      SUM(CS_SL) AS CS_SL,\n",
        "      SUM(EN_SL) AS EN_SL,\n",
        "      SUM(ES_SL) AS ES_SL,\n",
        "      SUM(MB_SL) AS MB_SL,\n",
        "      SUM(MN_SL) AS MN_SL,\n",
        "      SUM(RN_SL) AS RN_SL,\n",
        "      SUM(RS_SL) AS RS_SL,\n",
        "      SUM(SE_SL) AS SE_SL,\n",
        "      SUM(ST_SL) AS ST_SL,\n",
        "      SUM(SV_SL) AS SV_SL,\n",
        "      SUM(SW_SL) AS SW_SL,\n",
        "      SUM(WT_SL) AS WT_SL,\n",
        "    --TEMPHIGH\n",
        "      SUM(AU_TH) AS AU_TH,\n",
        "      SUM(CS_TH) AS CS_TH,\n",
        "      SUM(EN_TH) AS EN_TH,\n",
        "      SUM(ES_TH) AS ES_TH,\n",
        "      SUM(MB_TH) AS MB_TH,\n",
        "      SUM(MN_TH) AS MN_TH,\n",
        "      SUM(RN_TH) AS RN_TH,\n",
        "      SUM(RS_TH) AS RS_TH,\n",
        "      SUM(SE_TH) AS SE_TH,\n",
        "      SUM(ST_TH) AS ST_TH,\n",
        "      SUM(SV_TH) AS SV_TH,\n",
        "      SUM(SW_TH) AS SW_TH,\n",
        "      SUM(WT_TH) AS WT_TH,\n",
        "    --TEMPLOW\n",
        "      SUM(AU_TL) AS AU_TL,\n",
        "      SUM(CS_TL) AS CS_TL,\n",
        "      SUM(EN_TL) AS EN_TL,\n",
        "      SUM(ES_TL) AS ES_TL,\n",
        "      SUM(MB_TL) AS MB_TL,\n",
        "      SUM(MN_TL) AS MN_TL,\n",
        "      SUM(RN_TL) AS RN_TL,\n",
        "      SUM(RS_TL) AS RS_TL,\n",
        "      SUM(SE_TL) AS SE_TL,\n",
        "      SUM(ST_TL) AS ST_TL,\n",
        "      SUM(SV_TL) AS SV_TL,\n",
        "      SUM(SW_TL) AS SW_TL,\n",
        "      SUM(WT_TL) AS WT_TL,\n",
        "    --WIND\n",
        "      SUM(AU_WI) AS AU_WI,\n",
        "      SUM(CS_WI) AS CS_WI,\n",
        "      SUM(EN_WI) AS EN_WI,\n",
        "      SUM(ES_WI) AS ES_WI,\n",
        "      SUM(MB_WI) AS MB_WI,\n",
        "      SUM(MN_WI) AS MN_WI,\n",
        "      SUM(RN_WI) AS RN_WI,\n",
        "      SUM(RS_WI) AS RS_WI,\n",
        "      SUM(SE_WI) AS SE_WI,\n",
        "      SUM(ST_WI) AS ST_WI,\n",
        "      SUM(SV_WI) AS SV_WI,\n",
        "      SUM(SW_WI) AS SW_WI,\n",
        "      SUM(WT_WI) AS WT_WI\n",
        "FROM transposed\n",
        "GROUP BY Year\n",
        ";\n",
        "'''\n",
        "df_final = sqlkey(query)"
      ]
    },
    {
      "cell_type": "code",
      "execution_count": 5,
      "metadata": {
        "colab": {
          "base_uri": "https://localhost:8080/",
          "height": 206
        },
        "id": "HqLQA8VhMHrj",
        "outputId": "027883e8-0af1-46ac-de1b-fcbd2099b3bf",
        "vscode": {
          "languageId": "python"
        }
      },
      "outputs": [
        {
          "data": {
            "text/html": [
              "<div>\n",
              "<style scoped>\n",
              "    .dataframe tbody tr th:only-of-type {\n",
              "        vertical-align: middle;\n",
              "    }\n",
              "\n",
              "    .dataframe tbody tr th {\n",
              "        vertical-align: top;\n",
              "    }\n",
              "\n",
              "    .dataframe thead th {\n",
              "        text-align: right;\n",
              "    }\n",
              "</style>\n",
              "<table border=\"1\" class=\"dataframe\">\n",
              "  <thead>\n",
              "    <tr style=\"text-align: right;\">\n",
              "      <th></th>\n",
              "      <th>Year</th>\n",
              "      <th>AU_ALL</th>\n",
              "      <th>CS_ALL</th>\n",
              "      <th>EN_ALL</th>\n",
              "      <th>ES_ALL</th>\n",
              "      <th>MB_ALL</th>\n",
              "      <th>MN_ALL</th>\n",
              "      <th>RN_ALL</th>\n",
              "      <th>RS_ALL</th>\n",
              "      <th>SE_ALL</th>\n",
              "      <th>...</th>\n",
              "      <th>ES_WI</th>\n",
              "      <th>MB_WI</th>\n",
              "      <th>MN_WI</th>\n",
              "      <th>RN_WI</th>\n",
              "      <th>RS_WI</th>\n",
              "      <th>SE_WI</th>\n",
              "      <th>ST_WI</th>\n",
              "      <th>SV_WI</th>\n",
              "      <th>SW_WI</th>\n",
              "      <th>WT_WI</th>\n",
              "    </tr>\n",
              "  </thead>\n",
              "  <tbody>\n",
              "    <tr>\n",
              "      <th>0</th>\n",
              "      <td>1981</td>\n",
              "      <td>-0.087208</td>\n",
              "      <td>-0.084951</td>\n",
              "      <td>-0.258811</td>\n",
              "      <td>0.087191</td>\n",
              "      <td>-0.041700</td>\n",
              "      <td>-0.158683</td>\n",
              "      <td>-0.012887</td>\n",
              "      <td>-0.111130</td>\n",
              "      <td>-0.007505</td>\n",
              "      <td>...</td>\n",
              "      <td>0.000000</td>\n",
              "      <td>0.000000</td>\n",
              "      <td>0.000000</td>\n",
              "      <td>0.000000</td>\n",
              "      <td>0.00000</td>\n",
              "      <td>-0.013465</td>\n",
              "      <td>-0.715201</td>\n",
              "      <td>0.000000</td>\n",
              "      <td>0.000000</td>\n",
              "      <td>0.000000</td>\n",
              "    </tr>\n",
              "    <tr>\n",
              "      <th>1</th>\n",
              "      <td>1982</td>\n",
              "      <td>-0.357338</td>\n",
              "      <td>-0.196937</td>\n",
              "      <td>-0.433829</td>\n",
              "      <td>-0.108388</td>\n",
              "      <td>-0.010522</td>\n",
              "      <td>-0.538458</td>\n",
              "      <td>-0.211941</td>\n",
              "      <td>-0.156131</td>\n",
              "      <td>-0.452043</td>\n",
              "      <td>...</td>\n",
              "      <td>0.000000</td>\n",
              "      <td>0.000000</td>\n",
              "      <td>0.000000</td>\n",
              "      <td>0.000000</td>\n",
              "      <td>0.00000</td>\n",
              "      <td>-0.641513</td>\n",
              "      <td>0.043719</td>\n",
              "      <td>0.000000</td>\n",
              "      <td>0.000000</td>\n",
              "      <td>0.000000</td>\n",
              "    </tr>\n",
              "    <tr>\n",
              "      <th>2</th>\n",
              "      <td>1983</td>\n",
              "      <td>0.064702</td>\n",
              "      <td>0.259954</td>\n",
              "      <td>0.297082</td>\n",
              "      <td>-0.146317</td>\n",
              "      <td>0.242856</td>\n",
              "      <td>-0.069399</td>\n",
              "      <td>0.022740</td>\n",
              "      <td>-0.165062</td>\n",
              "      <td>0.018552</td>\n",
              "      <td>...</td>\n",
              "      <td>1.198097</td>\n",
              "      <td>0.206157</td>\n",
              "      <td>0.000000</td>\n",
              "      <td>0.000000</td>\n",
              "      <td>0.00000</td>\n",
              "      <td>0.717042</td>\n",
              "      <td>0.207227</td>\n",
              "      <td>0.000000</td>\n",
              "      <td>-0.286570</td>\n",
              "      <td>0.000000</td>\n",
              "    </tr>\n",
              "    <tr>\n",
              "      <th>3</th>\n",
              "      <td>1984</td>\n",
              "      <td>-0.141534</td>\n",
              "      <td>-0.128566</td>\n",
              "      <td>-0.025731</td>\n",
              "      <td>0.142605</td>\n",
              "      <td>-0.161209</td>\n",
              "      <td>-0.166435</td>\n",
              "      <td>-0.130824</td>\n",
              "      <td>0.011527</td>\n",
              "      <td>-0.410279</td>\n",
              "      <td>...</td>\n",
              "      <td>-0.283743</td>\n",
              "      <td>0.324074</td>\n",
              "      <td>0.000000</td>\n",
              "      <td>0.294304</td>\n",
              "      <td>0.00000</td>\n",
              "      <td>0.605802</td>\n",
              "      <td>0.545126</td>\n",
              "      <td>-0.401749</td>\n",
              "      <td>-0.011464</td>\n",
              "      <td>-0.091303</td>\n",
              "    </tr>\n",
              "    <tr>\n",
              "      <th>4</th>\n",
              "      <td>1985</td>\n",
              "      <td>-0.121609</td>\n",
              "      <td>-0.338231</td>\n",
              "      <td>-0.382139</td>\n",
              "      <td>-0.020478</td>\n",
              "      <td>-0.130815</td>\n",
              "      <td>-0.258032</td>\n",
              "      <td>-0.040343</td>\n",
              "      <td>-0.059485</td>\n",
              "      <td>-0.123720</td>\n",
              "      <td>...</td>\n",
              "      <td>0.134474</td>\n",
              "      <td>-0.391836</td>\n",
              "      <td>0.490319</td>\n",
              "      <td>0.362322</td>\n",
              "      <td>-0.13024</td>\n",
              "      <td>-0.046661</td>\n",
              "      <td>-0.161557</td>\n",
              "      <td>0.138516</td>\n",
              "      <td>0.415375</td>\n",
              "      <td>1.027355</td>\n",
              "    </tr>\n",
              "  </tbody>\n",
              "</table>\n",
              "<p>5 rows × 92 columns</p>\n",
              "</div>"
            ],
            "text/plain": [
              "   Year    AU_ALL    CS_ALL    EN_ALL    ES_ALL    MB_ALL    MN_ALL    RN_ALL  \\\n",
              "0  1981 -0.087208 -0.084951 -0.258811  0.087191 -0.041700 -0.158683 -0.012887   \n",
              "1  1982 -0.357338 -0.196937 -0.433829 -0.108388 -0.010522 -0.538458 -0.211941   \n",
              "2  1983  0.064702  0.259954  0.297082 -0.146317  0.242856 -0.069399  0.022740   \n",
              "3  1984 -0.141534 -0.128566 -0.025731  0.142605 -0.161209 -0.166435 -0.130824   \n",
              "4  1985 -0.121609 -0.338231 -0.382139 -0.020478 -0.130815 -0.258032 -0.040343   \n",
              "\n",
              "     RS_ALL    SE_ALL  ...     ES_WI     MB_WI     MN_WI     RN_WI    RS_WI  \\\n",
              "0 -0.111130 -0.007505  ...  0.000000  0.000000  0.000000  0.000000  0.00000   \n",
              "1 -0.156131 -0.452043  ...  0.000000  0.000000  0.000000  0.000000  0.00000   \n",
              "2 -0.165062  0.018552  ...  1.198097  0.206157  0.000000  0.000000  0.00000   \n",
              "3  0.011527 -0.410279  ... -0.283743  0.324074  0.000000  0.294304  0.00000   \n",
              "4 -0.059485 -0.123720  ...  0.134474 -0.391836  0.490319  0.362322 -0.13024   \n",
              "\n",
              "      SE_WI     ST_WI     SV_WI     SW_WI     WT_WI  \n",
              "0 -0.013465 -0.715201  0.000000  0.000000  0.000000  \n",
              "1 -0.641513  0.043719  0.000000  0.000000  0.000000  \n",
              "2  0.717042  0.207227  0.000000 -0.286570  0.000000  \n",
              "3  0.605802  0.545126 -0.401749 -0.011464 -0.091303  \n",
              "4 -0.046661 -0.161557  0.138516  0.415375  1.027355  \n",
              "\n",
              "[5 rows x 92 columns]"
            ]
          },
          "execution_count": 5,
          "metadata": {},
          "output_type": "execute_result"
        }
      ],
      "source": [
        "df_final.head()"
      ]
    },
    {
      "cell_type": "code",
      "execution_count": 6,
      "metadata": {
        "id": "dEOi18WsM2_c",
        "vscode": {
          "languageId": "python"
        }
      },
      "outputs": [],
      "source": [
        "#Exclude 2021 Data\n",
        "aaci = df_final[(df_final.Year != 2021)]"
      ]
    },
    {
      "cell_type": "code",
      "execution_count": 8,
      "metadata": {
        "id": "JWc80JiXMLqq",
        "vscode": {
          "languageId": "python"
        }
      },
      "outputs": [],
      "source": [
        "#Import the Wheat Yield Dataset\n",
        "wheat = pd.read_csv('/home/matthewfarant123/apu-fyp/datasets/wheat_data.csv')"
      ]
    },
    {
      "cell_type": "code",
      "execution_count": 9,
      "metadata": {
        "id": "BVCy3uccNex4",
        "vscode": {
          "languageId": "python"
        }
      },
      "outputs": [],
      "source": [
        "#Join the AACI and Wheat Yield Dataset\n",
        "query = '''\n",
        "  WITH CTE AS (\n",
        "  SELECT b.Year,Yield,\n",
        "AU_ALL,\n",
        "CS_ALL,\n",
        "EN_ALL,\n",
        "ES_ALL,\n",
        "MB_ALL,\n",
        "MN_ALL,\n",
        "RN_ALL,\n",
        "RS_ALL,\n",
        "SE_ALL,\n",
        "ST_ALL,\n",
        "SV_ALL,\n",
        "SW_ALL,\n",
        "WT_ALL,\n",
        "AU_CDD,\n",
        "CS_CDD,\n",
        "EN_CDD,\n",
        "ES_CDD,\n",
        "MB_CDD,\n",
        "MN_CDD,\n",
        "RN_CDD,\n",
        "RS_CDD,\n",
        "SE_CDD,\n",
        "ST_CDD,\n",
        "SV_CDD,\n",
        "SW_CDD,\n",
        "WT_CDD,\n",
        "AU_RF,\n",
        "CS_RF,\n",
        "EN_RF,\n",
        "ES_RF,\n",
        "MB_RF,\n",
        "MN_RF,\n",
        "RN_RF,\n",
        "RS_RF,\n",
        "SE_RF,\n",
        "ST_RF,\n",
        "SV_RF,\n",
        "SW_RF,\n",
        "WT_RF,\n",
        "AU_SL,\n",
        "CS_SL,\n",
        "EN_SL,\n",
        "ES_SL,\n",
        "MB_SL,\n",
        "MN_SL,\n",
        "RN_SL,\n",
        "RS_SL,\n",
        "SE_SL,\n",
        "ST_SL,\n",
        "SV_SL,\n",
        "SW_SL,\n",
        "WT_SL,\n",
        "AU_TH,\n",
        "CS_TH,\n",
        "EN_TH,\n",
        "ES_TH,\n",
        "MB_TH,\n",
        "MN_TH,\n",
        "RN_TH,\n",
        "RS_TH,\n",
        "SE_TH,\n",
        "ST_TH,\n",
        "SV_TH,\n",
        "SW_TH,\n",
        "WT_TH,\n",
        "AU_TL,\n",
        "CS_TL,\n",
        "EN_TL,\n",
        "ES_TL,\n",
        "MB_TL,\n",
        "MN_TL,\n",
        "RN_TL,\n",
        "RS_TL,\n",
        "SE_TL,\n",
        "ST_TL,\n",
        "SV_TL,\n",
        "SW_TL,\n",
        "WT_TL,\n",
        "AU_WI,\n",
        "CS_WI,\n",
        "EN_WI,\n",
        "ES_WI,\n",
        "MB_WI,\n",
        "MN_WI,\n",
        "RN_WI,\n",
        "RS_WI,\n",
        "SE_WI,\n",
        "ST_WI,\n",
        "SV_WI,\n",
        "SW_WI,\n",
        "WT_WI\n",
        "  FROM wheat b\n",
        "  LEFT JOIN aaci a\n",
        "  ON a.Year = b.Year\n",
        "  )\n",
        "  SELECT *\n",
        "  FROM CTE\n",
        "  -- WHERE Year<2020\n",
        "    '''\n",
        "final_data = sqlkey(query)"
      ]
    },
    {
      "cell_type": "code",
      "execution_count": 10,
      "metadata": {
        "id": "aurkAaytZzkz",
        "vscode": {
          "languageId": "python"
        }
      },
      "outputs": [],
      "source": [
        "final_data = final_data.set_index('Year')\n",
        "#final_data['Year'] = final_data.index"
      ]
    },
    {
      "cell_type": "code",
      "execution_count": 11,
      "metadata": {
        "colab": {
          "base_uri": "https://localhost:8080/",
          "height": 281
        },
        "id": "R5re_dQ2uWtR",
        "outputId": "9f05fc30-5283-4b0b-8b8f-3585d9fd5c9d",
        "vscode": {
          "languageId": "python"
        }
      },
      "outputs": [
        {
          "data": {
            "text/html": [
              "<div>\n",
              "<style scoped>\n",
              "    .dataframe tbody tr th:only-of-type {\n",
              "        vertical-align: middle;\n",
              "    }\n",
              "\n",
              "    .dataframe tbody tr th {\n",
              "        vertical-align: top;\n",
              "    }\n",
              "\n",
              "    .dataframe thead th {\n",
              "        text-align: right;\n",
              "    }\n",
              "</style>\n",
              "<table border=\"1\" class=\"dataframe\">\n",
              "  <thead>\n",
              "    <tr style=\"text-align: right;\">\n",
              "      <th></th>\n",
              "      <th>Yield</th>\n",
              "      <th>AU_ALL</th>\n",
              "      <th>CS_ALL</th>\n",
              "      <th>EN_ALL</th>\n",
              "      <th>ES_ALL</th>\n",
              "      <th>MB_ALL</th>\n",
              "      <th>MN_ALL</th>\n",
              "      <th>RN_ALL</th>\n",
              "      <th>RS_ALL</th>\n",
              "      <th>SE_ALL</th>\n",
              "      <th>...</th>\n",
              "      <th>ES_WI</th>\n",
              "      <th>MB_WI</th>\n",
              "      <th>MN_WI</th>\n",
              "      <th>RN_WI</th>\n",
              "      <th>RS_WI</th>\n",
              "      <th>SE_WI</th>\n",
              "      <th>ST_WI</th>\n",
              "      <th>SV_WI</th>\n",
              "      <th>SW_WI</th>\n",
              "      <th>WT_WI</th>\n",
              "    </tr>\n",
              "    <tr>\n",
              "      <th>Year</th>\n",
              "      <th></th>\n",
              "      <th></th>\n",
              "      <th></th>\n",
              "      <th></th>\n",
              "      <th></th>\n",
              "      <th></th>\n",
              "      <th></th>\n",
              "      <th></th>\n",
              "      <th></th>\n",
              "      <th></th>\n",
              "      <th></th>\n",
              "      <th></th>\n",
              "      <th></th>\n",
              "      <th></th>\n",
              "      <th></th>\n",
              "      <th></th>\n",
              "      <th></th>\n",
              "      <th></th>\n",
              "      <th></th>\n",
              "      <th></th>\n",
              "      <th></th>\n",
              "    </tr>\n",
              "  </thead>\n",
              "  <tbody>\n",
              "    <tr>\n",
              "      <th>1981</th>\n",
              "      <td>1.376496</td>\n",
              "      <td>-0.087208</td>\n",
              "      <td>-0.084951</td>\n",
              "      <td>-0.258811</td>\n",
              "      <td>0.087191</td>\n",
              "      <td>-0.041700</td>\n",
              "      <td>-0.158683</td>\n",
              "      <td>-0.012887</td>\n",
              "      <td>-0.111130</td>\n",
              "      <td>-0.007505</td>\n",
              "      <td>...</td>\n",
              "      <td>0.000000</td>\n",
              "      <td>0.000000</td>\n",
              "      <td>0.000000</td>\n",
              "      <td>0.000000</td>\n",
              "      <td>0.00000</td>\n",
              "      <td>-0.013465</td>\n",
              "      <td>-0.715201</td>\n",
              "      <td>0.000000</td>\n",
              "      <td>0.000000</td>\n",
              "      <td>0.000000</td>\n",
              "    </tr>\n",
              "    <tr>\n",
              "      <th>1982</th>\n",
              "      <td>0.764317</td>\n",
              "      <td>-0.357338</td>\n",
              "      <td>-0.196937</td>\n",
              "      <td>-0.433829</td>\n",
              "      <td>-0.108388</td>\n",
              "      <td>-0.010522</td>\n",
              "      <td>-0.538458</td>\n",
              "      <td>-0.211941</td>\n",
              "      <td>-0.156131</td>\n",
              "      <td>-0.452043</td>\n",
              "      <td>...</td>\n",
              "      <td>0.000000</td>\n",
              "      <td>0.000000</td>\n",
              "      <td>0.000000</td>\n",
              "      <td>0.000000</td>\n",
              "      <td>0.00000</td>\n",
              "      <td>-0.641513</td>\n",
              "      <td>0.043719</td>\n",
              "      <td>0.000000</td>\n",
              "      <td>0.000000</td>\n",
              "      <td>0.000000</td>\n",
              "    </tr>\n",
              "    <tr>\n",
              "      <th>1983</th>\n",
              "      <td>1.624118</td>\n",
              "      <td>0.064702</td>\n",
              "      <td>0.259954</td>\n",
              "      <td>0.297082</td>\n",
              "      <td>-0.146317</td>\n",
              "      <td>0.242856</td>\n",
              "      <td>-0.069399</td>\n",
              "      <td>0.022740</td>\n",
              "      <td>-0.165062</td>\n",
              "      <td>0.018552</td>\n",
              "      <td>...</td>\n",
              "      <td>1.198097</td>\n",
              "      <td>0.206157</td>\n",
              "      <td>0.000000</td>\n",
              "      <td>0.000000</td>\n",
              "      <td>0.00000</td>\n",
              "      <td>0.717042</td>\n",
              "      <td>0.207227</td>\n",
              "      <td>0.000000</td>\n",
              "      <td>-0.286570</td>\n",
              "      <td>0.000000</td>\n",
              "    </tr>\n",
              "    <tr>\n",
              "      <th>1984</th>\n",
              "      <td>1.500378</td>\n",
              "      <td>-0.141534</td>\n",
              "      <td>-0.128566</td>\n",
              "      <td>-0.025731</td>\n",
              "      <td>0.142605</td>\n",
              "      <td>-0.161209</td>\n",
              "      <td>-0.166435</td>\n",
              "      <td>-0.130824</td>\n",
              "      <td>0.011527</td>\n",
              "      <td>-0.410279</td>\n",
              "      <td>...</td>\n",
              "      <td>-0.283743</td>\n",
              "      <td>0.324074</td>\n",
              "      <td>0.000000</td>\n",
              "      <td>0.294304</td>\n",
              "      <td>0.00000</td>\n",
              "      <td>0.605802</td>\n",
              "      <td>0.545126</td>\n",
              "      <td>-0.401749</td>\n",
              "      <td>-0.011464</td>\n",
              "      <td>-0.091303</td>\n",
              "    </tr>\n",
              "    <tr>\n",
              "      <th>1985</th>\n",
              "      <td>1.368707</td>\n",
              "      <td>-0.121609</td>\n",
              "      <td>-0.338231</td>\n",
              "      <td>-0.382139</td>\n",
              "      <td>-0.020478</td>\n",
              "      <td>-0.130815</td>\n",
              "      <td>-0.258032</td>\n",
              "      <td>-0.040343</td>\n",
              "      <td>-0.059485</td>\n",
              "      <td>-0.123720</td>\n",
              "      <td>...</td>\n",
              "      <td>0.134474</td>\n",
              "      <td>-0.391836</td>\n",
              "      <td>0.490319</td>\n",
              "      <td>0.362322</td>\n",
              "      <td>-0.13024</td>\n",
              "      <td>-0.046661</td>\n",
              "      <td>-0.161557</td>\n",
              "      <td>0.138516</td>\n",
              "      <td>0.415375</td>\n",
              "      <td>1.027355</td>\n",
              "    </tr>\n",
              "  </tbody>\n",
              "</table>\n",
              "<p>5 rows × 92 columns</p>\n",
              "</div>"
            ],
            "text/plain": [
              "         Yield    AU_ALL    CS_ALL    EN_ALL    ES_ALL    MB_ALL    MN_ALL  \\\n",
              "Year                                                                         \n",
              "1981  1.376496 -0.087208 -0.084951 -0.258811  0.087191 -0.041700 -0.158683   \n",
              "1982  0.764317 -0.357338 -0.196937 -0.433829 -0.108388 -0.010522 -0.538458   \n",
              "1983  1.624118  0.064702  0.259954  0.297082 -0.146317  0.242856 -0.069399   \n",
              "1984  1.500378 -0.141534 -0.128566 -0.025731  0.142605 -0.161209 -0.166435   \n",
              "1985  1.368707 -0.121609 -0.338231 -0.382139 -0.020478 -0.130815 -0.258032   \n",
              "\n",
              "        RN_ALL    RS_ALL    SE_ALL  ...     ES_WI     MB_WI     MN_WI  \\\n",
              "Year                                ...                                 \n",
              "1981 -0.012887 -0.111130 -0.007505  ...  0.000000  0.000000  0.000000   \n",
              "1982 -0.211941 -0.156131 -0.452043  ...  0.000000  0.000000  0.000000   \n",
              "1983  0.022740 -0.165062  0.018552  ...  1.198097  0.206157  0.000000   \n",
              "1984 -0.130824  0.011527 -0.410279  ... -0.283743  0.324074  0.000000   \n",
              "1985 -0.040343 -0.059485 -0.123720  ...  0.134474 -0.391836  0.490319   \n",
              "\n",
              "         RN_WI    RS_WI     SE_WI     ST_WI     SV_WI     SW_WI     WT_WI  \n",
              "Year                                                                       \n",
              "1981  0.000000  0.00000 -0.013465 -0.715201  0.000000  0.000000  0.000000  \n",
              "1982  0.000000  0.00000 -0.641513  0.043719  0.000000  0.000000  0.000000  \n",
              "1983  0.000000  0.00000  0.717042  0.207227  0.000000 -0.286570  0.000000  \n",
              "1984  0.294304  0.00000  0.605802  0.545126 -0.401749 -0.011464 -0.091303  \n",
              "1985  0.362322 -0.13024 -0.046661 -0.161557  0.138516  0.415375  1.027355  \n",
              "\n",
              "[5 rows x 92 columns]"
            ]
          },
          "execution_count": 11,
          "metadata": {},
          "output_type": "execute_result"
        }
      ],
      "source": [
        "final_data.head()"
      ]
    },
    {
      "cell_type": "code",
      "execution_count": 234,
      "metadata": {
        "colab": {
          "base_uri": "https://localhost:8080/",
          "height": 139
        },
        "id": "tAliBObWtr1p",
        "outputId": "771f60c5-4828-4a47-8fde-e5eb7a9c1f94",
        "vscode": {
          "languageId": "python"
        }
      },
      "outputs": [],
      "source": [
        "final_data.to_csv('/home/matthewfarant123/apu-fyp/final_data.csv')"
      ]
    },
    {
      "cell_type": "markdown",
      "metadata": {
        "id": "eJb5WfRHzw-8"
      },
      "source": [
        "# Exploratory Data Analysis"
      ]
    },
    {
      "cell_type": "markdown",
      "metadata": {},
      "source": [
        "The Dependent Variable: Wheat Yield"
      ]
    },
    {
      "cell_type": "code",
      "execution_count": 257,
      "metadata": {
        "colab": {
          "base_uri": "https://localhost:8080/",
          "height": 297
        },
        "id": "RHktZXMkyBOf",
        "outputId": "7263d6c9-67b9-447b-e97e-47912ccca422",
        "vscode": {
          "languageId": "python"
        }
      },
      "outputs": [
        {
          "name": "stderr",
          "output_type": "stream",
          "text": [
            "/home/matthewfarant123/fyp_venv/lib/python3.8/site-packages/seaborn/_decorators.py:36: FutureWarning: Pass the following variables as keyword args: x, y. From version 0.12, the only valid positional argument will be `data`, and passing other arguments without an explicit keyword will result in an error or misinterpretation.\n",
            "  warnings.warn(\n"
          ]
        },
        {
          "data": {
            "text/plain": [
              "<matplotlib.pyplot._IoffContext at 0x7fd4c40586d0>"
            ]
          },
          "execution_count": 257,
          "metadata": {},
          "output_type": "execute_result"
        },
        {
          "data": {
            "image/png": "[encoded data removed]",
            "text/plain": [
              "<Figure size 432x288 with 1 Axes>"
            ]
          },
          "metadata": {
            "needs_background": "light"
          },
          "output_type": "display_data"
        }
      ],
      "source": [
        "original = final_data[['Year', 'Yield']]\n",
        "sn.lineplot(original['Year'], original['Yield'])\n",
        "plt.title('Australian Wheat Yield (t/ha)')\n",
        "plt.ioff()"
      ]
    },
    {
      "cell_type": "markdown",
      "metadata": {},
      "source": [
        "Summary"
      ]
    },
    {
      "cell_type": "code",
      "execution_count": 259,
      "metadata": {
        "vscode": {
          "languageId": "python"
        }
      },
      "outputs": [
        {
          "data": {
            "text/html": [
              "<div>\n",
              "<style scoped>\n",
              "    .dataframe tbody tr th:only-of-type {\n",
              "        vertical-align: middle;\n",
              "    }\n",
              "\n",
              "    .dataframe tbody tr th {\n",
              "        vertical-align: top;\n",
              "    }\n",
              "\n",
              "    .dataframe thead th {\n",
              "        text-align: right;\n",
              "    }\n",
              "</style>\n",
              "<table border=\"1\" class=\"dataframe\">\n",
              "  <thead>\n",
              "    <tr style=\"text-align: right;\">\n",
              "      <th></th>\n",
              "      <th>Yield</th>\n",
              "      <th>AU_ALL</th>\n",
              "      <th>CS_ALL</th>\n",
              "      <th>EN_ALL</th>\n",
              "      <th>ES_ALL</th>\n",
              "      <th>MB_ALL</th>\n",
              "      <th>MN_ALL</th>\n",
              "      <th>RN_ALL</th>\n",
              "      <th>RS_ALL</th>\n",
              "      <th>SE_ALL</th>\n",
              "      <th>...</th>\n",
              "      <th>ES_WI</th>\n",
              "      <th>MB_WI</th>\n",
              "      <th>MN_WI</th>\n",
              "      <th>RN_WI</th>\n",
              "      <th>RS_WI</th>\n",
              "      <th>SE_WI</th>\n",
              "      <th>ST_WI</th>\n",
              "      <th>SV_WI</th>\n",
              "      <th>SW_WI</th>\n",
              "      <th>WT_WI</th>\n",
              "    </tr>\n",
              "  </thead>\n",
              "  <tbody>\n",
              "    <tr>\n",
              "      <th>count</th>\n",
              "      <td>40.000000</td>\n",
              "      <td>40.000000</td>\n",
              "      <td>40.000000</td>\n",
              "      <td>40.000000</td>\n",
              "      <td>40.000000</td>\n",
              "      <td>40.000000</td>\n",
              "      <td>40.000000</td>\n",
              "      <td>40.000000</td>\n",
              "      <td>40.000000</td>\n",
              "      <td>40.000000</td>\n",
              "      <td>...</td>\n",
              "      <td>40.000000</td>\n",
              "      <td>40.000000</td>\n",
              "      <td>40.000000</td>\n",
              "      <td>40.000000</td>\n",
              "      <td>40.000000</td>\n",
              "      <td>40.000000</td>\n",
              "      <td>40.000000</td>\n",
              "      <td>40.000000</td>\n",
              "      <td>40.000000</td>\n",
              "      <td>40.000000</td>\n",
              "    </tr>\n",
              "    <tr>\n",
              "      <th>mean</th>\n",
              "      <td>1.699264</td>\n",
              "      <td>0.103778</td>\n",
              "      <td>0.104966</td>\n",
              "      <td>0.147466</td>\n",
              "      <td>0.107430</td>\n",
              "      <td>0.082501</td>\n",
              "      <td>0.082234</td>\n",
              "      <td>0.140301</td>\n",
              "      <td>0.083536</td>\n",
              "      <td>0.079385</td>\n",
              "      <td>...</td>\n",
              "      <td>0.006500</td>\n",
              "      <td>-0.050879</td>\n",
              "      <td>0.067831</td>\n",
              "      <td>-0.069410</td>\n",
              "      <td>-0.009495</td>\n",
              "      <td>-0.143772</td>\n",
              "      <td>0.007333</td>\n",
              "      <td>-0.040205</td>\n",
              "      <td>-0.096069</td>\n",
              "      <td>-0.103899</td>\n",
              "    </tr>\n",
              "    <tr>\n",
              "      <th>std</th>\n",
              "      <td>0.405127</td>\n",
              "      <td>0.246139</td>\n",
              "      <td>0.322618</td>\n",
              "      <td>0.383977</td>\n",
              "      <td>0.306619</td>\n",
              "      <td>0.235823</td>\n",
              "      <td>0.316262</td>\n",
              "      <td>0.362563</td>\n",
              "      <td>0.222652</td>\n",
              "      <td>0.292806</td>\n",
              "      <td>...</td>\n",
              "      <td>0.501714</td>\n",
              "      <td>0.341806</td>\n",
              "      <td>0.265681</td>\n",
              "      <td>0.212533</td>\n",
              "      <td>0.200427</td>\n",
              "      <td>0.531428</td>\n",
              "      <td>0.450955</td>\n",
              "      <td>0.424660</td>\n",
              "      <td>0.339861</td>\n",
              "      <td>0.365725</td>\n",
              "    </tr>\n",
              "    <tr>\n",
              "      <th>min</th>\n",
              "      <td>0.764317</td>\n",
              "      <td>-0.357338</td>\n",
              "      <td>-0.338231</td>\n",
              "      <td>-0.465697</td>\n",
              "      <td>-0.458022</td>\n",
              "      <td>-0.289545</td>\n",
              "      <td>-0.538458</td>\n",
              "      <td>-0.580156</td>\n",
              "      <td>-0.165062</td>\n",
              "      <td>-0.452043</td>\n",
              "      <td>...</td>\n",
              "      <td>-0.851683</td>\n",
              "      <td>-0.818370</td>\n",
              "      <td>-0.405833</td>\n",
              "      <td>-0.535596</td>\n",
              "      <td>-0.418297</td>\n",
              "      <td>-1.225444</td>\n",
              "      <td>-0.966398</td>\n",
              "      <td>-0.842845</td>\n",
              "      <td>-0.800303</td>\n",
              "      <td>-0.681513</td>\n",
              "    </tr>\n",
              "    <tr>\n",
              "      <th>25%</th>\n",
              "      <td>1.469348</td>\n",
              "      <td>-0.061992</td>\n",
              "      <td>-0.120781</td>\n",
              "      <td>-0.137139</td>\n",
              "      <td>-0.035045</td>\n",
              "      <td>-0.080400</td>\n",
              "      <td>-0.140351</td>\n",
              "      <td>-0.088925</td>\n",
              "      <td>-0.052139</td>\n",
              "      <td>-0.121184</td>\n",
              "      <td>...</td>\n",
              "      <td>-0.285168</td>\n",
              "      <td>-0.198445</td>\n",
              "      <td>-0.023995</td>\n",
              "      <td>-0.188076</td>\n",
              "      <td>-0.115443</td>\n",
              "      <td>-0.391016</td>\n",
              "      <td>-0.173355</td>\n",
              "      <td>-0.267295</td>\n",
              "      <td>-0.360390</td>\n",
              "      <td>-0.397172</td>\n",
              "    </tr>\n",
              "    <tr>\n",
              "      <th>50%</th>\n",
              "      <td>1.726303</td>\n",
              "      <td>0.068389</td>\n",
              "      <td>0.043390</td>\n",
              "      <td>0.129903</td>\n",
              "      <td>0.089154</td>\n",
              "      <td>-0.007452</td>\n",
              "      <td>0.032646</td>\n",
              "      <td>0.078232</td>\n",
              "      <td>0.013456</td>\n",
              "      <td>0.005524</td>\n",
              "      <td>...</td>\n",
              "      <td>0.000000</td>\n",
              "      <td>-0.013759</td>\n",
              "      <td>0.000000</td>\n",
              "      <td>0.000000</td>\n",
              "      <td>0.000000</td>\n",
              "      <td>-0.026186</td>\n",
              "      <td>0.000000</td>\n",
              "      <td>0.000000</td>\n",
              "      <td>0.000000</td>\n",
              "      <td>0.000000</td>\n",
              "    </tr>\n",
              "    <tr>\n",
              "      <th>75%</th>\n",
              "      <td>1.980683</td>\n",
              "      <td>0.215775</td>\n",
              "      <td>0.259965</td>\n",
              "      <td>0.330542</td>\n",
              "      <td>0.257172</td>\n",
              "      <td>0.256259</td>\n",
              "      <td>0.231545</td>\n",
              "      <td>0.328915</td>\n",
              "      <td>0.167556</td>\n",
              "      <td>0.256328</td>\n",
              "      <td>...</td>\n",
              "      <td>0.136000</td>\n",
              "      <td>0.000000</td>\n",
              "      <td>0.131919</td>\n",
              "      <td>0.000000</td>\n",
              "      <td>0.044566</td>\n",
              "      <td>0.000000</td>\n",
              "      <td>0.183051</td>\n",
              "      <td>0.091730</td>\n",
              "      <td>0.020310</td>\n",
              "      <td>0.000000</td>\n",
              "    </tr>\n",
              "    <tr>\n",
              "      <th>max</th>\n",
              "      <td>2.609986</td>\n",
              "      <td>0.598915</td>\n",
              "      <td>1.080116</td>\n",
              "      <td>1.042626</td>\n",
              "      <td>1.086690</td>\n",
              "      <td>0.558293</td>\n",
              "      <td>0.892299</td>\n",
              "      <td>1.118792</td>\n",
              "      <td>0.870140</td>\n",
              "      <td>0.691664</td>\n",
              "      <td>...</td>\n",
              "      <td>1.511616</td>\n",
              "      <td>0.829485</td>\n",
              "      <td>0.875341</td>\n",
              "      <td>0.362322</td>\n",
              "      <td>0.459011</td>\n",
              "      <td>1.004991</td>\n",
              "      <td>1.058741</td>\n",
              "      <td>1.364023</td>\n",
              "      <td>0.782566</td>\n",
              "      <td>1.027355</td>\n",
              "    </tr>\n",
              "  </tbody>\n",
              "</table>\n",
              "<p>8 rows × 92 columns</p>\n",
              "</div>"
            ],
            "text/plain": [
              "           Yield     AU_ALL     CS_ALL     EN_ALL     ES_ALL     MB_ALL  \\\n",
              "count  40.000000  40.000000  40.000000  40.000000  40.000000  40.000000   \n",
              "mean    1.699264   0.103778   0.104966   0.147466   0.107430   0.082501   \n",
              "std     0.405127   0.246139   0.322618   0.383977   0.306619   0.235823   \n",
              "min     0.764317  -0.357338  -0.338231  -0.465697  -0.458022  -0.289545   \n",
              "25%     1.469348  -0.061992  -0.120781  -0.137139  -0.035045  -0.080400   \n",
              "50%     1.726303   0.068389   0.043390   0.129903   0.089154  -0.007452   \n",
              "75%     1.980683   0.215775   0.259965   0.330542   0.257172   0.256259   \n",
              "max     2.609986   0.598915   1.080116   1.042626   1.086690   0.558293   \n",
              "\n",
              "          MN_ALL     RN_ALL     RS_ALL     SE_ALL  ...      ES_WI      MB_WI  \\\n",
              "count  40.000000  40.000000  40.000000  40.000000  ...  40.000000  40.000000   \n",
              "mean    0.082234   0.140301   0.083536   0.079385  ...   0.006500  -0.050879   \n",
              "std     0.316262   0.362563   0.222652   0.292806  ...   0.501714   0.341806   \n",
              "min    -0.538458  -0.580156  -0.165062  -0.452043  ...  -0.851683  -0.818370   \n",
              "25%    -0.140351  -0.088925  -0.052139  -0.121184  ...  -0.285168  -0.198445   \n",
              "50%     0.032646   0.078232   0.013456   0.005524  ...   0.000000  -0.013759   \n",
              "75%     0.231545   0.328915   0.167556   0.256328  ...   0.136000   0.000000   \n",
              "max     0.892299   1.118792   0.870140   0.691664  ...   1.511616   0.829485   \n",
              "\n",
              "           MN_WI      RN_WI      RS_WI      SE_WI      ST_WI      SV_WI  \\\n",
              "count  40.000000  40.000000  40.000000  40.000000  40.000000  40.000000   \n",
              "mean    0.067831  -0.069410  -0.009495  -0.143772   0.007333  -0.040205   \n",
              "std     0.265681   0.212533   0.200427   0.531428   0.450955   0.424660   \n",
              "min    -0.405833  -0.535596  -0.418297  -1.225444  -0.966398  -0.842845   \n",
              "25%    -0.023995  -0.188076  -0.115443  -0.391016  -0.173355  -0.267295   \n",
              "50%     0.000000   0.000000   0.000000  -0.026186   0.000000   0.000000   \n",
              "75%     0.131919   0.000000   0.044566   0.000000   0.183051   0.091730   \n",
              "max     0.875341   0.362322   0.459011   1.004991   1.058741   1.364023   \n",
              "\n",
              "           SW_WI      WT_WI  \n",
              "count  40.000000  40.000000  \n",
              "mean   -0.096069  -0.103899  \n",
              "std     0.339861   0.365725  \n",
              "min    -0.800303  -0.681513  \n",
              "25%    -0.360390  -0.397172  \n",
              "50%     0.000000   0.000000  \n",
              "75%     0.020310   0.000000  \n",
              "max     0.782566   1.027355  \n",
              "\n",
              "[8 rows x 92 columns]"
            ]
          },
          "execution_count": 259,
          "metadata": {},
          "output_type": "execute_result"
        }
      ],
      "source": [
        "final_data.describe()"
      ]
    },
    {
      "cell_type": "code",
      "execution_count": 281,
      "metadata": {
        "vscode": {
          "languageId": "python"
        }
      },
      "outputs": [
        {
          "data": {
            "text/plain": [
              "<matplotlib.pyplot._IoffContext at 0x7fd44eee2fa0>"
            ]
          },
          "execution_count": 281,
          "metadata": {},
          "output_type": "execute_result"
        },
        {
          "data": {
            "image/png": "[encoded data removed]",
            "text/plain": [
              "<Figure size 576x3024 with 1 Axes>"
            ]
          },
          "metadata": {},
          "output_type": "display_data"
        }
      ],
      "source": [
        "sn.set(rc={'figure.figsize':(8,42)})\n",
        "plt.boxplot(final_data,vert=False)\n",
        "plt.yticks(list(range(1,93)),list(final_data.columns))\n",
        "plt.ioff()"
      ]
    },
    {
      "cell_type": "markdown",
      "metadata": {},
      "source": [
        "Pandas Profiling"
      ]
    },
    {
      "cell_type": "code",
      "execution_count": 286,
      "metadata": {
        "vscode": {
          "languageId": "python"
        }
      },
      "outputs": [],
      "source": [
        "from pandas_profiling import ProfileReport"
      ]
    },
    {
      "cell_type": "code",
      "execution_count": null,
      "metadata": {
        "vscode": {
          "languageId": "python"
        }
      },
      "outputs": [],
      "source": [
        "profile = ProfileReport(final_data)\n",
        "profile.to_file('EDA.html')"
      ]
    },
    {
      "cell_type": "markdown",
      "metadata": {
        "id": "0_n2mcl0Zl7Z"
      },
      "source": [
        "# Modelling\n"
      ]
    },
    {
      "cell_type": "code",
      "execution_count": 13,
      "metadata": {
        "id": "2xHlxfQRZlnS",
        "vscode": {
          "languageId": "python"
        }
      },
      "outputs": [],
      "source": [
        "import tensorflow as tf\n",
        "import hp\n",
        "import keras\n",
        "from kerastuner.tuners import BayesianOptimization\n",
        "from sklearn.metrics import mean_absolute_error,mean_squared_error,mean_absolute_percentage_error,r2_score\n",
        "from tensorflow.keras.models import Sequential\n",
        "from tensorflow.keras.layers import LSTM\n",
        "from tensorflow.keras.layers import Dense, Dropout\n",
        "from tensorflow.keras.callbacks import EarlyStopping\n",
        "from sklearn.preprocessing import StandardScaler"
      ]
    },
    {
      "cell_type": "code",
      "execution_count": 14,
      "metadata": {
        "colab": {
          "base_uri": "https://localhost:8080/"
        },
        "id": "etkW71ewZs9g",
        "outputId": "90b08b35-5d56-4144-e020-e2c037c681a6",
        "vscode": {
          "languageId": "python"
        }
      },
      "outputs": [
        {
          "data": {
            "text/plain": [
              "array([-8.06857783e-01, -7.85812268e-01, -5.96172545e-01, -1.07155286e+00,\n",
              "       -6.68477519e-02, -5.33380094e-01, -7.71471248e-01, -4.27896266e-01,\n",
              "       -8.85442455e-01, -3.00530509e-01, -1.31110667e-01, -8.40321077e-01,\n",
              "       -6.16524746e-01,  4.01336447e-01, -3.40624450e-01,  3.05610000e-01,\n",
              "        3.66667025e-01,  1.26091549e+00, -1.06312378e+00, -6.93737632e-01,\n",
              "       -5.63230511e-01,  8.07586599e-02, -1.25689849e+00, -1.65766226e+00,\n",
              "        4.69463929e-01, -7.62374773e-01,  2.05662090e-01,  3.60656424e-01,\n",
              "       -6.90723972e-02,  4.55166546e-01, -1.24998940e-03, -2.69826402e-01,\n",
              "        1.39891891e+00,  6.44798079e-01, -9.01853889e-01,  3.55468452e-01,\n",
              "        1.42733327e-01, -4.85079521e-01, -6.36394816e-01,  1.64944036e+00,\n",
              "       -9.53366377e-01, -1.24835052e+00,  4.68271589e-01, -1.27980034e+00,\n",
              "       -3.52800749e-01, -4.22446631e-01, -2.92728276e-01, -8.07666357e-01,\n",
              "       -3.28309002e-01,  0.00000000e+00,  0.00000000e+00, -1.10331166e+00,\n",
              "       -8.25582275e-01, -6.32335554e-01, -5.43835211e-01, -7.49393125e-01,\n",
              "       -5.04558867e-01, -3.86182136e-01, -6.16563767e-01, -6.26642611e-01,\n",
              "       -4.49505478e-01, -3.12701529e-01, -2.58308011e-01, -3.29615916e-01,\n",
              "       -4.94627331e-01, -4.74576260e-01, -8.45361460e-01,  5.86008404e-01,\n",
              "       -2.63523153e-01,  3.93605745e-01, -3.04289612e-01, -1.11220621e+00,\n",
              "       -1.81803421e+00, -8.87231665e-01, -7.67289110e-01,  2.07744364e-01,\n",
              "       -3.18546030e-01, -2.35732138e+00, -7.37685056e-01,  1.72498792e-01,\n",
              "       -2.34940942e-01, -3.48546389e-02, -1.31212745e-02,  1.50749832e-01,\n",
              "       -2.58561722e-01,  3.30743089e-01,  4.79783052e-02,  2.48324415e-01,\n",
              "       -1.62264127e+00,  9.58816983e-02,  2.86272705e-01,  2.87710036e-01])"
            ]
          },
          "execution_count": 14,
          "metadata": {},
          "output_type": "execute_result"
        }
      ],
      "source": [
        "#Scaling The Data\n",
        "\n",
        "scaler = StandardScaler()\n",
        "scaled = scaler.fit_transform(final_data.values)\n",
        "scaled[0]"
      ]
    },
    {
      "cell_type": "code",
      "execution_count": 15,
      "metadata": {
        "id": "uYPFn_y9aVky",
        "vscode": {
          "languageId": "python"
        }
      },
      "outputs": [],
      "source": [
        "#Convert into supervised form\n",
        "\n",
        "def to_supervised(data,dropNa = True,lag = 1):\n",
        "    df = pd.DataFrame(data)\n",
        "    column = []\n",
        "    column.append(df)\n",
        "    for i in range(1,lag+1):\n",
        "        column.append(df.shift(-i))\n",
        "    df = pd.concat(column,axis=1)\n",
        "    df.dropna(inplace = True)\n",
        "    features = data.shape[1]\n",
        "    df = df.values\n",
        "    supervised_data = df[:,:features*lag]\n",
        "    supervised_data = np.column_stack( [supervised_data, df[:,features*lag]])\n",
        "    return supervised_data"
      ]
    },
    {
      "cell_type": "code",
      "execution_count": 16,
      "metadata": {
        "colab": {
          "base_uri": "https://localhost:8080/",
          "height": 299
        },
        "id": "52aUwfQIaw00",
        "outputId": "f74a7003-703f-49d2-e79d-59025714c29b",
        "vscode": {
          "languageId": "python"
        }
      },
      "outputs": [
        {
          "data": {
            "text/html": [
              "<div>\n",
              "<style scoped>\n",
              "    .dataframe tbody tr th:only-of-type {\n",
              "        vertical-align: middle;\n",
              "    }\n",
              "\n",
              "    .dataframe tbody tr th {\n",
              "        vertical-align: top;\n",
              "    }\n",
              "\n",
              "    .dataframe thead th {\n",
              "        text-align: right;\n",
              "    }\n",
              "</style>\n",
              "<table border=\"1\" class=\"dataframe\">\n",
              "  <thead>\n",
              "    <tr style=\"text-align: right;\">\n",
              "      <th></th>\n",
              "      <th>0</th>\n",
              "      <th>1</th>\n",
              "      <th>2</th>\n",
              "      <th>3</th>\n",
              "      <th>4</th>\n",
              "      <th>5</th>\n",
              "      <th>6</th>\n",
              "      <th>7</th>\n",
              "      <th>8</th>\n",
              "      <th>9</th>\n",
              "      <th>...</th>\n",
              "      <th>451</th>\n",
              "      <th>452</th>\n",
              "      <th>453</th>\n",
              "      <th>454</th>\n",
              "      <th>455</th>\n",
              "      <th>456</th>\n",
              "      <th>457</th>\n",
              "      <th>458</th>\n",
              "      <th>459</th>\n",
              "      <th>460</th>\n",
              "    </tr>\n",
              "  </thead>\n",
              "  <tbody>\n",
              "    <tr>\n",
              "      <th>0</th>\n",
              "      <td>-0.806858</td>\n",
              "      <td>-0.785812</td>\n",
              "      <td>-0.596173</td>\n",
              "      <td>-1.071553</td>\n",
              "      <td>-0.066848</td>\n",
              "      <td>-0.533380</td>\n",
              "      <td>-0.771471</td>\n",
              "      <td>-0.427896</td>\n",
              "      <td>-0.885442</td>\n",
              "      <td>-0.300531</td>\n",
              "      <td>...</td>\n",
              "      <td>-1.010224</td>\n",
              "      <td>1.610470</td>\n",
              "      <td>2.057235</td>\n",
              "      <td>-0.610113</td>\n",
              "      <td>0.185064</td>\n",
              "      <td>-0.379286</td>\n",
              "      <td>0.426218</td>\n",
              "      <td>1.524034</td>\n",
              "      <td>3.132590</td>\n",
              "      <td>-0.629114</td>\n",
              "    </tr>\n",
              "    <tr>\n",
              "      <th>1</th>\n",
              "      <td>-2.337185</td>\n",
              "      <td>-1.897260</td>\n",
              "      <td>-0.947711</td>\n",
              "      <td>-1.533164</td>\n",
              "      <td>-0.712829</td>\n",
              "      <td>-0.399485</td>\n",
              "      <td>-1.987593</td>\n",
              "      <td>-0.983909</td>\n",
              "      <td>-1.090134</td>\n",
              "      <td>-1.838072</td>\n",
              "      <td>...</td>\n",
              "      <td>0.069217</td>\n",
              "      <td>0.049403</td>\n",
              "      <td>0.484673</td>\n",
              "      <td>-0.434349</td>\n",
              "      <td>-0.416426</td>\n",
              "      <td>0.775949</td>\n",
              "      <td>-0.503375</td>\n",
              "      <td>-1.220427</td>\n",
              "      <td>-0.398338</td>\n",
              "      <td>-0.836876</td>\n",
              "    </tr>\n",
              "    <tr>\n",
              "      <th>2</th>\n",
              "      <td>-0.187850</td>\n",
              "      <td>-0.160778</td>\n",
              "      <td>0.486527</td>\n",
              "      <td>0.394612</td>\n",
              "      <td>-0.838107</td>\n",
              "      <td>0.688643</td>\n",
              "      <td>-0.485563</td>\n",
              "      <td>-0.328380</td>\n",
              "      <td>-1.130755</td>\n",
              "      <td>-0.210406</td>\n",
              "      <td>...</td>\n",
              "      <td>-1.435234</td>\n",
              "      <td>0.085588</td>\n",
              "      <td>1.938522</td>\n",
              "      <td>-0.253155</td>\n",
              "      <td>-0.457527</td>\n",
              "      <td>-1.008052</td>\n",
              "      <td>0.040682</td>\n",
              "      <td>1.271272</td>\n",
              "      <td>2.358613</td>\n",
              "      <td>-0.301321</td>\n",
              "    </tr>\n",
              "    <tr>\n",
              "      <th>3</th>\n",
              "      <td>-0.497177</td>\n",
              "      <td>-1.009337</td>\n",
              "      <td>-0.733086</td>\n",
              "      <td>-0.456807</td>\n",
              "      <td>0.116182</td>\n",
              "      <td>-1.046610</td>\n",
              "      <td>-0.796293</td>\n",
              "      <td>-0.757326</td>\n",
              "      <td>-0.327536</td>\n",
              "      <td>-1.693621</td>\n",
              "      <td>...</td>\n",
              "      <td>-0.831663</td>\n",
              "      <td>-0.320844</td>\n",
              "      <td>-0.317692</td>\n",
              "      <td>-2.065643</td>\n",
              "      <td>0.084586</td>\n",
              "      <td>-1.727291</td>\n",
              "      <td>0.724375</td>\n",
              "      <td>0.110055</td>\n",
              "      <td>0.490997</td>\n",
              "      <td>-0.301303</td>\n",
              "    </tr>\n",
              "    <tr>\n",
              "      <th>4</th>\n",
              "      <td>-0.826327</td>\n",
              "      <td>-0.927356</td>\n",
              "      <td>-1.391250</td>\n",
              "      <td>-1.396830</td>\n",
              "      <td>-0.422471</td>\n",
              "      <td>-0.916080</td>\n",
              "      <td>-1.089609</td>\n",
              "      <td>-0.504588</td>\n",
              "      <td>-0.650535</td>\n",
              "      <td>-0.702487</td>\n",
              "      <td>...</td>\n",
              "      <td>-0.155783</td>\n",
              "      <td>-0.585720</td>\n",
              "      <td>-1.957148</td>\n",
              "      <td>-0.734671</td>\n",
              "      <td>-0.457527</td>\n",
              "      <td>0.140558</td>\n",
              "      <td>-1.914156</td>\n",
              "      <td>0.528354</td>\n",
              "      <td>1.604321</td>\n",
              "      <td>-0.162181</td>\n",
              "    </tr>\n",
              "  </tbody>\n",
              "</table>\n",
              "<p>5 rows × 461 columns</p>\n",
              "</div>"
            ],
            "text/plain": [
              "        0         1         2         3         4         5         6    \\\n",
              "0 -0.806858 -0.785812 -0.596173 -1.071553 -0.066848 -0.533380 -0.771471   \n",
              "1 -2.337185 -1.897260 -0.947711 -1.533164 -0.712829 -0.399485 -1.987593   \n",
              "2 -0.187850 -0.160778  0.486527  0.394612 -0.838107  0.688643 -0.485563   \n",
              "3 -0.497177 -1.009337 -0.733086 -0.456807  0.116182 -1.046610 -0.796293   \n",
              "4 -0.826327 -0.927356 -1.391250 -1.396830 -0.422471 -0.916080 -1.089609   \n",
              "\n",
              "        7         8         9    ...       451       452       453       454  \\\n",
              "0 -0.427896 -0.885442 -0.300531  ... -1.010224  1.610470  2.057235 -0.610113   \n",
              "1 -0.983909 -1.090134 -1.838072  ...  0.069217  0.049403  0.484673 -0.434349   \n",
              "2 -0.328380 -1.130755 -0.210406  ... -1.435234  0.085588  1.938522 -0.253155   \n",
              "3 -0.757326 -0.327536 -1.693621  ... -0.831663 -0.320844 -0.317692 -2.065643   \n",
              "4 -0.504588 -0.650535 -0.702487  ... -0.155783 -0.585720 -1.957148 -0.734671   \n",
              "\n",
              "        455       456       457       458       459       460  \n",
              "0  0.185064 -0.379286  0.426218  1.524034  3.132590 -0.629114  \n",
              "1 -0.416426  0.775949 -0.503375 -1.220427 -0.398338 -0.836876  \n",
              "2 -0.457527 -1.008052  0.040682  1.271272  2.358613 -0.301321  \n",
              "3  0.084586 -1.727291  0.724375  0.110055  0.490997 -0.301303  \n",
              "4 -0.457527  0.140558 -1.914156  0.528354  1.604321 -0.162181  \n",
              "\n",
              "[5 rows x 461 columns]"
            ]
          },
          "execution_count": 16,
          "metadata": {},
          "output_type": "execute_result"
        }
      ],
      "source": [
        "# Using Lags\n",
        "\n",
        "timeSteps = 5\n",
        "\n",
        "supervised = to_supervised(scaled,lag=timeSteps)\n",
        "pd.DataFrame(supervised).head()"
      ]
    },
    {
      "cell_type": "code",
      "execution_count": 17,
      "metadata": {
        "colab": {
          "base_uri": "https://localhost:8080/"
        },
        "id": "561Nkqxva3F3",
        "outputId": "e497836b-64e9-45e8-d655-b820136396ce",
        "vscode": {
          "languageId": "python"
        }
      },
      "outputs": [
        {
          "name": "stdout",
          "output_type": "stream",
          "text": [
            "(25, 460) (10, 460) (25,) (10,)\n"
          ]
        }
      ],
      "source": [
        "#Training and Testing Splitting\n",
        "\n",
        "features = final_data.shape[1]\n",
        "train_years = 25\n",
        "X = supervised[:,:features*timeSteps]\n",
        "y = supervised[:,features*timeSteps]\n",
        "\n",
        "x_train = X[:train_years,:]\n",
        "x_test = X[train_years:,:]\n",
        "y_train = y[:train_years]\n",
        "y_test = y[train_years:]\n",
        "\n",
        "print(x_train.shape,x_test.shape,y_train.shape,y_test.shape)"
      ]
    },
    {
      "cell_type": "code",
      "execution_count": 18,
      "metadata": {
        "colab": {
          "base_uri": "https://localhost:8080/"
        },
        "id": "9_5JJa7KbRPB",
        "outputId": "b82b0730-83fe-42a9-a923-80953df7429d",
        "vscode": {
          "languageId": "python"
        }
      },
      "outputs": [
        {
          "name": "stdout",
          "output_type": "stream",
          "text": [
            "(25, 5, 92) (10, 5, 92)\n"
          ]
        }
      ],
      "source": [
        "#Convert Data Shape to Fit LSTM Model\n",
        "\n",
        "x_train = x_train.reshape(x_train.shape[0], timeSteps, features)\n",
        "x_test = x_test.reshape(x_test.shape[0], timeSteps, features)\n",
        "\n",
        "print(x_train.shape,x_test.shape)"
      ]
    },
    {
      "cell_type": "markdown",
      "metadata": {},
      "source": [
        "Hyperparameter Tuning using Bayesian Optimization"
      ]
    },
    {
      "cell_type": "code",
      "execution_count": 41,
      "metadata": {
        "vscode": {
          "languageId": "python"
        }
      },
      "outputs": [
        {
          "name": "stdout",
          "output_type": "stream",
          "text": [
            "Trial 3 Complete [00h 00m 12s]\n",
            "mse: 0.00034235185012221336\n",
            "\n",
            "Best mse So Far: 0.00034235185012221336\n",
            "Total elapsed time: 00h 00m 37s\n",
            "INFO:tensorflow:Oracle triggered exit\n"
          ]
        }
      ],
      "source": [
        "def build(hp):\n",
        "    activation = hp.Choice('activation', \n",
        "                        [\n",
        "                          'relu',\n",
        "                          'tanh',\n",
        "                          'linear',\n",
        "                          'selu',\n",
        "                          'elu'\n",
        "                        ])\n",
        "\n",
        "    num_rnn_layers = hp.Int(\n",
        "                        'num_rnn_layers', \n",
        "                        min_value=0,\n",
        "                        max_value=12,\n",
        "                        default=3)\n",
        "\n",
        "    recurrent_dropout = hp.Float(\n",
        "                        'recurrent_dropout', \n",
        "                        min_value=0.0,\n",
        "                        max_value=0.5,\n",
        "                        default=0.2)\n",
        "    num_units = hp.Int(\n",
        "                        'num_units', \n",
        "                        min_value=0,\n",
        "                        max_value=64,\n",
        "                        default=32)\n",
        "    \n",
        "    model = Sequential()\n",
        "    model.add(LSTM(units=num_units, activation=activation, recurrent_dropout = recurrent_dropout,input_shape=( timeSteps,x_train.shape[2])))\n",
        "    model.add(Dense(1))\n",
        "\n",
        "    model.compile(\n",
        "      optimizer=tf.keras.optimizers.Adam(\n",
        "      hp.Float(\n",
        "        'learning_rate',\n",
        "        min_value=1e-10,\n",
        "        max_value=1e-2,\n",
        "        sampling='LOG',\n",
        "        default=1e-4\n",
        "            ),\n",
        "        ),\n",
        "        # loss=tf.losses.MeanSquaredError(),\n",
        "        loss = 'mse',\n",
        "        # metrics=[tf.metrics.MeanAbsoluteError()]\n",
        "        metrics = ['mse']\n",
        "    )\n",
        "    return model\n",
        "\n",
        "bayesian_opt_tuner = BayesianOptimization(\n",
        "    build,\n",
        "    objective='mse',\n",
        "    max_trials=3,\n",
        "    executions_per_trial=1,\n",
        "    directory=os.path.normpath('/home/matthewfarant123/apu-fyp/keras-tuning'),\n",
        "    project_name='kerastuner_bayesian_poc',\n",
        "    overwrite=True)\n",
        "n_epochs=100\n",
        "\n",
        "bayesian_opt_tuner.search(x_train, y_train,epochs=n_epochs,\n",
        "     validation_data=(x_test, y_test),\n",
        "      batch_size=int(len(x_train)/2),\n",
        "     validation_split=0.2,verbose=1)\n",
        "\n",
        "\n",
        "bayes_opt_model_best_model = bayesian_opt_tuner.get_best_models(num_models=1)\n",
        "model = bayes_opt_model_best_model[0]"
      ]
    },
    {
      "cell_type": "code",
      "execution_count": 42,
      "metadata": {
        "vscode": {
          "languageId": "python"
        }
      },
      "outputs": [
        {
          "name": "stdout",
          "output_type": "stream",
          "text": [
            "Model: \"sequential\"\n",
            "_________________________________________________________________\n",
            " Layer (type)                Output Shape              Param #   \n",
            "=================================================================\n",
            " lstm (LSTM)                 (None, 64)                40192     \n",
            "                                                                 \n",
            " dense (Dense)               (None, 1)                 65        \n",
            "                                                                 \n",
            "=================================================================\n",
            "Total params: 40,257\n",
            "Trainable params: 40,257\n",
            "Non-trainable params: 0\n",
            "_________________________________________________________________\n",
            "None\n"
          ]
        }
      ],
      "source": [
        "print(model.summary())"
      ]
    },
    {
      "cell_type": "code",
      "execution_count": 43,
      "metadata": {
        "id": "Izf3YcEQbWF-",
        "vscode": {
          "languageId": "python"
        }
      },
      "outputs": [],
      "source": [
        "history =  model.fit( x_train,y_train,\n",
        "                     validation_data = (x_test,y_test),\n",
        "                     epochs = 100 ,\n",
        "                     batch_size = 1,\n",
        "                     callbacks=[EarlyStopping(monitor='val_loss', patience=10)],\n",
        "                     verbose = 0,\n",
        "                     shuffle = False)"
      ]
    },
    {
      "cell_type": "code",
      "execution_count": 100,
      "metadata": {
        "colab": {
          "base_uri": "https://localhost:8080/",
          "height": 281
        },
        "id": "wP8UC14lbjHu",
        "outputId": "cb52ae4f-a146-45f7-a4f4-d7b4722741e7",
        "vscode": {
          "languageId": "python"
        }
      },
      "outputs": [
        {
          "data": {
            "image/png": "[encoded data removed]",
            "text/plain": [
              "<Figure size 432x288 with 1 Axes>"
            ]
          },
          "metadata": {
            "needs_background": "light"
          },
          "output_type": "display_data"
        }
      ],
      "source": [
        "#Learning Curves\n",
        "\n",
        "plt.plot(history.history['loss'], label='train')\n",
        "plt.plot(history.history['val_loss'], label='test')\n",
        "plt.legend()\n",
        "plt.title(\"Loss During Training\")\n",
        "plt.show()"
      ]
    },
    {
      "cell_type": "code",
      "execution_count": 45,
      "metadata": {
        "id": "p0fFzlDFc8yU",
        "vscode": {
          "languageId": "python"
        }
      },
      "outputs": [],
      "source": [
        "#Scaling Back the Wheat Yield Data to Original Scale\n",
        "\n",
        "y_pred = model.predict(x_test)\n",
        "x_test = x_test.reshape(x_test.shape[0],x_test.shape[2]*x_test.shape[1])\n",
        "\n",
        "inv_new = np.concatenate( (y_pred, x_test[:,-91:] ) , axis =1)\n",
        "inv_new = scaler.inverse_transform(inv_new)\n",
        "final_pred = inv_new[:,0]\n",
        "\n",
        "y_test = y_test.reshape( len(y_test), 1)\n",
        "\n",
        "inv_new = np.concatenate( (y_test, x_test[:,-91:] ) ,axis = 1)\n",
        "inv_new = scaler.inverse_transform(inv_new)\n",
        "actual_pred = inv_new[:,0]"
      ]
    },
    {
      "cell_type": "code",
      "execution_count": 55,
      "metadata": {
        "colab": {
          "base_uri": "https://localhost:8080/",
          "height": 363
        },
        "id": "dVG1T9_ifY-X",
        "outputId": "4a603444-165f-4087-cba8-2619dc60e50e",
        "vscode": {
          "languageId": "python"
        }
      },
      "outputs": [
        {
          "data": {
            "text/html": [
              "<div>\n",
              "<style scoped>\n",
              "    .dataframe tbody tr th:only-of-type {\n",
              "        vertical-align: middle;\n",
              "    }\n",
              "\n",
              "    .dataframe tbody tr th {\n",
              "        vertical-align: top;\n",
              "    }\n",
              "\n",
              "    .dataframe thead th {\n",
              "        text-align: right;\n",
              "    }\n",
              "</style>\n",
              "<table border=\"1\" class=\"dataframe\">\n",
              "  <thead>\n",
              "    <tr style=\"text-align: right;\">\n",
              "      <th></th>\n",
              "      <th>Date</th>\n",
              "      <th>Yield</th>\n",
              "    </tr>\n",
              "  </thead>\n",
              "  <tbody>\n",
              "    <tr>\n",
              "      <th>0</th>\n",
              "      <td>2011</td>\n",
              "      <td>2.174445</td>\n",
              "    </tr>\n",
              "    <tr>\n",
              "      <th>1</th>\n",
              "      <td>2012</td>\n",
              "      <td>1.651292</td>\n",
              "    </tr>\n",
              "    <tr>\n",
              "      <th>2</th>\n",
              "      <td>2013</td>\n",
              "      <td>1.809923</td>\n",
              "    </tr>\n",
              "    <tr>\n",
              "      <th>3</th>\n",
              "      <td>2014</td>\n",
              "      <td>1.772661</td>\n",
              "    </tr>\n",
              "    <tr>\n",
              "      <th>4</th>\n",
              "      <td>2015</td>\n",
              "      <td>2.006571</td>\n",
              "    </tr>\n",
              "    <tr>\n",
              "      <th>5</th>\n",
              "      <td>2016</td>\n",
              "      <td>2.243110</td>\n",
              "    </tr>\n",
              "    <tr>\n",
              "      <th>6</th>\n",
              "      <td>2017</td>\n",
              "      <td>1.756282</td>\n",
              "    </tr>\n",
              "    <tr>\n",
              "      <th>7</th>\n",
              "      <td>2018</td>\n",
              "      <td>1.549646</td>\n",
              "    </tr>\n",
              "    <tr>\n",
              "      <th>8</th>\n",
              "      <td>2019</td>\n",
              "      <td>1.409169</td>\n",
              "    </tr>\n",
              "    <tr>\n",
              "      <th>9</th>\n",
              "      <td>2020</td>\n",
              "      <td>2.230486</td>\n",
              "    </tr>\n",
              "  </tbody>\n",
              "</table>\n",
              "</div>"
            ],
            "text/plain": [
              "   Date     Yield\n",
              "0  2011  2.174445\n",
              "1  2012  1.651292\n",
              "2  2013  1.809923\n",
              "3  2014  1.772661\n",
              "4  2015  2.006571\n",
              "5  2016  2.243110\n",
              "6  2017  1.756282\n",
              "7  2018  1.549646\n",
              "8  2019  1.409169\n",
              "9  2020  2.230486"
            ]
          },
          "execution_count": 55,
          "metadata": {},
          "output_type": "execute_result"
        }
      ],
      "source": [
        "#Predicted Year\n",
        "\n",
        "df_forecast = pd.DataFrame({'Date':np.arange(start=2021-len(final_pred), stop=2021, step=1), 'Yield':final_pred})\n",
        "df_forecast"
      ]
    },
    {
      "cell_type": "code",
      "execution_count": 47,
      "metadata": {
        "id": "IPNjXuNIl1Jo",
        "vscode": {
          "languageId": "python"
        }
      },
      "outputs": [],
      "source": [
        "final_data['Year'] = final_data.index"
      ]
    },
    {
      "cell_type": "code",
      "execution_count": 56,
      "metadata": {
        "colab": {
          "base_uri": "https://localhost:8080/",
          "height": 313
        },
        "id": "NgM9lWWglNH_",
        "outputId": "5d595332-9666-41da-ffd1-773c423a37ac",
        "vscode": {
          "languageId": "python"
        }
      },
      "outputs": [
        {
          "name": "stderr",
          "output_type": "stream",
          "text": [
            "/home/matthewfarant123/fyp_venv/lib/python3.8/site-packages/seaborn/_decorators.py:36: FutureWarning: Pass the following variables as keyword args: x, y. From version 0.12, the only valid positional argument will be `data`, and passing other arguments without an explicit keyword will result in an error or misinterpretation.\n",
            "  warnings.warn(\n",
            "/home/matthewfarant123/fyp_venv/lib/python3.8/site-packages/seaborn/_decorators.py:36: FutureWarning: Pass the following variables as keyword args: x, y. From version 0.12, the only valid positional argument will be `data`, and passing other arguments without an explicit keyword will result in an error or misinterpretation.\n",
            "  warnings.warn(\n"
          ]
        },
        {
          "data": {
            "text/plain": [
              "<matplotlib.pyplot._IoffContext at 0x7f8de3d74880>"
            ]
          },
          "execution_count": 56,
          "metadata": {},
          "output_type": "execute_result"
        },
        {
          "data": {
            "image/png": "[encoded data removed]",
            "text/plain": [
              "<Figure size 432x288 with 1 Axes>"
            ]
          },
          "metadata": {
            "needs_background": "light"
          },
          "output_type": "display_data"
        }
      ],
      "source": [
        "#Actual vs. Forecast Plot\n",
        "\n",
        "original = final_data[['Year', 'Yield']]\n",
        "sn.lineplot(original['Year'], original['Yield'],label='Actual').set(title='Actual vs. Forecast (LSTM)',ylabel='Yield (t/ha)')\n",
        "sn.lineplot(df_forecast['Date'], df_forecast['Yield'],label='Forecast')\n",
        "plt.legend(loc='upper left')\n",
        "sn.lineplot()\n",
        "plt.ioff()"
      ]
    },
    {
      "cell_type": "code",
      "execution_count": 57,
      "metadata": {
        "colab": {
          "base_uri": "https://localhost:8080/"
        },
        "id": "qKGhxd3RgRi7",
        "outputId": "b1824ff3-c797-4044-ba72-6a8e2f02837d",
        "vscode": {
          "languageId": "python"
        }
      },
      "outputs": [
        {
          "name": "stdout",
          "output_type": "stream",
          "text": [
            "MAE: 0.159211466131598\n",
            "RMSE: 0.1961116289736265\n",
            "MAPE: 0.08321065675796067\n"
          ]
        }
      ],
      "source": [
        "from sklearn.metrics import mean_absolute_error,mean_squared_error,mean_absolute_percentage_error,r2_score\n",
        "\n",
        "print('MAE: '+ str(mean_absolute_error(final_pred,actual_pred)))\n",
        "print('RMSE: '+ str(np.sqrt(mean_squared_error(final_pred,actual_pred))))\n",
        "print('MAPE: '+ str(mean_absolute_percentage_error(final_pred,actual_pred)))"
      ]
    }
  ],
  "metadata": {
    "colab": {
      "collapsed_sections": [],
      "name": "FYP - LSTM.ipynb",
      "provenance": []
    },
    "kernelspec": {
      "display_name": "lstm-keras",
      "language": "python",
      "name": "lstm-keras"
    }
  },
  "nbformat": 4,
  "nbformat_minor": 0
}
