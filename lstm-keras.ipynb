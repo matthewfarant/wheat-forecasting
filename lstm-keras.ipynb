{
  "cells": [
    {
      "cell_type": "markdown",
      "metadata": {
        "id": "8mhnMrBOOFKl"
      },
      "source": [
        "# **Multivariate Time Series Forecasting of Wheat Yield in Australia Using LSTM**"
      ]
    },
    {
      "cell_type": "markdown",
      "metadata": {
        "id": "9HE2RetIyfBQ"
      },
      "source": [
        "This notebook shows the code for my Final Year Project: *Utilizing the Australian Actuaries Climate Index to Predict Wheat Yield in Australia: A Comparative Analysis of Vector Autoregression and Recurrent Neural Network*"
      ]
    },
    {
      "cell_type": "code",
      "execution_count": 3,
      "metadata": {},
      "outputs": [
        {
          "data": {
            "text/plain": [
              "'/home/matthewfarant123/apu-fyp'"
            ]
          },
          "execution_count": 3,
          "metadata": {},
          "output_type": "execute_result"
        }
      ],
      "source": [
        "import os\n",
        "os.getcwd()"
      ]
    },
    {
      "cell_type": "markdown",
      "metadata": {
        "id": "WxhixhKazHLv"
      },
      "source": [
        "# Data Pre-Processing"
      ]
    },
    {
      "cell_type": "code",
      "execution_count": 4,
      "metadata": {
        "id": "9YOczUCaEMdq"
      },
      "outputs": [],
      "source": [
        "# %matplotlib inline\n",
        "import numpy as np\n",
        "import pandas as pd\n",
        "import matplotlib.pyplot as plt\n",
        "import seaborn as sn\n",
        "from scipy import interpolate\n",
        "from pandasql import sqldf"
      ]
    },
    {
      "cell_type": "code",
      "execution_count": 5,
      "metadata": {
        "id": "0XIJd4NgEUVA"
      },
      "outputs": [],
      "source": [
        "#Import The AACI Dataset\n",
        "df_all = pd.read_csv('aaci_australia.csv')\n",
        "df_cdd = pd.read_csv('aaci_cdd_australia.csv')\n",
        "df_rainfall = pd.read_csv('aaci_rainfall_australia.csv')\n",
        "df_sealevel = pd.read_csv('aaci_sealevel_australia.csv')\n",
        "df_temphigh = pd.read_csv('aaci_temphigh_australia.csv')\n",
        "df_templow = pd.read_csv('aaci_templow_australia.csv')\n",
        "df_wind = pd.read_csv('aaci_wind_australia.csv')"
      ]
    },
    {
      "cell_type": "code",
      "execution_count": 6,
      "metadata": {
        "id": "AdOnG3YqHk06"
      },
      "outputs": [],
      "source": [
        "#Unpivot the AACI data\n",
        "sqlkey = lambda q : sqldf(q,globals())\n",
        "query = '''\n",
        "WITH grouped AS (\n",
        "  -- ALL\n",
        "  SELECT Year,\n",
        "    Region || '_ALL' Region,\n",
        "    AVG(AACI) AS AACI\n",
        "  FROM df_all\n",
        "  GROUP BY 1,2\n",
        "\n",
        "  UNION ALL\n",
        "  -- CDD\n",
        "  SELECT Year,\n",
        "    Region || '_CDD' Region,\n",
        "    AVG(AACI) AS AACI\n",
        "  FROM df_cdd\n",
        "  GROUP BY 1,2\n",
        "\n",
        "  UNION ALL\n",
        "  --RAINFALL\n",
        "  SELECT Year,\n",
        "    Region || '_RF' Region,\n",
        "    AVG(AACI) AS AACI\n",
        "  FROM df_rainfall\n",
        "  GROUP BY 1,2\n",
        "\n",
        "  UNION ALL\n",
        "  --SEALEVEL\n",
        "  SELECT Year,\n",
        "    Region || '_SL' Region,\n",
        "    AVG(AACI) AS AACI\n",
        "  FROM df_sealevel\n",
        "  GROUP BY 1,2\n",
        "\n",
        "  UNION ALL\n",
        "  --TEMPHIGH\n",
        "  SELECT Year,\n",
        "    Region || '_TH' Region,\n",
        "    AVG(AACI) AS AACI\n",
        "  FROM df_temphigh\n",
        "  GROUP BY 1,2\n",
        "\n",
        "  UNION ALL\n",
        "  --TEMPLOW\n",
        "  SELECT Year,\n",
        "    Region || '_TL' Region,\n",
        "    AVG(AACI) AS AACI\n",
        "  FROM df_templow\n",
        "  GROUP BY 1,2\n",
        "\n",
        "  UNION ALL\n",
        "  --WIND\n",
        "  SELECT Year,\n",
        "    Region || '_WI' Region,\n",
        "    AVG(AACI) AS AACI\n",
        "  FROM df_wind\n",
        "  GROUP BY 1,2\n",
        "), \n",
        "transposed AS (\n",
        "  SELECT Year,\n",
        "    --ALL\n",
        "    CASE WHEN Region = 'AU_ALL' THEN AACI END AS AU_ALL,\n",
        "    CASE WHEN Region = 'CS_ALL' THEN AACI END AS CS_ALL,\n",
        "    CASE WHEN Region = 'EN_ALL' THEN AACI END AS EN_ALL,\n",
        "    CASE WHEN Region = 'ES_ALL' THEN AACI END AS ES_ALL,\n",
        "    CASE WHEN Region = 'MB_ALL' THEN AACI END AS MB_ALL,\n",
        "    CASE WHEN Region = 'MN_ALL' THEN AACI END AS MN_ALL,\n",
        "    CASE WHEN Region = 'RN_ALL' THEN AACI END AS RN_ALL,\n",
        "    CASE WHEN Region = 'RS_ALL' THEN AACI END AS RS_ALL,\n",
        "    CASE WHEN Region = 'SE_ALL' THEN AACI END AS SE_ALL,\n",
        "    CASE WHEN Region = 'ST_ALL' THEN AACI END AS ST_ALL,\n",
        "    CASE WHEN Region = 'SV_ALL' THEN AACI END AS SV_ALL,\n",
        "    CASE WHEN Region = 'SW_ALL' THEN AACI END AS SW_ALL,\n",
        "    CASE WHEN Region = 'WT_ALL' THEN AACI END AS WT_ALL,\n",
        "    --CDD\n",
        "    CASE WHEN Region = 'AU_CDD' THEN AACI END AS AU_CDD,\n",
        "    CASE WHEN Region = 'CS_CDD' THEN AACI END AS CS_CDD,\n",
        "    CASE WHEN Region = 'EN_CDD' THEN AACI END AS EN_CDD,\n",
        "    CASE WHEN Region = 'ES_CDD' THEN AACI END AS ES_CDD,\n",
        "    CASE WHEN Region = 'MB_CDD' THEN AACI END AS MB_CDD,\n",
        "    CASE WHEN Region = 'MN_CDD' THEN AACI END AS MN_CDD,\n",
        "    CASE WHEN Region = 'RN_CDD' THEN AACI END AS RN_CDD,\n",
        "    CASE WHEN Region = 'RS_CDD' THEN AACI END AS RS_CDD,\n",
        "    CASE WHEN Region = 'SE_CDD' THEN AACI END AS SE_CDD,\n",
        "    CASE WHEN Region = 'ST_CDD' THEN AACI END AS ST_CDD,\n",
        "    CASE WHEN Region = 'SV_CDD' THEN AACI END AS SV_CDD,\n",
        "    CASE WHEN Region = 'SW_CDD' THEN AACI END AS SW_CDD,\n",
        "    CASE WHEN Region = 'WT_CDD' THEN AACI END AS WT_CDD,\n",
        "    --RAINFALL\n",
        "    CASE WHEN Region = 'AU_RF' THEN AACI END AS AU_RF,\n",
        "    CASE WHEN Region = 'CS_RF' THEN AACI END AS CS_RF,\n",
        "    CASE WHEN Region = 'EN_RF' THEN AACI END AS EN_RF,\n",
        "    CASE WHEN Region = 'ES_RF' THEN AACI END AS ES_RF,\n",
        "    CASE WHEN Region = 'MB_RF' THEN AACI END AS MB_RF,\n",
        "    CASE WHEN Region = 'MN_RF' THEN AACI END AS MN_RF,\n",
        "    CASE WHEN Region = 'RN_RF' THEN AACI END AS RN_RF,\n",
        "    CASE WHEN Region = 'RS_RF' THEN AACI END AS RS_RF,\n",
        "    CASE WHEN Region = 'SE_RF' THEN AACI END AS SE_RF,\n",
        "    CASE WHEN Region = 'ST_RF' THEN AACI END AS ST_RF,\n",
        "    CASE WHEN Region = 'SV_RF' THEN AACI END AS SV_RF,\n",
        "    CASE WHEN Region = 'SW_RF' THEN AACI END AS SW_RF,\n",
        "    CASE WHEN Region = 'WT_RF' THEN AACI END AS WT_RF,\n",
        "    --SEALEVEL\n",
        "    CASE WHEN Region = 'AU_SL' THEN AACI END AS AU_SL,\n",
        "    CASE WHEN Region = 'CS_SL' THEN AACI END AS CS_SL,\n",
        "    CASE WHEN Region = 'EN_SL' THEN AACI END AS EN_SL,\n",
        "    CASE WHEN Region = 'ES_SL' THEN AACI END AS ES_SL,\n",
        "    CASE WHEN Region = 'MB_SL' THEN AACI END AS MB_SL,\n",
        "    CASE WHEN Region = 'MN_SL' THEN AACI END AS MN_SL,\n",
        "    CASE WHEN Region = 'RN_SL' THEN AACI END AS RN_SL,\n",
        "    CASE WHEN Region = 'RS_SL' THEN AACI END AS RS_SL,\n",
        "    CASE WHEN Region = 'SE_SL' THEN AACI END AS SE_SL,\n",
        "    CASE WHEN Region = 'ST_SL' THEN AACI END AS ST_SL,\n",
        "    CASE WHEN Region = 'SV_SL' THEN AACI END AS SV_SL,\n",
        "    CASE WHEN Region = 'SW_SL' THEN AACI END AS SW_SL,\n",
        "    CASE WHEN Region = 'WT_SL' THEN AACI END AS WT_SL,\n",
        "    --TEMPHIGH\n",
        "    CASE WHEN Region = 'AU_TH' THEN AACI END AS AU_TH,\n",
        "    CASE WHEN Region = 'CS_TH' THEN AACI END AS CS_TH,\n",
        "    CASE WHEN Region = 'EN_TH' THEN AACI END AS EN_TH,\n",
        "    CASE WHEN Region = 'ES_TH' THEN AACI END AS ES_TH,\n",
        "    CASE WHEN Region = 'MB_TH' THEN AACI END AS MB_TH,\n",
        "    CASE WHEN Region = 'MN_TH' THEN AACI END AS MN_TH,\n",
        "    CASE WHEN Region = 'RN_TH' THEN AACI END AS RN_TH,\n",
        "    CASE WHEN Region = 'RS_TH' THEN AACI END AS RS_TH,\n",
        "    CASE WHEN Region = 'SE_TH' THEN AACI END AS SE_TH,\n",
        "    CASE WHEN Region = 'ST_TH' THEN AACI END AS ST_TH,\n",
        "    CASE WHEN Region = 'SV_TH' THEN AACI END AS SV_TH,\n",
        "    CASE WHEN Region = 'SW_TH' THEN AACI END AS SW_TH,\n",
        "    CASE WHEN Region = 'WT_TH' THEN AACI END AS WT_TH,\n",
        "    --TEMPLOW\n",
        "    CASE WHEN Region = 'AU_TL' THEN AACI END AS AU_TL,\n",
        "    CASE WHEN Region = 'CS_TL' THEN AACI END AS CS_TL,\n",
        "    CASE WHEN Region = 'EN_TL' THEN AACI END AS EN_TL,\n",
        "    CASE WHEN Region = 'ES_TL' THEN AACI END AS ES_TL,\n",
        "    CASE WHEN Region = 'MB_TL' THEN AACI END AS MB_TL,\n",
        "    CASE WHEN Region = 'MN_TL' THEN AACI END AS MN_TL,\n",
        "    CASE WHEN Region = 'RN_TL' THEN AACI END AS RN_TL,\n",
        "    CASE WHEN Region = 'RS_TL' THEN AACI END AS RS_TL,\n",
        "    CASE WHEN Region = 'SE_TL' THEN AACI END AS SE_TL,\n",
        "    CASE WHEN Region = 'ST_TL' THEN AACI END AS ST_TL,\n",
        "    CASE WHEN Region = 'SV_TL' THEN AACI END AS SV_TL,\n",
        "    CASE WHEN Region = 'SW_TL' THEN AACI END AS SW_TL,\n",
        "    CASE WHEN Region = 'WT_TL' THEN AACI END AS WT_TL,\n",
        "    --WIND\n",
        "    CASE WHEN Region = 'AU_WI' THEN AACI END AS AU_WI,\n",
        "    CASE WHEN Region = 'CS_WI' THEN AACI END AS CS_WI,\n",
        "    CASE WHEN Region = 'EN_WI' THEN AACI END AS EN_WI,\n",
        "    CASE WHEN Region = 'ES_WI' THEN AACI END AS ES_WI,\n",
        "    CASE WHEN Region = 'MB_WI' THEN AACI END AS MB_WI,\n",
        "    CASE WHEN Region = 'MN_WI' THEN AACI END AS MN_WI,\n",
        "    CASE WHEN Region = 'RN_WI' THEN AACI END AS RN_WI,\n",
        "    CASE WHEN Region = 'RS_WI' THEN AACI END AS RS_WI,\n",
        "    CASE WHEN Region = 'SE_WI' THEN AACI END AS SE_WI,\n",
        "    CASE WHEN Region = 'ST_WI' THEN AACI END AS ST_WI,\n",
        "    CASE WHEN Region = 'SV_WI' THEN AACI END AS SV_WI,\n",
        "    CASE WHEN Region = 'SW_WI' THEN AACI END AS SW_WI,\n",
        "    CASE WHEN Region = 'WT_WI' THEN AACI END AS WT_WI\n",
        "  FROM grouped\n",
        ")\n",
        "SELECT Year,\n",
        "    --ALL\n",
        "      SUM(AU_ALL) AS AU_ALL,\n",
        "      SUM(CS_ALL) AS CS_ALL,\n",
        "      SUM(EN_ALL) AS EN_ALL,\n",
        "      SUM(ES_ALL) AS ES_ALL,\n",
        "      SUM(MB_ALL) AS MB_ALL,\n",
        "      SUM(MN_ALL) AS MN_ALL,\n",
        "      SUM(RN_ALL) AS RN_ALL,\n",
        "      SUM(RS_ALL) AS RS_ALL,\n",
        "      SUM(SE_ALL) AS SE_ALL,\n",
        "      SUM(ST_ALL) AS ST_ALL,\n",
        "      SUM(SV_ALL) AS SV_ALL,\n",
        "      SUM(SW_ALL) AS SW_ALL,\n",
        "      SUM(WT_ALL) AS WT_ALL,\n",
        "    --CDD\n",
        "      SUM(AU_CDD) AS AU_CDD,\n",
        "      SUM(CS_CDD) AS CS_CDD,\n",
        "      SUM(EN_CDD) AS EN_CDD,\n",
        "      SUM(ES_CDD) AS ES_CDD,\n",
        "      SUM(MB_CDD) AS MB_CDD,\n",
        "      SUM(MN_CDD) AS MN_CDD,\n",
        "      SUM(RN_CDD) AS RN_CDD,\n",
        "      SUM(RS_CDD) AS RS_CDD,\n",
        "      SUM(SE_CDD) AS SE_CDD,\n",
        "      SUM(ST_CDD) AS ST_CDD,\n",
        "      SUM(SV_CDD) AS SV_CDD,\n",
        "      SUM(SW_CDD) AS SW_CDD,\n",
        "      SUM(WT_CDD) AS WT_CDD,\n",
        "    --RAINFALL\n",
        "      SUM(AU_RF) AS AU_RF,\n",
        "      SUM(CS_RF) AS CS_RF,\n",
        "      SUM(EN_RF) AS EN_RF,\n",
        "      SUM(ES_RF) AS ES_RF,\n",
        "      SUM(MB_RF) AS MB_RF,\n",
        "      SUM(MN_RF) AS MN_RF,\n",
        "      SUM(RN_RF) AS RN_RF,\n",
        "      SUM(RS_RF) AS RS_RF,\n",
        "      SUM(SE_RF) AS SE_RF,\n",
        "      SUM(ST_RF) AS ST_RF,\n",
        "      SUM(SV_RF) AS SV_RF,\n",
        "      SUM(SW_RF) AS SW_RF,\n",
        "      SUM(WT_RF) AS WT_RF,\n",
        "    --SEALEVEL\n",
        "      SUM(AU_SL) AS AU_SL,\n",
        "      SUM(CS_SL) AS CS_SL,\n",
        "      SUM(EN_SL) AS EN_SL,\n",
        "      SUM(ES_SL) AS ES_SL,\n",
        "      SUM(MB_SL) AS MB_SL,\n",
        "      SUM(MN_SL) AS MN_SL,\n",
        "      SUM(RN_SL) AS RN_SL,\n",
        "      SUM(RS_SL) AS RS_SL,\n",
        "      SUM(SE_SL) AS SE_SL,\n",
        "      SUM(ST_SL) AS ST_SL,\n",
        "      SUM(SV_SL) AS SV_SL,\n",
        "      SUM(SW_SL) AS SW_SL,\n",
        "      SUM(WT_SL) AS WT_SL,\n",
        "    --TEMPHIGH\n",
        "      SUM(AU_TH) AS AU_TH,\n",
        "      SUM(CS_TH) AS CS_TH,\n",
        "      SUM(EN_TH) AS EN_TH,\n",
        "      SUM(ES_TH) AS ES_TH,\n",
        "      SUM(MB_TH) AS MB_TH,\n",
        "      SUM(MN_TH) AS MN_TH,\n",
        "      SUM(RN_TH) AS RN_TH,\n",
        "      SUM(RS_TH) AS RS_TH,\n",
        "      SUM(SE_TH) AS SE_TH,\n",
        "      SUM(ST_TH) AS ST_TH,\n",
        "      SUM(SV_TH) AS SV_TH,\n",
        "      SUM(SW_TH) AS SW_TH,\n",
        "      SUM(WT_TH) AS WT_TH,\n",
        "    --TEMPLOW\n",
        "      SUM(AU_TL) AS AU_TL,\n",
        "      SUM(CS_TL) AS CS_TL,\n",
        "      SUM(EN_TL) AS EN_TL,\n",
        "      SUM(ES_TL) AS ES_TL,\n",
        "      SUM(MB_TL) AS MB_TL,\n",
        "      SUM(MN_TL) AS MN_TL,\n",
        "      SUM(RN_TL) AS RN_TL,\n",
        "      SUM(RS_TL) AS RS_TL,\n",
        "      SUM(SE_TL) AS SE_TL,\n",
        "      SUM(ST_TL) AS ST_TL,\n",
        "      SUM(SV_TL) AS SV_TL,\n",
        "      SUM(SW_TL) AS SW_TL,\n",
        "      SUM(WT_TL) AS WT_TL,\n",
        "    --WIND\n",
        "      SUM(AU_WI) AS AU_WI,\n",
        "      SUM(CS_WI) AS CS_WI,\n",
        "      SUM(EN_WI) AS EN_WI,\n",
        "      SUM(ES_WI) AS ES_WI,\n",
        "      SUM(MB_WI) AS MB_WI,\n",
        "      SUM(MN_WI) AS MN_WI,\n",
        "      SUM(RN_WI) AS RN_WI,\n",
        "      SUM(RS_WI) AS RS_WI,\n",
        "      SUM(SE_WI) AS SE_WI,\n",
        "      SUM(ST_WI) AS ST_WI,\n",
        "      SUM(SV_WI) AS SV_WI,\n",
        "      SUM(SW_WI) AS SW_WI,\n",
        "      SUM(WT_WI) AS WT_WI\n",
        "FROM transposed\n",
        "GROUP BY Year\n",
        ";\n",
        "'''\n",
        "df_final = sqlkey(query)"
      ]
    },
    {
      "cell_type": "code",
      "execution_count": 7,
      "metadata": {
        "colab": {
          "base_uri": "https://localhost:8080/",
          "height": 206
        },
        "id": "HqLQA8VhMHrj",
        "outputId": "027883e8-0af1-46ac-de1b-fcbd2099b3bf"
      },
      "outputs": [
        {
          "data": {
            "text/html": [
              "<div>\n",
              "<style scoped>\n",
              "    .dataframe tbody tr th:only-of-type {\n",
              "        vertical-align: middle;\n",
              "    }\n",
              "\n",
              "    .dataframe tbody tr th {\n",
              "        vertical-align: top;\n",
              "    }\n",
              "\n",
              "    .dataframe thead th {\n",
              "        text-align: right;\n",
              "    }\n",
              "</style>\n",
              "<table border=\"1\" class=\"dataframe\">\n",
              "  <thead>\n",
              "    <tr style=\"text-align: right;\">\n",
              "      <th></th>\n",
              "      <th>Year</th>\n",
              "      <th>AU_ALL</th>\n",
              "      <th>CS_ALL</th>\n",
              "      <th>EN_ALL</th>\n",
              "      <th>ES_ALL</th>\n",
              "      <th>MB_ALL</th>\n",
              "      <th>MN_ALL</th>\n",
              "      <th>RN_ALL</th>\n",
              "      <th>RS_ALL</th>\n",
              "      <th>SE_ALL</th>\n",
              "      <th>...</th>\n",
              "      <th>ES_WI</th>\n",
              "      <th>MB_WI</th>\n",
              "      <th>MN_WI</th>\n",
              "      <th>RN_WI</th>\n",
              "      <th>RS_WI</th>\n",
              "      <th>SE_WI</th>\n",
              "      <th>ST_WI</th>\n",
              "      <th>SV_WI</th>\n",
              "      <th>SW_WI</th>\n",
              "      <th>WT_WI</th>\n",
              "    </tr>\n",
              "  </thead>\n",
              "  <tbody>\n",
              "    <tr>\n",
              "      <th>0</th>\n",
              "      <td>1981</td>\n",
              "      <td>-0.087208</td>\n",
              "      <td>-0.084951</td>\n",
              "      <td>-0.258811</td>\n",
              "      <td>0.087191</td>\n",
              "      <td>-0.041700</td>\n",
              "      <td>-0.158683</td>\n",
              "      <td>-0.012887</td>\n",
              "      <td>-0.111130</td>\n",
              "      <td>-0.007505</td>\n",
              "      <td>...</td>\n",
              "      <td>0.000000</td>\n",
              "      <td>0.000000</td>\n",
              "      <td>0.000000</td>\n",
              "      <td>0.000000</td>\n",
              "      <td>0.00000</td>\n",
              "      <td>-0.013465</td>\n",
              "      <td>-0.715201</td>\n",
              "      <td>0.000000</td>\n",
              "      <td>0.000000</td>\n",
              "      <td>0.000000</td>\n",
              "    </tr>\n",
              "    <tr>\n",
              "      <th>1</th>\n",
              "      <td>1982</td>\n",
              "      <td>-0.357338</td>\n",
              "      <td>-0.196937</td>\n",
              "      <td>-0.433829</td>\n",
              "      <td>-0.108388</td>\n",
              "      <td>-0.010522</td>\n",
              "      <td>-0.538458</td>\n",
              "      <td>-0.211941</td>\n",
              "      <td>-0.156131</td>\n",
              "      <td>-0.452043</td>\n",
              "      <td>...</td>\n",
              "      <td>0.000000</td>\n",
              "      <td>0.000000</td>\n",
              "      <td>0.000000</td>\n",
              "      <td>0.000000</td>\n",
              "      <td>0.00000</td>\n",
              "      <td>-0.641513</td>\n",
              "      <td>0.043719</td>\n",
              "      <td>0.000000</td>\n",
              "      <td>0.000000</td>\n",
              "      <td>0.000000</td>\n",
              "    </tr>\n",
              "    <tr>\n",
              "      <th>2</th>\n",
              "      <td>1983</td>\n",
              "      <td>0.064702</td>\n",
              "      <td>0.259954</td>\n",
              "      <td>0.297082</td>\n",
              "      <td>-0.146317</td>\n",
              "      <td>0.242856</td>\n",
              "      <td>-0.069399</td>\n",
              "      <td>0.022740</td>\n",
              "      <td>-0.165062</td>\n",
              "      <td>0.018552</td>\n",
              "      <td>...</td>\n",
              "      <td>1.198097</td>\n",
              "      <td>0.206157</td>\n",
              "      <td>0.000000</td>\n",
              "      <td>0.000000</td>\n",
              "      <td>0.00000</td>\n",
              "      <td>0.717042</td>\n",
              "      <td>0.207227</td>\n",
              "      <td>0.000000</td>\n",
              "      <td>-0.286570</td>\n",
              "      <td>0.000000</td>\n",
              "    </tr>\n",
              "    <tr>\n",
              "      <th>3</th>\n",
              "      <td>1984</td>\n",
              "      <td>-0.141534</td>\n",
              "      <td>-0.128566</td>\n",
              "      <td>-0.025731</td>\n",
              "      <td>0.142605</td>\n",
              "      <td>-0.161209</td>\n",
              "      <td>-0.166435</td>\n",
              "      <td>-0.130824</td>\n",
              "      <td>0.011527</td>\n",
              "      <td>-0.410279</td>\n",
              "      <td>...</td>\n",
              "      <td>-0.283743</td>\n",
              "      <td>0.324074</td>\n",
              "      <td>0.000000</td>\n",
              "      <td>0.294304</td>\n",
              "      <td>0.00000</td>\n",
              "      <td>0.605802</td>\n",
              "      <td>0.545126</td>\n",
              "      <td>-0.401749</td>\n",
              "      <td>-0.011464</td>\n",
              "      <td>-0.091303</td>\n",
              "    </tr>\n",
              "    <tr>\n",
              "      <th>4</th>\n",
              "      <td>1985</td>\n",
              "      <td>-0.121609</td>\n",
              "      <td>-0.338231</td>\n",
              "      <td>-0.382139</td>\n",
              "      <td>-0.020478</td>\n",
              "      <td>-0.130815</td>\n",
              "      <td>-0.258032</td>\n",
              "      <td>-0.040343</td>\n",
              "      <td>-0.059485</td>\n",
              "      <td>-0.123720</td>\n",
              "      <td>...</td>\n",
              "      <td>0.134474</td>\n",
              "      <td>-0.391836</td>\n",
              "      <td>0.490319</td>\n",
              "      <td>0.362322</td>\n",
              "      <td>-0.13024</td>\n",
              "      <td>-0.046661</td>\n",
              "      <td>-0.161557</td>\n",
              "      <td>0.138516</td>\n",
              "      <td>0.415375</td>\n",
              "      <td>1.027355</td>\n",
              "    </tr>\n",
              "  </tbody>\n",
              "</table>\n",
              "<p>5 rows × 92 columns</p>\n",
              "</div>"
            ],
            "text/plain": [
              "   Year    AU_ALL    CS_ALL    EN_ALL    ES_ALL    MB_ALL    MN_ALL    RN_ALL  \\\n",
              "0  1981 -0.087208 -0.084951 -0.258811  0.087191 -0.041700 -0.158683 -0.012887   \n",
              "1  1982 -0.357338 -0.196937 -0.433829 -0.108388 -0.010522 -0.538458 -0.211941   \n",
              "2  1983  0.064702  0.259954  0.297082 -0.146317  0.242856 -0.069399  0.022740   \n",
              "3  1984 -0.141534 -0.128566 -0.025731  0.142605 -0.161209 -0.166435 -0.130824   \n",
              "4  1985 -0.121609 -0.338231 -0.382139 -0.020478 -0.130815 -0.258032 -0.040343   \n",
              "\n",
              "     RS_ALL    SE_ALL  ...     ES_WI     MB_WI     MN_WI     RN_WI    RS_WI  \\\n",
              "0 -0.111130 -0.007505  ...  0.000000  0.000000  0.000000  0.000000  0.00000   \n",
              "1 -0.156131 -0.452043  ...  0.000000  0.000000  0.000000  0.000000  0.00000   \n",
              "2 -0.165062  0.018552  ...  1.198097  0.206157  0.000000  0.000000  0.00000   \n",
              "3  0.011527 -0.410279  ... -0.283743  0.324074  0.000000  0.294304  0.00000   \n",
              "4 -0.059485 -0.123720  ...  0.134474 -0.391836  0.490319  0.362322 -0.13024   \n",
              "\n",
              "      SE_WI     ST_WI     SV_WI     SW_WI     WT_WI  \n",
              "0 -0.013465 -0.715201  0.000000  0.000000  0.000000  \n",
              "1 -0.641513  0.043719  0.000000  0.000000  0.000000  \n",
              "2  0.717042  0.207227  0.000000 -0.286570  0.000000  \n",
              "3  0.605802  0.545126 -0.401749 -0.011464 -0.091303  \n",
              "4 -0.046661 -0.161557  0.138516  0.415375  1.027355  \n",
              "\n",
              "[5 rows x 92 columns]"
            ]
          },
          "execution_count": 7,
          "metadata": {},
          "output_type": "execute_result"
        }
      ],
      "source": [
        "df_final.head()"
      ]
    },
    {
      "cell_type": "code",
      "execution_count": 8,
      "metadata": {
        "id": "dEOi18WsM2_c"
      },
      "outputs": [],
      "source": [
        "#Exclude 2021 Data\n",
        "aaci = df_final[(df_final.Year != 2021)]"
      ]
    },
    {
      "cell_type": "code",
      "execution_count": 9,
      "metadata": {
        "id": "JWc80JiXMLqq"
      },
      "outputs": [],
      "source": [
        "#Import the Wheat Yield Dataset\n",
        "wheat = pd.read_csv('wheat_data.csv')"
      ]
    },
    {
      "cell_type": "code",
      "execution_count": 173,
      "metadata": {
        "id": "BVCy3uccNex4"
      },
      "outputs": [],
      "source": [
        "#Join the AACI and Wheat Yield Dataset\n",
        "query = '''\n",
        "  WITH CTE AS (\n",
        "  SELECT b.Year,Yield,\n",
        "AU_ALL,\n",
        "CS_ALL,\n",
        "EN_ALL,\n",
        "ES_ALL,\n",
        "MB_ALL,\n",
        "MN_ALL,\n",
        "RN_ALL,\n",
        "RS_ALL,\n",
        "SE_ALL,\n",
        "ST_ALL,\n",
        "SV_ALL,\n",
        "SW_ALL,\n",
        "WT_ALL,\n",
        "AU_CDD,\n",
        "CS_CDD,\n",
        "EN_CDD,\n",
        "ES_CDD,\n",
        "MB_CDD,\n",
        "MN_CDD,\n",
        "RN_CDD,\n",
        "RS_CDD,\n",
        "SE_CDD,\n",
        "ST_CDD,\n",
        "SV_CDD,\n",
        "SW_CDD,\n",
        "WT_CDD,\n",
        "AU_RF,\n",
        "CS_RF,\n",
        "EN_RF,\n",
        "ES_RF,\n",
        "MB_RF,\n",
        "MN_RF,\n",
        "RN_RF,\n",
        "RS_RF,\n",
        "SE_RF,\n",
        "ST_RF,\n",
        "SV_RF,\n",
        "SW_RF,\n",
        "WT_RF,\n",
        "AU_SL,\n",
        "CS_SL,\n",
        "EN_SL,\n",
        "ES_SL,\n",
        "MB_SL,\n",
        "MN_SL,\n",
        "RN_SL,\n",
        "RS_SL,\n",
        "SE_SL,\n",
        "ST_SL,\n",
        "SV_SL,\n",
        "SW_SL,\n",
        "WT_SL,\n",
        "AU_TH,\n",
        "CS_TH,\n",
        "EN_TH,\n",
        "ES_TH,\n",
        "MB_TH,\n",
        "MN_TH,\n",
        "RN_TH,\n",
        "RS_TH,\n",
        "SE_TH,\n",
        "ST_TH,\n",
        "SV_TH,\n",
        "SW_TH,\n",
        "WT_TH,\n",
        "AU_TL,\n",
        "CS_TL,\n",
        "EN_TL,\n",
        "ES_TL,\n",
        "MB_TL,\n",
        "MN_TL,\n",
        "RN_TL,\n",
        "RS_TL,\n",
        "SE_TL,\n",
        "ST_TL,\n",
        "SV_TL,\n",
        "SW_TL,\n",
        "WT_TL,\n",
        "AU_WI,\n",
        "CS_WI,\n",
        "EN_WI,\n",
        "ES_WI,\n",
        "MB_WI,\n",
        "MN_WI,\n",
        "RN_WI,\n",
        "RS_WI,\n",
        "SE_WI,\n",
        "ST_WI,\n",
        "SV_WI,\n",
        "SW_WI,\n",
        "WT_WI\n",
        "  FROM wheat b\n",
        "  LEFT JOIN aaci a\n",
        "  ON a.Year = b.Year\n",
        "  )\n",
        "  SELECT *\n",
        "  FROM CTE\n",
        "  -- WHERE Year<2020\n",
        "    '''\n",
        "final_data = sqlkey(query)"
      ]
    },
    {
      "cell_type": "code",
      "execution_count": 174,
      "metadata": {
        "colab": {
          "base_uri": "https://localhost:8080/",
          "height": 250
        },
        "id": "f7_-htJwOBPr",
        "outputId": "3b11b2b8-07b6-42c1-b945-088a033b4a79"
      },
      "outputs": [
        {
          "data": {
            "text/html": [
              "<div>\n",
              "<style scoped>\n",
              "    .dataframe tbody tr th:only-of-type {\n",
              "        vertical-align: middle;\n",
              "    }\n",
              "\n",
              "    .dataframe tbody tr th {\n",
              "        vertical-align: top;\n",
              "    }\n",
              "\n",
              "    .dataframe thead th {\n",
              "        text-align: right;\n",
              "    }\n",
              "</style>\n",
              "<table border=\"1\" class=\"dataframe\">\n",
              "  <thead>\n",
              "    <tr style=\"text-align: right;\">\n",
              "      <th></th>\n",
              "      <th>Year</th>\n",
              "      <th>Yield</th>\n",
              "      <th>AU_ALL</th>\n",
              "      <th>CS_ALL</th>\n",
              "      <th>EN_ALL</th>\n",
              "      <th>ES_ALL</th>\n",
              "      <th>MB_ALL</th>\n",
              "      <th>MN_ALL</th>\n",
              "      <th>RN_ALL</th>\n",
              "      <th>RS_ALL</th>\n",
              "      <th>...</th>\n",
              "      <th>ES_WI</th>\n",
              "      <th>MB_WI</th>\n",
              "      <th>MN_WI</th>\n",
              "      <th>RN_WI</th>\n",
              "      <th>RS_WI</th>\n",
              "      <th>SE_WI</th>\n",
              "      <th>ST_WI</th>\n",
              "      <th>SV_WI</th>\n",
              "      <th>SW_WI</th>\n",
              "      <th>WT_WI</th>\n",
              "    </tr>\n",
              "  </thead>\n",
              "  <tbody>\n",
              "    <tr>\n",
              "      <th>35</th>\n",
              "      <td>2016</td>\n",
              "      <td>2.609986</td>\n",
              "      <td>0.598915</td>\n",
              "      <td>0.681857</td>\n",
              "      <td>0.864727</td>\n",
              "      <td>0.555121</td>\n",
              "      <td>0.500758</td>\n",
              "      <td>0.880703</td>\n",
              "      <td>0.525055</td>\n",
              "      <td>0.039287</td>\n",
              "      <td>...</td>\n",
              "      <td>0.000000</td>\n",
              "      <td>0.000000</td>\n",
              "      <td>0.000000</td>\n",
              "      <td>0.000000</td>\n",
              "      <td>0.000000</td>\n",
              "      <td>0.000000</td>\n",
              "      <td>0.000000</td>\n",
              "      <td>0.000000</td>\n",
              "      <td>0.000000</td>\n",
              "      <td>0.0</td>\n",
              "    </tr>\n",
              "    <tr>\n",
              "      <th>36</th>\n",
              "      <td>2017</td>\n",
              "      <td>1.917830</td>\n",
              "      <td>0.498168</td>\n",
              "      <td>1.080116</td>\n",
              "      <td>0.969610</td>\n",
              "      <td>1.086690</td>\n",
              "      <td>0.183245</td>\n",
              "      <td>0.251291</td>\n",
              "      <td>0.607004</td>\n",
              "      <td>0.103762</td>\n",
              "      <td>...</td>\n",
              "      <td>0.000000</td>\n",
              "      <td>0.000000</td>\n",
              "      <td>0.000000</td>\n",
              "      <td>0.000000</td>\n",
              "      <td>0.000000</td>\n",
              "      <td>0.000000</td>\n",
              "      <td>0.000000</td>\n",
              "      <td>0.000000</td>\n",
              "      <td>0.000000</td>\n",
              "      <td>0.0</td>\n",
              "    </tr>\n",
              "    <tr>\n",
              "      <th>37</th>\n",
              "      <td>2018</td>\n",
              "      <td>1.691704</td>\n",
              "      <td>0.430050</td>\n",
              "      <td>0.259996</td>\n",
              "      <td>0.760674</td>\n",
              "      <td>0.689331</td>\n",
              "      <td>0.203412</td>\n",
              "      <td>0.258840</td>\n",
              "      <td>0.557193</td>\n",
              "      <td>0.164427</td>\n",
              "      <td>...</td>\n",
              "      <td>0.000000</td>\n",
              "      <td>0.000000</td>\n",
              "      <td>0.000000</td>\n",
              "      <td>0.000000</td>\n",
              "      <td>0.000000</td>\n",
              "      <td>0.000000</td>\n",
              "      <td>0.000000</td>\n",
              "      <td>0.000000</td>\n",
              "      <td>0.000000</td>\n",
              "      <td>0.0</td>\n",
              "    </tr>\n",
              "    <tr>\n",
              "      <th>38</th>\n",
              "      <td>2019</td>\n",
              "      <td>1.468108</td>\n",
              "      <td>0.459869</td>\n",
              "      <td>0.708344</td>\n",
              "      <td>0.459543</td>\n",
              "      <td>0.242336</td>\n",
              "      <td>0.459859</td>\n",
              "      <td>0.508640</td>\n",
              "      <td>1.118792</td>\n",
              "      <td>0.870140</td>\n",
              "      <td>...</td>\n",
              "      <td>0.000000</td>\n",
              "      <td>0.000000</td>\n",
              "      <td>0.000000</td>\n",
              "      <td>0.000000</td>\n",
              "      <td>0.000000</td>\n",
              "      <td>0.000000</td>\n",
              "      <td>0.000000</td>\n",
              "      <td>0.000000</td>\n",
              "      <td>0.000000</td>\n",
              "      <td>0.0</td>\n",
              "    </tr>\n",
              "    <tr>\n",
              "      <th>39</th>\n",
              "      <td>2020</td>\n",
              "      <td>2.587233</td>\n",
              "      <td>0.535385</td>\n",
              "      <td>0.608672</td>\n",
              "      <td>0.592774</td>\n",
              "      <td>0.498595</td>\n",
              "      <td>0.464835</td>\n",
              "      <td>0.720205</td>\n",
              "      <td>0.905905</td>\n",
              "      <td>0.690765</td>\n",
              "      <td>...</td>\n",
              "      <td>0.140576</td>\n",
              "      <td>0.034707</td>\n",
              "      <td>0.113606</td>\n",
              "      <td>-0.013809</td>\n",
              "      <td>0.109309</td>\n",
              "      <td>-0.047768</td>\n",
              "      <td>0.070597</td>\n",
              "      <td>0.097278</td>\n",
              "      <td>0.141452</td>\n",
              "      <td>0.0</td>\n",
              "    </tr>\n",
              "  </tbody>\n",
              "</table>\n",
              "<p>5 rows × 93 columns</p>\n",
              "</div>"
            ],
            "text/plain": [
              "    Year     Yield    AU_ALL    CS_ALL    EN_ALL    ES_ALL    MB_ALL  \\\n",
              "35  2016  2.609986  0.598915  0.681857  0.864727  0.555121  0.500758   \n",
              "36  2017  1.917830  0.498168  1.080116  0.969610  1.086690  0.183245   \n",
              "37  2018  1.691704  0.430050  0.259996  0.760674  0.689331  0.203412   \n",
              "38  2019  1.468108  0.459869  0.708344  0.459543  0.242336  0.459859   \n",
              "39  2020  2.587233  0.535385  0.608672  0.592774  0.498595  0.464835   \n",
              "\n",
              "      MN_ALL    RN_ALL    RS_ALL  ...     ES_WI     MB_WI     MN_WI     RN_WI  \\\n",
              "35  0.880703  0.525055  0.039287  ...  0.000000  0.000000  0.000000  0.000000   \n",
              "36  0.251291  0.607004  0.103762  ...  0.000000  0.000000  0.000000  0.000000   \n",
              "37  0.258840  0.557193  0.164427  ...  0.000000  0.000000  0.000000  0.000000   \n",
              "38  0.508640  1.118792  0.870140  ...  0.000000  0.000000  0.000000  0.000000   \n",
              "39  0.720205  0.905905  0.690765  ...  0.140576  0.034707  0.113606 -0.013809   \n",
              "\n",
              "       RS_WI     SE_WI     ST_WI     SV_WI     SW_WI  WT_WI  \n",
              "35  0.000000  0.000000  0.000000  0.000000  0.000000    0.0  \n",
              "36  0.000000  0.000000  0.000000  0.000000  0.000000    0.0  \n",
              "37  0.000000  0.000000  0.000000  0.000000  0.000000    0.0  \n",
              "38  0.000000  0.000000  0.000000  0.000000  0.000000    0.0  \n",
              "39  0.109309 -0.047768  0.070597  0.097278  0.141452    0.0  \n",
              "\n",
              "[5 rows x 93 columns]"
            ]
          },
          "execution_count": 174,
          "metadata": {},
          "output_type": "execute_result"
        }
      ],
      "source": [
        "#Final Dataframe\n",
        "final_data.tail()"
      ]
    },
    {
      "cell_type": "code",
      "execution_count": 175,
      "metadata": {
        "id": "aurkAaytZzkz"
      },
      "outputs": [],
      "source": [
        "final_data = final_data.set_index('Year')\n",
        "#final_data['Year'] = final_data.index"
      ]
    },
    {
      "cell_type": "code",
      "execution_count": 176,
      "metadata": {
        "colab": {
          "base_uri": "https://localhost:8080/",
          "height": 281
        },
        "id": "R5re_dQ2uWtR",
        "outputId": "9f05fc30-5283-4b0b-8b8f-3585d9fd5c9d"
      },
      "outputs": [
        {
          "data": {
            "text/html": [
              "<div>\n",
              "<style scoped>\n",
              "    .dataframe tbody tr th:only-of-type {\n",
              "        vertical-align: middle;\n",
              "    }\n",
              "\n",
              "    .dataframe tbody tr th {\n",
              "        vertical-align: top;\n",
              "    }\n",
              "\n",
              "    .dataframe thead th {\n",
              "        text-align: right;\n",
              "    }\n",
              "</style>\n",
              "<table border=\"1\" class=\"dataframe\">\n",
              "  <thead>\n",
              "    <tr style=\"text-align: right;\">\n",
              "      <th></th>\n",
              "      <th>Yield</th>\n",
              "      <th>AU_ALL</th>\n",
              "      <th>CS_ALL</th>\n",
              "      <th>EN_ALL</th>\n",
              "      <th>ES_ALL</th>\n",
              "      <th>MB_ALL</th>\n",
              "      <th>MN_ALL</th>\n",
              "      <th>RN_ALL</th>\n",
              "      <th>RS_ALL</th>\n",
              "      <th>SE_ALL</th>\n",
              "      <th>...</th>\n",
              "      <th>ES_WI</th>\n",
              "      <th>MB_WI</th>\n",
              "      <th>MN_WI</th>\n",
              "      <th>RN_WI</th>\n",
              "      <th>RS_WI</th>\n",
              "      <th>SE_WI</th>\n",
              "      <th>ST_WI</th>\n",
              "      <th>SV_WI</th>\n",
              "      <th>SW_WI</th>\n",
              "      <th>WT_WI</th>\n",
              "    </tr>\n",
              "    <tr>\n",
              "      <th>Year</th>\n",
              "      <th></th>\n",
              "      <th></th>\n",
              "      <th></th>\n",
              "      <th></th>\n",
              "      <th></th>\n",
              "      <th></th>\n",
              "      <th></th>\n",
              "      <th></th>\n",
              "      <th></th>\n",
              "      <th></th>\n",
              "      <th></th>\n",
              "      <th></th>\n",
              "      <th></th>\n",
              "      <th></th>\n",
              "      <th></th>\n",
              "      <th></th>\n",
              "      <th></th>\n",
              "      <th></th>\n",
              "      <th></th>\n",
              "      <th></th>\n",
              "      <th></th>\n",
              "    </tr>\n",
              "  </thead>\n",
              "  <tbody>\n",
              "    <tr>\n",
              "      <th>1981</th>\n",
              "      <td>1.376496</td>\n",
              "      <td>-0.087208</td>\n",
              "      <td>-0.084951</td>\n",
              "      <td>-0.258811</td>\n",
              "      <td>0.087191</td>\n",
              "      <td>-0.041700</td>\n",
              "      <td>-0.158683</td>\n",
              "      <td>-0.012887</td>\n",
              "      <td>-0.111130</td>\n",
              "      <td>-0.007505</td>\n",
              "      <td>...</td>\n",
              "      <td>0.000000</td>\n",
              "      <td>0.000000</td>\n",
              "      <td>0.000000</td>\n",
              "      <td>0.000000</td>\n",
              "      <td>0.00000</td>\n",
              "      <td>-0.013465</td>\n",
              "      <td>-0.715201</td>\n",
              "      <td>0.000000</td>\n",
              "      <td>0.000000</td>\n",
              "      <td>0.000000</td>\n",
              "    </tr>\n",
              "    <tr>\n",
              "      <th>1982</th>\n",
              "      <td>0.764317</td>\n",
              "      <td>-0.357338</td>\n",
              "      <td>-0.196937</td>\n",
              "      <td>-0.433829</td>\n",
              "      <td>-0.108388</td>\n",
              "      <td>-0.010522</td>\n",
              "      <td>-0.538458</td>\n",
              "      <td>-0.211941</td>\n",
              "      <td>-0.156131</td>\n",
              "      <td>-0.452043</td>\n",
              "      <td>...</td>\n",
              "      <td>0.000000</td>\n",
              "      <td>0.000000</td>\n",
              "      <td>0.000000</td>\n",
              "      <td>0.000000</td>\n",
              "      <td>0.00000</td>\n",
              "      <td>-0.641513</td>\n",
              "      <td>0.043719</td>\n",
              "      <td>0.000000</td>\n",
              "      <td>0.000000</td>\n",
              "      <td>0.000000</td>\n",
              "    </tr>\n",
              "    <tr>\n",
              "      <th>1983</th>\n",
              "      <td>1.624118</td>\n",
              "      <td>0.064702</td>\n",
              "      <td>0.259954</td>\n",
              "      <td>0.297082</td>\n",
              "      <td>-0.146317</td>\n",
              "      <td>0.242856</td>\n",
              "      <td>-0.069399</td>\n",
              "      <td>0.022740</td>\n",
              "      <td>-0.165062</td>\n",
              "      <td>0.018552</td>\n",
              "      <td>...</td>\n",
              "      <td>1.198097</td>\n",
              "      <td>0.206157</td>\n",
              "      <td>0.000000</td>\n",
              "      <td>0.000000</td>\n",
              "      <td>0.00000</td>\n",
              "      <td>0.717042</td>\n",
              "      <td>0.207227</td>\n",
              "      <td>0.000000</td>\n",
              "      <td>-0.286570</td>\n",
              "      <td>0.000000</td>\n",
              "    </tr>\n",
              "    <tr>\n",
              "      <th>1984</th>\n",
              "      <td>1.500378</td>\n",
              "      <td>-0.141534</td>\n",
              "      <td>-0.128566</td>\n",
              "      <td>-0.025731</td>\n",
              "      <td>0.142605</td>\n",
              "      <td>-0.161209</td>\n",
              "      <td>-0.166435</td>\n",
              "      <td>-0.130824</td>\n",
              "      <td>0.011527</td>\n",
              "      <td>-0.410279</td>\n",
              "      <td>...</td>\n",
              "      <td>-0.283743</td>\n",
              "      <td>0.324074</td>\n",
              "      <td>0.000000</td>\n",
              "      <td>0.294304</td>\n",
              "      <td>0.00000</td>\n",
              "      <td>0.605802</td>\n",
              "      <td>0.545126</td>\n",
              "      <td>-0.401749</td>\n",
              "      <td>-0.011464</td>\n",
              "      <td>-0.091303</td>\n",
              "    </tr>\n",
              "    <tr>\n",
              "      <th>1985</th>\n",
              "      <td>1.368707</td>\n",
              "      <td>-0.121609</td>\n",
              "      <td>-0.338231</td>\n",
              "      <td>-0.382139</td>\n",
              "      <td>-0.020478</td>\n",
              "      <td>-0.130815</td>\n",
              "      <td>-0.258032</td>\n",
              "      <td>-0.040343</td>\n",
              "      <td>-0.059485</td>\n",
              "      <td>-0.123720</td>\n",
              "      <td>...</td>\n",
              "      <td>0.134474</td>\n",
              "      <td>-0.391836</td>\n",
              "      <td>0.490319</td>\n",
              "      <td>0.362322</td>\n",
              "      <td>-0.13024</td>\n",
              "      <td>-0.046661</td>\n",
              "      <td>-0.161557</td>\n",
              "      <td>0.138516</td>\n",
              "      <td>0.415375</td>\n",
              "      <td>1.027355</td>\n",
              "    </tr>\n",
              "  </tbody>\n",
              "</table>\n",
              "<p>5 rows × 92 columns</p>\n",
              "</div>"
            ],
            "text/plain": [
              "         Yield    AU_ALL    CS_ALL    EN_ALL    ES_ALL    MB_ALL    MN_ALL  \\\n",
              "Year                                                                         \n",
              "1981  1.376496 -0.087208 -0.084951 -0.258811  0.087191 -0.041700 -0.158683   \n",
              "1982  0.764317 -0.357338 -0.196937 -0.433829 -0.108388 -0.010522 -0.538458   \n",
              "1983  1.624118  0.064702  0.259954  0.297082 -0.146317  0.242856 -0.069399   \n",
              "1984  1.500378 -0.141534 -0.128566 -0.025731  0.142605 -0.161209 -0.166435   \n",
              "1985  1.368707 -0.121609 -0.338231 -0.382139 -0.020478 -0.130815 -0.258032   \n",
              "\n",
              "        RN_ALL    RS_ALL    SE_ALL  ...     ES_WI     MB_WI     MN_WI  \\\n",
              "Year                                ...                                 \n",
              "1981 -0.012887 -0.111130 -0.007505  ...  0.000000  0.000000  0.000000   \n",
              "1982 -0.211941 -0.156131 -0.452043  ...  0.000000  0.000000  0.000000   \n",
              "1983  0.022740 -0.165062  0.018552  ...  1.198097  0.206157  0.000000   \n",
              "1984 -0.130824  0.011527 -0.410279  ... -0.283743  0.324074  0.000000   \n",
              "1985 -0.040343 -0.059485 -0.123720  ...  0.134474 -0.391836  0.490319   \n",
              "\n",
              "         RN_WI    RS_WI     SE_WI     ST_WI     SV_WI     SW_WI     WT_WI  \n",
              "Year                                                                       \n",
              "1981  0.000000  0.00000 -0.013465 -0.715201  0.000000  0.000000  0.000000  \n",
              "1982  0.000000  0.00000 -0.641513  0.043719  0.000000  0.000000  0.000000  \n",
              "1983  0.000000  0.00000  0.717042  0.207227  0.000000 -0.286570  0.000000  \n",
              "1984  0.294304  0.00000  0.605802  0.545126 -0.401749 -0.011464 -0.091303  \n",
              "1985  0.362322 -0.13024 -0.046661 -0.161557  0.138516  0.415375  1.027355  \n",
              "\n",
              "[5 rows x 92 columns]"
            ]
          },
          "execution_count": 176,
          "metadata": {},
          "output_type": "execute_result"
        }
      ],
      "source": [
        "final_data.head()"
      ]
    },
    {
      "cell_type": "code",
      "execution_count": null,
      "metadata": {
        "colab": {
          "base_uri": "https://localhost:8080/",
          "height": 139
        },
        "id": "tAliBObWtr1p",
        "outputId": "771f60c5-4828-4a47-8fde-e5eb7a9c1f94"
      },
      "outputs": [],
      "source": [
        "final_data.to_csv()"
      ]
    },
    {
      "cell_type": "markdown",
      "metadata": {
        "id": "eJb5WfRHzw-8"
      },
      "source": [
        "# Data Visualization"
      ]
    },
    {
      "cell_type": "code",
      "execution_count": 15,
      "metadata": {
        "colab": {
          "base_uri": "https://localhost:8080/",
          "height": 268
        },
        "id": "FHfyJPYix4S7",
        "outputId": "08441371-1314-439e-fd44-f1795ab6f6c3"
      },
      "outputs": [
        {
          "data": {
            "image/png": "[encoded data removed]",
            "text/plain": [
              "<Figure size 432x288 with 12 Axes>"
            ]
          },
          "metadata": {},
          "output_type": "display_data"
        }
      ],
      "source": [
        "aaci = aaci.set_index('Year')\n",
        "groups = [0, 1, 2, 3, 5, 6, 7, 8, 9, 10, 11, 12]\n",
        "values = aaci.values\n",
        "fig,sub = plt.subplots(3,4)\n",
        "plt.subplots_adjust(wspace=1, hspace=1)\n",
        "\n",
        "for ax, i in zip(sub.flatten(),groups):\n",
        "    ax.plot(values[:,i])\n",
        "    ax.set_xticks(())\n",
        "    ax.set_yticks(())\n",
        "    ax.set_title(aaci.columns[i])"
      ]
    },
    {
      "cell_type": "code",
      "execution_count": 123,
      "metadata": {
        "colab": {
          "base_uri": "https://localhost:8080/",
          "height": 297
        },
        "id": "RHktZXMkyBOf",
        "outputId": "7263d6c9-67b9-447b-e97e-47912ccca422"
      },
      "outputs": [
        {
          "name": "stderr",
          "output_type": "stream",
          "text": [
            "/home/matthewfarant123/fyp_venv/lib/python3.8/site-packages/seaborn/_decorators.py:36: FutureWarning: Pass the following variables as keyword args: x, y. From version 0.12, the only valid positional argument will be `data`, and passing other arguments without an explicit keyword will result in an error or misinterpretation.\n",
            "  warnings.warn(\n"
          ]
        },
        {
          "data": {
            "text/plain": [
              "<AxesSubplot:xlabel='Year', ylabel='Yield'>"
            ]
          },
          "execution_count": 123,
          "metadata": {},
          "output_type": "execute_result"
        },
        {
          "data": {
            "image/png": "[encoded data removed]",
            "text/plain": [
              "<Figure size 432x288 with 1 Axes>"
            ]
          },
          "metadata": {
            "needs_background": "light"
          },
          "output_type": "display_data"
        }
      ],
      "source": [
        "original = final_data[['Year', 'Yield']]\n",
        "sn.lineplot(original['Year'], original['Yield'])"
      ]
    },
    {
      "cell_type": "markdown",
      "metadata": {
        "id": "7hqgRYJ-n_C9"
      },
      "source": [
        "# Outlier Detection"
      ]
    },
    {
      "cell_type": "code",
      "execution_count": 154,
      "metadata": {
        "colab": {
          "base_uri": "https://localhost:8080/",
          "height": 561
        },
        "id": "fKzYPOhRoCUP",
        "outputId": "0348dd77-5274-4958-bf0a-ca0992f17a0e"
      },
      "outputs": [
        {
          "data": {
            "image/png": "[encoded data removed]",
            "text/plain": [
              "<Figure size 432x288 with 1 Axes>"
            ]
          },
          "metadata": {
            "needs_background": "light"
          },
          "output_type": "display_data"
        },
        {
          "data": {
            "image/png": "[encoded data removed]",
            "text/plain": [
              "<Figure size 432x288 with 3 Axes>"
            ]
          },
          "metadata": {
            "needs_background": "light"
          },
          "output_type": "display_data"
        }
      ],
      "source": [
        "from ThymeBoost import ThymeBoost as tb\n",
        "boosted_model = tb.ThymeBoost()\n",
        "output = boosted_model.detect_outliers(final_data['Yield'],\n",
        "                                       trend_estimator='linear',\n",
        "                                       seasonal_estimator='fourier',\n",
        "                                      #  seasonal_period=25,\n",
        "                                       global_cost='maicc',\n",
        "                                       fit_type='global')\n",
        "boosted_model.plot_results(output)\n",
        "boosted_model.plot_components(output)"
      ]
    },
    {
      "cell_type": "markdown",
      "metadata": {
        "id": "pUk2GqApz3t2"
      },
      "source": [
        "The result above that there IS an outlier. Hence, we need to solve this before proceeding to the modelling process"
      ]
    },
    {
      "cell_type": "code",
      "execution_count": 155,
      "metadata": {
        "id": "ydq2kjA813wF"
      },
      "outputs": [],
      "source": [
        "## Handling Outlier\n",
        "final_data['Yield'].loc[1982] = np.nan\n",
        "final_data['Yield'].loc[1994] = np.nan\n",
        "final_data['Yield'].loc[2002] = np.nan\n",
        "final_data['Yield'].loc[2006] = np.nan\n",
        "final_data['Yield'].loc[2007] = np.nan\n",
        "final_data['Yield'].loc[2016] = np.nan\n",
        "final_data['Yield'].loc[2018] = np.nan\n",
        "final_data['Yield'].loc[2019] = np.nan\n",
        "final_data['Yield'].loc[2020] = np.nan"
      ]
    },
    {
      "cell_type": "code",
      "execution_count": 156,
      "metadata": {},
      "outputs": [
        {
          "data": {
            "text/html": [
              "<div>\n",
              "<style scoped>\n",
              "    .dataframe tbody tr th:only-of-type {\n",
              "        vertical-align: middle;\n",
              "    }\n",
              "\n",
              "    .dataframe tbody tr th {\n",
              "        vertical-align: top;\n",
              "    }\n",
              "\n",
              "    .dataframe thead th {\n",
              "        text-align: right;\n",
              "    }\n",
              "</style>\n",
              "<table border=\"1\" class=\"dataframe\">\n",
              "  <thead>\n",
              "    <tr style=\"text-align: right;\">\n",
              "      <th></th>\n",
              "      <th>Yield</th>\n",
              "      <th>Planted</th>\n",
              "      <th>AU_ALL</th>\n",
              "      <th>CS_ALL</th>\n",
              "      <th>EN_ALL</th>\n",
              "      <th>ES_ALL</th>\n",
              "      <th>MB_ALL</th>\n",
              "      <th>MN_ALL</th>\n",
              "      <th>RN_ALL</th>\n",
              "      <th>RS_ALL</th>\n",
              "      <th>...</th>\n",
              "      <th>ES_WI</th>\n",
              "      <th>MB_WI</th>\n",
              "      <th>MN_WI</th>\n",
              "      <th>RN_WI</th>\n",
              "      <th>RS_WI</th>\n",
              "      <th>SE_WI</th>\n",
              "      <th>ST_WI</th>\n",
              "      <th>SV_WI</th>\n",
              "      <th>SW_WI</th>\n",
              "      <th>WT_WI</th>\n",
              "    </tr>\n",
              "    <tr>\n",
              "      <th>Year</th>\n",
              "      <th></th>\n",
              "      <th></th>\n",
              "      <th></th>\n",
              "      <th></th>\n",
              "      <th></th>\n",
              "      <th></th>\n",
              "      <th></th>\n",
              "      <th></th>\n",
              "      <th></th>\n",
              "      <th></th>\n",
              "      <th></th>\n",
              "      <th></th>\n",
              "      <th></th>\n",
              "      <th></th>\n",
              "      <th></th>\n",
              "      <th></th>\n",
              "      <th></th>\n",
              "      <th></th>\n",
              "      <th></th>\n",
              "      <th></th>\n",
              "      <th></th>\n",
              "    </tr>\n",
              "  </thead>\n",
              "  <tbody>\n",
              "    <tr>\n",
              "      <th>1981</th>\n",
              "      <td>1.376496</td>\n",
              "      <td>11884.6</td>\n",
              "      <td>-0.087208</td>\n",
              "      <td>-0.084951</td>\n",
              "      <td>-0.258811</td>\n",
              "      <td>0.087191</td>\n",
              "      <td>-0.041700</td>\n",
              "      <td>-0.158683</td>\n",
              "      <td>-0.012887</td>\n",
              "      <td>-0.111130</td>\n",
              "      <td>...</td>\n",
              "      <td>0.000000</td>\n",
              "      <td>0.000000</td>\n",
              "      <td>0.000000</td>\n",
              "      <td>0.000000</td>\n",
              "      <td>0.00000</td>\n",
              "      <td>-0.013465</td>\n",
              "      <td>-0.715201</td>\n",
              "      <td>0.000000</td>\n",
              "      <td>0.000000</td>\n",
              "      <td>0.000000</td>\n",
              "    </tr>\n",
              "    <tr>\n",
              "      <th>1982</th>\n",
              "      <td>1.357949</td>\n",
              "      <td>11519.7</td>\n",
              "      <td>-0.357338</td>\n",
              "      <td>-0.196937</td>\n",
              "      <td>-0.433829</td>\n",
              "      <td>-0.108388</td>\n",
              "      <td>-0.010522</td>\n",
              "      <td>-0.538458</td>\n",
              "      <td>-0.211941</td>\n",
              "      <td>-0.156131</td>\n",
              "      <td>...</td>\n",
              "      <td>0.000000</td>\n",
              "      <td>0.000000</td>\n",
              "      <td>0.000000</td>\n",
              "      <td>0.000000</td>\n",
              "      <td>0.00000</td>\n",
              "      <td>-0.641513</td>\n",
              "      <td>0.043719</td>\n",
              "      <td>0.000000</td>\n",
              "      <td>0.000000</td>\n",
              "      <td>0.000000</td>\n",
              "    </tr>\n",
              "    <tr>\n",
              "      <th>1983</th>\n",
              "      <td>1.624118</td>\n",
              "      <td>12799.5</td>\n",
              "      <td>0.064702</td>\n",
              "      <td>0.259954</td>\n",
              "      <td>0.297082</td>\n",
              "      <td>-0.146317</td>\n",
              "      <td>0.242856</td>\n",
              "      <td>-0.069399</td>\n",
              "      <td>0.022740</td>\n",
              "      <td>-0.165062</td>\n",
              "      <td>...</td>\n",
              "      <td>1.198097</td>\n",
              "      <td>0.206157</td>\n",
              "      <td>0.000000</td>\n",
              "      <td>0.000000</td>\n",
              "      <td>0.00000</td>\n",
              "      <td>0.717042</td>\n",
              "      <td>0.207227</td>\n",
              "      <td>0.000000</td>\n",
              "      <td>-0.286570</td>\n",
              "      <td>0.000000</td>\n",
              "    </tr>\n",
              "    <tr>\n",
              "      <th>1984</th>\n",
              "      <td>1.500378</td>\n",
              "      <td>12044.9</td>\n",
              "      <td>-0.141534</td>\n",
              "      <td>-0.128566</td>\n",
              "      <td>-0.025731</td>\n",
              "      <td>0.142605</td>\n",
              "      <td>-0.161209</td>\n",
              "      <td>-0.166435</td>\n",
              "      <td>-0.130824</td>\n",
              "      <td>0.011527</td>\n",
              "      <td>...</td>\n",
              "      <td>-0.283743</td>\n",
              "      <td>0.324074</td>\n",
              "      <td>0.000000</td>\n",
              "      <td>0.294304</td>\n",
              "      <td>0.00000</td>\n",
              "      <td>0.605802</td>\n",
              "      <td>0.545126</td>\n",
              "      <td>-0.401749</td>\n",
              "      <td>-0.011464</td>\n",
              "      <td>-0.091303</td>\n",
              "    </tr>\n",
              "    <tr>\n",
              "      <th>1985</th>\n",
              "      <td>1.368707</td>\n",
              "      <td>11735.6</td>\n",
              "      <td>-0.121609</td>\n",
              "      <td>-0.338231</td>\n",
              "      <td>-0.382139</td>\n",
              "      <td>-0.020478</td>\n",
              "      <td>-0.130815</td>\n",
              "      <td>-0.258032</td>\n",
              "      <td>-0.040343</td>\n",
              "      <td>-0.059485</td>\n",
              "      <td>...</td>\n",
              "      <td>0.134474</td>\n",
              "      <td>-0.391836</td>\n",
              "      <td>0.490319</td>\n",
              "      <td>0.362322</td>\n",
              "      <td>-0.13024</td>\n",
              "      <td>-0.046661</td>\n",
              "      <td>-0.161557</td>\n",
              "      <td>0.138516</td>\n",
              "      <td>0.415375</td>\n",
              "      <td>1.027355</td>\n",
              "    </tr>\n",
              "  </tbody>\n",
              "</table>\n",
              "<p>5 rows × 93 columns</p>\n",
              "</div>"
            ],
            "text/plain": [
              "         Yield  Planted    AU_ALL    CS_ALL    EN_ALL    ES_ALL    MB_ALL  \\\n",
              "Year                                                                        \n",
              "1981  1.376496  11884.6 -0.087208 -0.084951 -0.258811  0.087191 -0.041700   \n",
              "1982  1.357949  11519.7 -0.357338 -0.196937 -0.433829 -0.108388 -0.010522   \n",
              "1983  1.624118  12799.5  0.064702  0.259954  0.297082 -0.146317  0.242856   \n",
              "1984  1.500378  12044.9 -0.141534 -0.128566 -0.025731  0.142605 -0.161209   \n",
              "1985  1.368707  11735.6 -0.121609 -0.338231 -0.382139 -0.020478 -0.130815   \n",
              "\n",
              "        MN_ALL    RN_ALL    RS_ALL  ...     ES_WI     MB_WI     MN_WI  \\\n",
              "Year                                ...                                 \n",
              "1981 -0.158683 -0.012887 -0.111130  ...  0.000000  0.000000  0.000000   \n",
              "1982 -0.538458 -0.211941 -0.156131  ...  0.000000  0.000000  0.000000   \n",
              "1983 -0.069399  0.022740 -0.165062  ...  1.198097  0.206157  0.000000   \n",
              "1984 -0.166435 -0.130824  0.011527  ... -0.283743  0.324074  0.000000   \n",
              "1985 -0.258032 -0.040343 -0.059485  ...  0.134474 -0.391836  0.490319   \n",
              "\n",
              "         RN_WI    RS_WI     SE_WI     ST_WI     SV_WI     SW_WI     WT_WI  \n",
              "Year                                                                       \n",
              "1981  0.000000  0.00000 -0.013465 -0.715201  0.000000  0.000000  0.000000  \n",
              "1982  0.000000  0.00000 -0.641513  0.043719  0.000000  0.000000  0.000000  \n",
              "1983  0.000000  0.00000  0.717042  0.207227  0.000000 -0.286570  0.000000  \n",
              "1984  0.294304  0.00000  0.605802  0.545126 -0.401749 -0.011464 -0.091303  \n",
              "1985  0.362322 -0.13024 -0.046661 -0.161557  0.138516  0.415375  1.027355  \n",
              "\n",
              "[5 rows x 93 columns]"
            ]
          },
          "execution_count": 156,
          "metadata": {},
          "output_type": "execute_result"
        }
      ],
      "source": [
        "#Linear Interpolation : final_data.interpolate().head()\n",
        "#Spline Interpolation\n",
        "final_data.interpolate(method='spline',order=3).head()"
      ]
    },
    {
      "cell_type": "code",
      "execution_count": 157,
      "metadata": {
        "colab": {
          "base_uri": "https://localhost:8080/",
          "height": 561
        },
        "id": "BMDuJfQW6pAe",
        "outputId": "a89f7c12-d30d-43d3-a40c-a26e3c4fb34c"
      },
      "outputs": [
        {
          "data": {
            "image/png": "[encoded data removed]",
            "text/plain": [
              "<Figure size 432x288 with 1 Axes>"
            ]
          },
          "metadata": {
            "needs_background": "light"
          },
          "output_type": "display_data"
        },
        {
          "data": {
            "image/png": "[encoded data removed]",
            "text/plain": [
              "<Figure size 432x288 with 3 Axes>"
            ]
          },
          "metadata": {
            "needs_background": "light"
          },
          "output_type": "display_data"
        }
      ],
      "source": [
        "output = boosted_model.detect_outliers(final_data.interpolate(method='spline',order=3)['Yield'],\n",
        "                                       trend_estimator='linear',\n",
        "                                       seasonal_estimator='fourier',\n",
        "                                      #  seasonal_period=25,\n",
        "                                       global_cost='maicc',\n",
        "                                       fit_type='global')\n",
        "boosted_model.plot_results(output)\n",
        "boosted_model.plot_components(output)"
      ]
    },
    {
      "cell_type": "code",
      "execution_count": 158,
      "metadata": {
        "id": "zGaqAoW48z86"
      },
      "outputs": [],
      "source": [
        "final_data = final_data.interpolate(method='spline',order=3)\n",
        "# final_data['Yield']=np.log(final_data['Yield'])"
      ]
    },
    {
      "cell_type": "markdown",
      "metadata": {
        "id": "0_n2mcl0Zl7Z"
      },
      "source": [
        "# Modelling\n"
      ]
    },
    {
      "cell_type": "code",
      "execution_count": 14,
      "metadata": {
        "id": "2xHlxfQRZlnS"
      },
      "outputs": [
        {
          "name": "stderr",
          "output_type": "stream",
          "text": [
            "2022-05-31 19:35:45.610521: W tensorflow/stream_executor/platform/default/dso_loader.cc:64] Could not load dynamic library 'libcudart.so.11.0'; dlerror: libcudart.so.11.0: cannot open shared object file: No such file or directory\n",
            "2022-05-31 19:35:45.610851: I tensorflow/stream_executor/cuda/cudart_stub.cc:29] Ignore above cudart dlerror if you do not have a GPU set up on your machine.\n"
          ]
        }
      ],
      "source": [
        "import tensorflow as tf\n",
        "from tensorflow.keras.models import Sequential\n",
        "from tensorflow.keras.layers import LSTM\n",
        "from tensorflow.keras.layers import Dense, Dropout\n",
        "from tensorflow.keras.callbacks import EarlyStopping\n",
        "from sklearn.preprocessing import StandardScaler"
      ]
    },
    {
      "cell_type": "code",
      "execution_count": 177,
      "metadata": {
        "colab": {
          "base_uri": "https://localhost:8080/"
        },
        "id": "etkW71ewZs9g",
        "outputId": "90b08b35-5d56-4144-e020-e2c037c681a6"
      },
      "outputs": [
        {
          "data": {
            "text/plain": [
              "array([-8.06857783e-01, -7.85812268e-01, -5.96172545e-01, -1.07155286e+00,\n",
              "       -6.68477519e-02, -5.33380094e-01, -7.71471248e-01, -4.27896266e-01,\n",
              "       -8.85442455e-01, -3.00530509e-01, -1.31110667e-01, -8.40321077e-01,\n",
              "       -6.16524746e-01,  4.01336447e-01, -3.40624450e-01,  3.05610000e-01,\n",
              "        3.66667025e-01,  1.26091549e+00, -1.06312378e+00, -6.93737632e-01,\n",
              "       -5.63230511e-01,  8.07586599e-02, -1.25689849e+00, -1.65766226e+00,\n",
              "        4.69463929e-01, -7.62374773e-01,  2.05662090e-01,  3.60656424e-01,\n",
              "       -6.90723972e-02,  4.55166546e-01, -1.24998940e-03, -2.69826402e-01,\n",
              "        1.39891891e+00,  6.44798079e-01, -9.01853889e-01,  3.55468452e-01,\n",
              "        1.42733327e-01, -4.85079521e-01, -6.36394816e-01,  1.64944036e+00,\n",
              "       -9.53366377e-01, -1.24835052e+00,  4.68271589e-01, -1.27980034e+00,\n",
              "       -3.52800749e-01, -4.22446631e-01, -2.92728276e-01, -8.07666357e-01,\n",
              "       -3.28309002e-01,  0.00000000e+00,  0.00000000e+00, -1.10331166e+00,\n",
              "       -8.25582275e-01, -6.32335554e-01, -5.43835211e-01, -7.49393125e-01,\n",
              "       -5.04558867e-01, -3.86182136e-01, -6.16563767e-01, -6.26642611e-01,\n",
              "       -4.49505478e-01, -3.12701529e-01, -2.58308011e-01, -3.29615916e-01,\n",
              "       -4.94627331e-01, -4.74576260e-01, -8.45361460e-01,  5.86008404e-01,\n",
              "       -2.63523153e-01,  3.93605745e-01, -3.04289612e-01, -1.11220621e+00,\n",
              "       -1.81803421e+00, -8.87231665e-01, -7.67289110e-01,  2.07744364e-01,\n",
              "       -3.18546030e-01, -2.35732138e+00, -7.37685056e-01,  1.72498792e-01,\n",
              "       -2.34940942e-01, -3.48546389e-02, -1.31212745e-02,  1.50749832e-01,\n",
              "       -2.58561722e-01,  3.30743089e-01,  4.79783052e-02,  2.48324415e-01,\n",
              "       -1.62264127e+00,  9.58816983e-02,  2.86272705e-01,  2.87710036e-01])"
            ]
          },
          "execution_count": 177,
          "metadata": {},
          "output_type": "execute_result"
        }
      ],
      "source": [
        "#Scaling The Data\n",
        "from sklearn.preprocessing import MinMaxScaler\n",
        "# scaler = MinMaxScaler(feature_range=(-1,1))\n",
        "scaler = StandardScaler()\n",
        "scaled = scaler.fit_transform(final_data.values)\n",
        "scaled[0]"
      ]
    },
    {
      "cell_type": "code",
      "execution_count": 161,
      "metadata": {
        "id": "uYPFn_y9aVky"
      },
      "outputs": [],
      "source": [
        "#Supervised form\n",
        "def to_supervised(data,dropNa = True,lag = 1):\n",
        "    df = pd.DataFrame(data)\n",
        "    column = []\n",
        "    column.append(df)\n",
        "    for i in range(1,lag+1):\n",
        "        column.append(df.shift(-i))\n",
        "    df = pd.concat(column,axis=1)\n",
        "    df.dropna(inplace = True)\n",
        "    features = data.shape[1]\n",
        "    df = df.values\n",
        "    supervised_data = df[:,:features*lag]\n",
        "    supervised_data = np.column_stack( [supervised_data, df[:,features*lag]])\n",
        "    return supervised_data"
      ]
    },
    {
      "cell_type": "code",
      "execution_count": 178,
      "metadata": {
        "colab": {
          "base_uri": "https://localhost:8080/",
          "height": 299
        },
        "id": "52aUwfQIaw00",
        "outputId": "f74a7003-703f-49d2-e79d-59025714c29b"
      },
      "outputs": [
        {
          "data": {
            "text/html": [
              "<div>\n",
              "<style scoped>\n",
              "    .dataframe tbody tr th:only-of-type {\n",
              "        vertical-align: middle;\n",
              "    }\n",
              "\n",
              "    .dataframe tbody tr th {\n",
              "        vertical-align: top;\n",
              "    }\n",
              "\n",
              "    .dataframe thead th {\n",
              "        text-align: right;\n",
              "    }\n",
              "</style>\n",
              "<table border=\"1\" class=\"dataframe\">\n",
              "  <thead>\n",
              "    <tr style=\"text-align: right;\">\n",
              "      <th></th>\n",
              "      <th>0</th>\n",
              "      <th>1</th>\n",
              "      <th>2</th>\n",
              "      <th>3</th>\n",
              "      <th>4</th>\n",
              "      <th>5</th>\n",
              "      <th>6</th>\n",
              "      <th>7</th>\n",
              "      <th>8</th>\n",
              "      <th>9</th>\n",
              "      <th>...</th>\n",
              "      <th>451</th>\n",
              "      <th>452</th>\n",
              "      <th>453</th>\n",
              "      <th>454</th>\n",
              "      <th>455</th>\n",
              "      <th>456</th>\n",
              "      <th>457</th>\n",
              "      <th>458</th>\n",
              "      <th>459</th>\n",
              "      <th>460</th>\n",
              "    </tr>\n",
              "  </thead>\n",
              "  <tbody>\n",
              "    <tr>\n",
              "      <th>0</th>\n",
              "      <td>-0.806858</td>\n",
              "      <td>-0.785812</td>\n",
              "      <td>-0.596173</td>\n",
              "      <td>-1.071553</td>\n",
              "      <td>-0.066848</td>\n",
              "      <td>-0.533380</td>\n",
              "      <td>-0.771471</td>\n",
              "      <td>-0.427896</td>\n",
              "      <td>-0.885442</td>\n",
              "      <td>-0.300531</td>\n",
              "      <td>...</td>\n",
              "      <td>-1.010224</td>\n",
              "      <td>1.610470</td>\n",
              "      <td>2.057235</td>\n",
              "      <td>-0.610113</td>\n",
              "      <td>0.185064</td>\n",
              "      <td>-0.379286</td>\n",
              "      <td>0.426218</td>\n",
              "      <td>1.524034</td>\n",
              "      <td>3.132590</td>\n",
              "      <td>-0.629114</td>\n",
              "    </tr>\n",
              "    <tr>\n",
              "      <th>1</th>\n",
              "      <td>-2.337185</td>\n",
              "      <td>-1.897260</td>\n",
              "      <td>-0.947711</td>\n",
              "      <td>-1.533164</td>\n",
              "      <td>-0.712829</td>\n",
              "      <td>-0.399485</td>\n",
              "      <td>-1.987593</td>\n",
              "      <td>-0.983909</td>\n",
              "      <td>-1.090134</td>\n",
              "      <td>-1.838072</td>\n",
              "      <td>...</td>\n",
              "      <td>0.069217</td>\n",
              "      <td>0.049403</td>\n",
              "      <td>0.484673</td>\n",
              "      <td>-0.434349</td>\n",
              "      <td>-0.416426</td>\n",
              "      <td>0.775949</td>\n",
              "      <td>-0.503375</td>\n",
              "      <td>-1.220427</td>\n",
              "      <td>-0.398338</td>\n",
              "      <td>-0.836876</td>\n",
              "    </tr>\n",
              "    <tr>\n",
              "      <th>2</th>\n",
              "      <td>-0.187850</td>\n",
              "      <td>-0.160778</td>\n",
              "      <td>0.486527</td>\n",
              "      <td>0.394612</td>\n",
              "      <td>-0.838107</td>\n",
              "      <td>0.688643</td>\n",
              "      <td>-0.485563</td>\n",
              "      <td>-0.328380</td>\n",
              "      <td>-1.130755</td>\n",
              "      <td>-0.210406</td>\n",
              "      <td>...</td>\n",
              "      <td>-1.435234</td>\n",
              "      <td>0.085588</td>\n",
              "      <td>1.938522</td>\n",
              "      <td>-0.253155</td>\n",
              "      <td>-0.457527</td>\n",
              "      <td>-1.008052</td>\n",
              "      <td>0.040682</td>\n",
              "      <td>1.271272</td>\n",
              "      <td>2.358613</td>\n",
              "      <td>-0.301321</td>\n",
              "    </tr>\n",
              "    <tr>\n",
              "      <th>3</th>\n",
              "      <td>-0.497177</td>\n",
              "      <td>-1.009337</td>\n",
              "      <td>-0.733086</td>\n",
              "      <td>-0.456807</td>\n",
              "      <td>0.116182</td>\n",
              "      <td>-1.046610</td>\n",
              "      <td>-0.796293</td>\n",
              "      <td>-0.757326</td>\n",
              "      <td>-0.327536</td>\n",
              "      <td>-1.693621</td>\n",
              "      <td>...</td>\n",
              "      <td>-0.831663</td>\n",
              "      <td>-0.320844</td>\n",
              "      <td>-0.317692</td>\n",
              "      <td>-2.065643</td>\n",
              "      <td>0.084586</td>\n",
              "      <td>-1.727291</td>\n",
              "      <td>0.724375</td>\n",
              "      <td>0.110055</td>\n",
              "      <td>0.490997</td>\n",
              "      <td>-0.301303</td>\n",
              "    </tr>\n",
              "    <tr>\n",
              "      <th>4</th>\n",
              "      <td>-0.826327</td>\n",
              "      <td>-0.927356</td>\n",
              "      <td>-1.391250</td>\n",
              "      <td>-1.396830</td>\n",
              "      <td>-0.422471</td>\n",
              "      <td>-0.916080</td>\n",
              "      <td>-1.089609</td>\n",
              "      <td>-0.504588</td>\n",
              "      <td>-0.650535</td>\n",
              "      <td>-0.702487</td>\n",
              "      <td>...</td>\n",
              "      <td>-0.155783</td>\n",
              "      <td>-0.585720</td>\n",
              "      <td>-1.957148</td>\n",
              "      <td>-0.734671</td>\n",
              "      <td>-0.457527</td>\n",
              "      <td>0.140558</td>\n",
              "      <td>-1.914156</td>\n",
              "      <td>0.528354</td>\n",
              "      <td>1.604321</td>\n",
              "      <td>-0.162181</td>\n",
              "    </tr>\n",
              "  </tbody>\n",
              "</table>\n",
              "<p>5 rows × 461 columns</p>\n",
              "</div>"
            ],
            "text/plain": [
              "        0         1         2         3         4         5         6    \\\n",
              "0 -0.806858 -0.785812 -0.596173 -1.071553 -0.066848 -0.533380 -0.771471   \n",
              "1 -2.337185 -1.897260 -0.947711 -1.533164 -0.712829 -0.399485 -1.987593   \n",
              "2 -0.187850 -0.160778  0.486527  0.394612 -0.838107  0.688643 -0.485563   \n",
              "3 -0.497177 -1.009337 -0.733086 -0.456807  0.116182 -1.046610 -0.796293   \n",
              "4 -0.826327 -0.927356 -1.391250 -1.396830 -0.422471 -0.916080 -1.089609   \n",
              "\n",
              "        7         8         9    ...       451       452       453       454  \\\n",
              "0 -0.427896 -0.885442 -0.300531  ... -1.010224  1.610470  2.057235 -0.610113   \n",
              "1 -0.983909 -1.090134 -1.838072  ...  0.069217  0.049403  0.484673 -0.434349   \n",
              "2 -0.328380 -1.130755 -0.210406  ... -1.435234  0.085588  1.938522 -0.253155   \n",
              "3 -0.757326 -0.327536 -1.693621  ... -0.831663 -0.320844 -0.317692 -2.065643   \n",
              "4 -0.504588 -0.650535 -0.702487  ... -0.155783 -0.585720 -1.957148 -0.734671   \n",
              "\n",
              "        455       456       457       458       459       460  \n",
              "0  0.185064 -0.379286  0.426218  1.524034  3.132590 -0.629114  \n",
              "1 -0.416426  0.775949 -0.503375 -1.220427 -0.398338 -0.836876  \n",
              "2 -0.457527 -1.008052  0.040682  1.271272  2.358613 -0.301321  \n",
              "3  0.084586 -1.727291  0.724375  0.110055  0.490997 -0.301303  \n",
              "4 -0.457527  0.140558 -1.914156  0.528354  1.604321 -0.162181  \n",
              "\n",
              "[5 rows x 461 columns]"
            ]
          },
          "execution_count": 178,
          "metadata": {},
          "output_type": "execute_result"
        }
      ],
      "source": [
        "timeSteps = 5\n",
        "\n",
        "supervised = to_supervised(scaled,lag=timeSteps)\n",
        "pd.DataFrame(supervised).head()"
      ]
    },
    {
      "cell_type": "code",
      "execution_count": 179,
      "metadata": {
        "colab": {
          "base_uri": "https://localhost:8080/"
        },
        "id": "561Nkqxva3F3",
        "outputId": "e497836b-64e9-45e8-d655-b820136396ce"
      },
      "outputs": [
        {
          "name": "stdout",
          "output_type": "stream",
          "text": [
            "(25, 460) (10, 460) (25,) (10,)\n"
          ]
        }
      ],
      "source": [
        "#Training and Testing Splitting\n",
        "features = final_data.shape[1]\n",
        "train_years = 25\n",
        "X = supervised[:,:features*timeSteps]\n",
        "y = supervised[:,features*timeSteps]\n",
        "\n",
        "x_train = X[:train_years,:]\n",
        "x_test = X[train_years:,:]\n",
        "y_train = y[:train_years]\n",
        "y_test = y[train_years:]\n",
        "\n",
        "print(x_train.shape,x_test.shape,y_train.shape,y_test.shape)"
      ]
    },
    {
      "cell_type": "code",
      "execution_count": 180,
      "metadata": {
        "colab": {
          "base_uri": "https://localhost:8080/"
        },
        "id": "9_5JJa7KbRPB",
        "outputId": "b82b0730-83fe-42a9-a923-80953df7429d"
      },
      "outputs": [
        {
          "name": "stdout",
          "output_type": "stream",
          "text": [
            "(25, 5, 92) (10, 5, 92)\n"
          ]
        }
      ],
      "source": [
        "#Convert Data Shape to Fit LSTM Model\n",
        "\n",
        "x_train = x_train.reshape(x_train.shape[0], timeSteps, features)\n",
        "x_test = x_test.reshape(x_test.shape[0], timeSteps, features)\n",
        "\n",
        "print(x_train.shape,x_test.shape)"
      ]
    },
    {
      "cell_type": "markdown",
      "metadata": {},
      "source": [
        "Hyperparameter Tuning using Bayesian Optimization"
      ]
    },
    {
      "cell_type": "code",
      "execution_count": 64,
      "metadata": {},
      "outputs": [],
      "source": [
        "import hp\n",
        "import keras\n",
        "from kerastuner.tuners import BayesianOptimization\n",
        "from sklearn.metrics import mean_absolute_error,mean_squared_error,mean_absolute_percentage_error,r2_score"
      ]
    },
    {
      "cell_type": "code",
      "execution_count": 181,
      "metadata": {},
      "outputs": [
        {
          "name": "stdout",
          "output_type": "stream",
          "text": [
            "Trial 3 Complete [00h 00m 10s]\n",
            "mse: 0.02910834178328514\n",
            "\n",
            "Best mse So Far: 0.011932234279811382\n",
            "Total elapsed time: 00h 00m 35s\n",
            "INFO:tensorflow:Oracle triggered exit\n"
          ]
        }
      ],
      "source": [
        "def build(hp):\n",
        "    activation = hp.Choice('activation', \n",
        "                        [\n",
        "                          'relu',\n",
        "                          'tanh',\n",
        "                          'linear',\n",
        "                          'selu',\n",
        "                          'elu'\n",
        "                        ])\n",
        "\n",
        "    num_rnn_layers = hp.Int(\n",
        "                        'num_rnn_layers', \n",
        "                        min_value=0,\n",
        "                        max_value=20,\n",
        "                        default=3)\n",
        "\n",
        "    recurrent_dropout = hp.Float(\n",
        "                        'recurrent_dropout', \n",
        "                        min_value=0.0,\n",
        "                        max_value=0.99,\n",
        "                        default=0.2)\n",
        "    num_units = hp.Int(\n",
        "                        'num_units', \n",
        "                        min_value=0,\n",
        "                        max_value=64,\n",
        "                        default=32)\n",
        "    \n",
        "    model = Sequential()\n",
        "    model.add(LSTM(units=num_units, activation=activation, recurrent_dropout = recurrent_dropout,input_shape=( timeSteps,x_train.shape[2])))\n",
        "    model.add(Dense(1))\n",
        "    # model.compile(loss='mse', metrics=['mse'], optimizer=tf.keras.optimizers.Adam(\n",
        "    #   hp.Choice('learning_rate', values=[1e-2, 1e-3, 1e-4])))\n",
        "    model.compile(\n",
        "      optimizer=tf.keras.optimizers.Adam(\n",
        "      hp.Float(\n",
        "        'learning_rate',\n",
        "        min_value=1e-10,\n",
        "        max_value=1e-2,\n",
        "        sampling='LOG',\n",
        "        default=1e-6\n",
        "            ),\n",
        "\n",
        "        ),\n",
        "        # loss=tf.losses.MeanSquaredError(),\n",
        "        loss = 'mse',\n",
        "        # metrics=[tf.metrics.MeanAbsoluteError()]\n",
        "        metrics = ['mse']\n",
        "    )\n",
        "    return model\n",
        "\n",
        "bayesian_opt_tuner = BayesianOptimization(\n",
        "    build,\n",
        "    objective='mse',\n",
        "    max_trials=3,\n",
        "    executions_per_trial=1,\n",
        "    directory=os.path.normpath('/home/matthewfarant123/apu-fyp/keras-tuning'),\n",
        "    project_name='kerastuner_bayesian_poc',\n",
        "    overwrite=True)\n",
        "n_epochs=100\n",
        "\n",
        "bayesian_opt_tuner.search(x_train, y_train,epochs=n_epochs,\n",
        "     validation_data=(x_test, y_test),\n",
        "    #  batch_size=int(len(x_train)/2),\n",
        "     validation_split=0.2,verbose=1)\n",
        "\n",
        "\n",
        "bayes_opt_model_best_model = bayesian_opt_tuner.get_best_models(num_models=1)\n",
        "model = bayes_opt_model_best_model[0]"
      ]
    },
    {
      "cell_type": "code",
      "execution_count": 182,
      "metadata": {
        "id": "Izf3YcEQbWF-"
      },
      "outputs": [],
      "source": [
        "#Defining the Model\n",
        "\n",
        "# model = Sequential()\n",
        "# model.add( LSTM( 256, input_shape = ( timeSteps,x_train.shape[2]),return_sequences=True ))\n",
        "# model.add( LSTM( 128, input_shape = ( timeSteps,x_train.shape[2]),return_sequences=True ))\n",
        "# model.add( LSTM( 64, input_shape = ( timeSteps,x_train.shape[2]),return_sequences=True ))\n",
        "# model.add( LSTM( 32, input_shape = ( timeSteps,x_train.shape[2]),return_sequences=True))\n",
        "# model.add( LSTM( 16, input_shape = ( timeSteps,x_train.shape[2]),return_sequences=False))\n",
        "# # model.add(Dropout(0.2))\n",
        "# model.add(Dense(1))\n",
        "\n",
        "# model.compile( loss = \"mse\", optimizer = \"adam\")\n",
        "\n",
        "history =  model.fit( x_train,y_train,\n",
        "                     validation_data = (x_test,y_test),\n",
        "                     epochs = 100 ,\n",
        "                     batch_size = 72,\n",
        "                    #  callbacks=[EarlyStopping(monitor='val_loss', patience=10)],\n",
        "                     verbose = 0,\n",
        "                     shuffle = False)"
      ]
    },
    {
      "cell_type": "code",
      "execution_count": 183,
      "metadata": {
        "colab": {
          "base_uri": "https://localhost:8080/",
          "height": 281
        },
        "id": "wP8UC14lbjHu",
        "outputId": "cb52ae4f-a146-45f7-a4f4-d7b4722741e7"
      },
      "outputs": [
        {
          "data": {
            "image/png": "[encoded data removed]",
            "text/plain": [
              "<Figure size 432x288 with 1 Axes>"
            ]
          },
          "metadata": {
            "needs_background": "light"
          },
          "output_type": "display_data"
        }
      ],
      "source": [
        "#Learning Curves\n",
        "plt.plot(history.history['loss'], label='train')\n",
        "plt.plot(history.history['val_loss'], label='test')\n",
        "plt.legend()\n",
        "plt.title(\"Loss During Training\")\n",
        "plt.show()"
      ]
    },
    {
      "cell_type": "code",
      "execution_count": 184,
      "metadata": {
        "id": "p0fFzlDFc8yU"
      },
      "outputs": [
        {
          "name": "stdout",
          "output_type": "stream",
          "text": [
            "WARNING:tensorflow:6 out of the last 6 calls to <function Model.make_predict_function.<locals>.predict_function at 0x7f9ce0dac700> triggered tf.function retracing. Tracing is expensive and the excessive number of tracings could be due to (1) creating @tf.function repeatedly in a loop, (2) passing tensors with different shapes, (3) passing Python objects instead of tensors. For (1), please define your @tf.function outside of the loop. For (2), @tf.function has experimental_relax_shapes=True option that relaxes argument shapes that can avoid unnecessary retracing. For (3), please refer to https://www.tensorflow.org/guide/function#controlling_retracing and https://www.tensorflow.org/api_docs/python/tf/function for  more details.\n"
          ]
        }
      ],
      "source": [
        "#Scaling Back the Wheat Yield Data to Original Scale\n",
        "y_pred = model.predict(x_test)\n",
        "x_test = x_test.reshape(x_test.shape[0],x_test.shape[2]*x_test.shape[1])\n",
        "\n",
        "inv_new = np.concatenate( (y_pred, x_test[:,-91:] ) , axis =1)\n",
        "inv_new = scaler.inverse_transform(inv_new)\n",
        "final_pred = inv_new[:,0]\n",
        "\n",
        "y_test = y_test.reshape( len(y_test), 1)\n",
        "\n",
        "inv_new = np.concatenate( (y_test, x_test[:,-91:] ) ,axis = 1)\n",
        "inv_new = scaler.inverse_transform(inv_new)\n",
        "actual_pred = inv_new[:,0]"
      ]
    },
    {
      "cell_type": "code",
      "execution_count": 206,
      "metadata": {
        "colab": {
          "base_uri": "https://localhost:8080/",
          "height": 363
        },
        "id": "dVG1T9_ifY-X",
        "outputId": "4a603444-165f-4087-cba8-2619dc60e50e"
      },
      "outputs": [
        {
          "data": {
            "text/html": [
              "<div>\n",
              "<style scoped>\n",
              "    .dataframe tbody tr th:only-of-type {\n",
              "        vertical-align: middle;\n",
              "    }\n",
              "\n",
              "    .dataframe tbody tr th {\n",
              "        vertical-align: top;\n",
              "    }\n",
              "\n",
              "    .dataframe thead th {\n",
              "        text-align: right;\n",
              "    }\n",
              "</style>\n",
              "<table border=\"1\" class=\"dataframe\">\n",
              "  <thead>\n",
              "    <tr style=\"text-align: right;\">\n",
              "      <th></th>\n",
              "      <th>Date</th>\n",
              "      <th>Yield</th>\n",
              "    </tr>\n",
              "  </thead>\n",
              "  <tbody>\n",
              "    <tr>\n",
              "      <th>0</th>\n",
              "      <td>2011</td>\n",
              "      <td>1.981208</td>\n",
              "    </tr>\n",
              "    <tr>\n",
              "      <th>1</th>\n",
              "      <td>2012</td>\n",
              "      <td>1.744032</td>\n",
              "    </tr>\n",
              "    <tr>\n",
              "      <th>2</th>\n",
              "      <td>2013</td>\n",
              "      <td>2.124026</td>\n",
              "    </tr>\n",
              "    <tr>\n",
              "      <th>3</th>\n",
              "      <td>2014</td>\n",
              "      <td>1.910423</td>\n",
              "    </tr>\n",
              "    <tr>\n",
              "      <th>4</th>\n",
              "      <td>2015</td>\n",
              "      <td>1.907056</td>\n",
              "    </tr>\n",
              "    <tr>\n",
              "      <th>5</th>\n",
              "      <td>2016</td>\n",
              "      <td>2.277056</td>\n",
              "    </tr>\n",
              "    <tr>\n",
              "      <th>6</th>\n",
              "      <td>2017</td>\n",
              "      <td>1.892232</td>\n",
              "    </tr>\n",
              "    <tr>\n",
              "      <th>7</th>\n",
              "      <td>2018</td>\n",
              "      <td>1.557684</td>\n",
              "    </tr>\n",
              "    <tr>\n",
              "      <th>8</th>\n",
              "      <td>2019</td>\n",
              "      <td>1.269301</td>\n",
              "    </tr>\n",
              "    <tr>\n",
              "      <th>9</th>\n",
              "      <td>2020</td>\n",
              "      <td>2.037722</td>\n",
              "    </tr>\n",
              "  </tbody>\n",
              "</table>\n",
              "</div>"
            ],
            "text/plain": [
              "   Date     Yield\n",
              "0  2011  1.981208\n",
              "1  2012  1.744032\n",
              "2  2013  2.124026\n",
              "3  2014  1.910423\n",
              "4  2015  1.907056\n",
              "5  2016  2.277056\n",
              "6  2017  1.892232\n",
              "7  2018  1.557684\n",
              "8  2019  1.269301\n",
              "9  2020  2.037722"
            ]
          },
          "execution_count": 206,
          "metadata": {},
          "output_type": "execute_result"
        }
      ],
      "source": [
        "#Predicted Year\n",
        "df_forecast = pd.DataFrame({'Date':np.arange(start=2021-len(final_pred), stop=2021, step=1), 'Yield':final_pred})\n",
        "df_forecast"
      ]
    },
    {
      "cell_type": "code",
      "execution_count": 192,
      "metadata": {
        "id": "IPNjXuNIl1Jo"
      },
      "outputs": [],
      "source": [
        "final_data['Year'] = final_data.index"
      ]
    },
    {
      "cell_type": "code",
      "execution_count": 209,
      "metadata": {
        "colab": {
          "base_uri": "https://localhost:8080/",
          "height": 313
        },
        "id": "NgM9lWWglNH_",
        "outputId": "5d595332-9666-41da-ffd1-773c423a37ac"
      },
      "outputs": [
        {
          "name": "stderr",
          "output_type": "stream",
          "text": [
            "/home/matthewfarant123/fyp_venv/lib/python3.8/site-packages/seaborn/_decorators.py:36: FutureWarning: Pass the following variables as keyword args: x, y. From version 0.12, the only valid positional argument will be `data`, and passing other arguments without an explicit keyword will result in an error or misinterpretation.\n",
            "  warnings.warn(\n",
            "/home/matthewfarant123/fyp_venv/lib/python3.8/site-packages/seaborn/_decorators.py:36: FutureWarning: Pass the following variables as keyword args: x, y. From version 0.12, the only valid positional argument will be `data`, and passing other arguments without an explicit keyword will result in an error or misinterpretation.\n",
            "  warnings.warn(\n"
          ]
        },
        {
          "data": {
            "text/plain": [
              "<AxesSubplot:title={'center':'Actual vs. Forecast (LSTM)'}, xlabel='Year', ylabel='Yield (t/ha)'>"
            ]
          },
          "execution_count": 209,
          "metadata": {},
          "output_type": "execute_result"
        },
        {
          "data": {
            "image/png": "[encoded data removed]",
            "text/plain": [
              "<Figure size 432x288 with 1 Axes>"
            ]
          },
          "metadata": {
            "needs_background": "light"
          },
          "output_type": "display_data"
        }
      ],
      "source": [
        "#Actual vs. Forecast Plot\n",
        "original = final_data[['Year', 'Yield']]\n",
        "lower_ci_99 = df_forecast['Yield']-2.576*(np.std(final_pred)/np.sqrt(10))\n",
        "upper_ci_99 = df_forecast['Yield']+2.576*(np.std(final_pred)/np.sqrt(10))\n",
        "lower_ci_95 = df_forecast['Yield']-1.96*(np.std(final_pred)/np.sqrt(10))\n",
        "upper_ci_95 = df_forecast['Yield']+1.96*(np.std(final_pred)/np.sqrt(10))\n",
        "\n",
        "sn.lineplot(original['Year'], original['Yield'],label='Actual').set(title='Actual vs. Forecast (LSTM)',ylabel='Yield (t/ha)')\n",
        "sn.lineplot(df_forecast['Date'], df_forecast['Yield'],label='Forecast')\n",
        "plt.fill_between(df_forecast['Date'], lower_ci_99, upper_ci_99, color='orange', alpha=.1)\n",
        "plt.fill_between(df_forecast['Date'], lower_ci_95, upper_ci_95, color='orange', alpha=.3)\n",
        "plt.legend(loc='upper left')\n",
        "sn.lineplot()"
      ]
    },
    {
      "cell_type": "code",
      "execution_count": 210,
      "metadata": {
        "colab": {
          "base_uri": "https://localhost:8080/"
        },
        "id": "qKGhxd3RgRi7",
        "outputId": "b1824ff3-c797-4044-ba72-6a8e2f02837d"
      },
      "outputs": [
        {
          "name": "stdout",
          "output_type": "stream",
          "text": [
            "MAE: 0.16196691115372797\n",
            "RMSE: 0.22772342911053836\n",
            "MAPE: 0.08618734097609346\n"
          ]
        }
      ],
      "source": [
        "from sklearn.metrics import mean_absolute_error,mean_squared_error,mean_absolute_percentage_error,r2_score\n",
        "\n",
        "print('MAE: '+ str(mean_absolute_error(final_pred,actual_pred)))\n",
        "print('RMSE: '+ str(np.sqrt(mean_squared_error(final_pred,actual_pred))))\n",
        "print('MAPE: '+ str(mean_absolute_percentage_error(final_pred,actual_pred)))"
      ]
    },
    {
      "cell_type": "markdown",
      "metadata": {},
      "source": [
        "# Darts"
      ]
    },
    {
      "cell_type": "markdown",
      "metadata": {},
      "source": [
        "## Univariate"
      ]
    },
    {
      "cell_type": "code",
      "execution_count": 59,
      "metadata": {},
      "outputs": [],
      "source": [
        "from darts import TimeSeries\n",
        "\n",
        "# Create a TimeSeries, specifying the time and value columns\n",
        "series = TimeSeries.from_dataframe(final_data, 'Year', 'Yield')\n",
        "\n",
        "# Set aside the last 36 months as a validation series\n",
        "train, val = series[:-9], series[-9:]"
      ]
    },
    {
      "cell_type": "code",
      "execution_count": 60,
      "metadata": {},
      "outputs": [
        {
          "name": "stderr",
          "output_type": "stream",
          "text": [
            "2022-05-23 22:33:21 prophet.plot ERROR: Importing plotly failed. Interactive plots will not work.\n"
          ]
        }
      ],
      "source": [
        "from darts.models import ARIMA\n",
        "\n",
        "model = ARIMA()\n",
        "model.fit(train)\n",
        "prediction = model.predict(len(val), num_samples=1000)"
      ]
    },
    {
      "cell_type": "code",
      "execution_count": 62,
      "metadata": {},
      "outputs": [
        {
          "data": {
            "image/png": "[encoded data removed]",
            "text/plain": [
              "<Figure size 576x360 with 1 Axes>"
            ]
          },
          "metadata": {
            "needs_background": "light"
          },
          "output_type": "display_data"
        }
      ],
      "source": [
        "from darts.metrics import rmse\n",
        "def eval_model(model):\n",
        "    pred_series = model.predict(len(val), num_samples=1000)\n",
        "    plt.figure(figsize=(8, 5))\n",
        "    series.plot(label=\"actual\")\n",
        "    pred_series.plot(label=\"forecast\")\n",
        "    plt.title(\"RMSE: {:.2f}%\".format(rmse(pred_series, val)))\n",
        "    plt.legend()\n",
        "\n",
        "\n",
        "eval_model(model)"
      ]
    },
    {
      "cell_type": "markdown",
      "metadata": {},
      "source": [
        "## Multivariate"
      ]
    },
    {
      "cell_type": "code",
      "execution_count": 63,
      "metadata": {},
      "outputs": [],
      "source": [
        "from darts.models import RNNModel\n",
        "from darts import TimeSeries\n",
        "from darts.metrics import rmse"
      ]
    },
    {
      "cell_type": "code",
      "execution_count": 64,
      "metadata": {},
      "outputs": [
        {
          "data": {
            "text/html": [
              "<div>\n",
              "<style scoped>\n",
              "    .dataframe tbody tr th:only-of-type {\n",
              "        vertical-align: middle;\n",
              "    }\n",
              "\n",
              "    .dataframe tbody tr th {\n",
              "        vertical-align: top;\n",
              "    }\n",
              "\n",
              "    .dataframe thead th {\n",
              "        text-align: right;\n",
              "    }\n",
              "</style>\n",
              "<table border=\"1\" class=\"dataframe\">\n",
              "  <thead>\n",
              "    <tr style=\"text-align: right;\">\n",
              "      <th></th>\n",
              "      <th>Yield</th>\n",
              "      <th>AU</th>\n",
              "      <th>CS</th>\n",
              "      <th>CN</th>\n",
              "      <th>ES</th>\n",
              "      <th>MB</th>\n",
              "      <th>MN</th>\n",
              "      <th>RN</th>\n",
              "      <th>RS</th>\n",
              "      <th>SE</th>\n",
              "      <th>ST</th>\n",
              "      <th>SV</th>\n",
              "      <th>SW</th>\n",
              "      <th>WT</th>\n",
              "      <th>Year</th>\n",
              "    </tr>\n",
              "    <tr>\n",
              "      <th>Year</th>\n",
              "      <th></th>\n",
              "      <th></th>\n",
              "      <th></th>\n",
              "      <th></th>\n",
              "      <th></th>\n",
              "      <th></th>\n",
              "      <th></th>\n",
              "      <th></th>\n",
              "      <th></th>\n",
              "      <th></th>\n",
              "      <th></th>\n",
              "      <th></th>\n",
              "      <th></th>\n",
              "      <th></th>\n",
              "      <th></th>\n",
              "    </tr>\n",
              "  </thead>\n",
              "  <tbody>\n",
              "    <tr>\n",
              "      <th>1981</th>\n",
              "      <td>1.376496</td>\n",
              "      <td>-0.087208</td>\n",
              "      <td>-0.084951</td>\n",
              "      <td>-0.258811</td>\n",
              "      <td>0.087191</td>\n",
              "      <td>-0.041700</td>\n",
              "      <td>-0.158683</td>\n",
              "      <td>-0.012887</td>\n",
              "      <td>-0.111130</td>\n",
              "      <td>-0.007505</td>\n",
              "      <td>0.058336</td>\n",
              "      <td>-0.134609</td>\n",
              "      <td>-0.084965</td>\n",
              "      <td>0.189143</td>\n",
              "      <td>1981</td>\n",
              "    </tr>\n",
              "    <tr>\n",
              "      <th>1982</th>\n",
              "      <td>0.764317</td>\n",
              "      <td>-0.357338</td>\n",
              "      <td>-0.196937</td>\n",
              "      <td>-0.433829</td>\n",
              "      <td>-0.108388</td>\n",
              "      <td>-0.010522</td>\n",
              "      <td>-0.538458</td>\n",
              "      <td>-0.211941</td>\n",
              "      <td>-0.156131</td>\n",
              "      <td>-0.452043</td>\n",
              "      <td>-0.043819</td>\n",
              "      <td>-0.345070</td>\n",
              "      <td>-0.214564</td>\n",
              "      <td>-0.333190</td>\n",
              "      <td>1982</td>\n",
              "    </tr>\n",
              "    <tr>\n",
              "      <th>1983</th>\n",
              "      <td>1.624118</td>\n",
              "      <td>0.064702</td>\n",
              "      <td>0.259954</td>\n",
              "      <td>0.297082</td>\n",
              "      <td>-0.146317</td>\n",
              "      <td>0.242856</td>\n",
              "      <td>-0.069399</td>\n",
              "      <td>0.022740</td>\n",
              "      <td>-0.165062</td>\n",
              "      <td>0.018552</td>\n",
              "      <td>0.095853</td>\n",
              "      <td>0.186962</td>\n",
              "      <td>0.207787</td>\n",
              "      <td>0.044916</td>\n",
              "      <td>1983</td>\n",
              "    </tr>\n",
              "    <tr>\n",
              "      <th>1984</th>\n",
              "      <td>1.500378</td>\n",
              "      <td>-0.141534</td>\n",
              "      <td>-0.128566</td>\n",
              "      <td>-0.025731</td>\n",
              "      <td>0.142605</td>\n",
              "      <td>-0.161209</td>\n",
              "      <td>-0.166435</td>\n",
              "      <td>-0.130824</td>\n",
              "      <td>0.011527</td>\n",
              "      <td>-0.410279</td>\n",
              "      <td>-0.190843</td>\n",
              "      <td>-0.291107</td>\n",
              "      <td>-0.238221</td>\n",
              "      <td>-0.426922</td>\n",
              "      <td>1984</td>\n",
              "    </tr>\n",
              "    <tr>\n",
              "      <th>1985</th>\n",
              "      <td>1.368707</td>\n",
              "      <td>-0.121609</td>\n",
              "      <td>-0.338231</td>\n",
              "      <td>-0.382139</td>\n",
              "      <td>-0.020478</td>\n",
              "      <td>-0.130815</td>\n",
              "      <td>-0.258032</td>\n",
              "      <td>-0.040343</td>\n",
              "      <td>-0.059485</td>\n",
              "      <td>-0.123720</td>\n",
              "      <td>-0.047249</td>\n",
              "      <td>0.061038</td>\n",
              "      <td>0.057917</td>\n",
              "      <td>-0.163531</td>\n",
              "      <td>1985</td>\n",
              "    </tr>\n",
              "  </tbody>\n",
              "</table>\n",
              "</div>"
            ],
            "text/plain": [
              "         Yield        AU        CS        CN        ES        MB        MN  \\\n",
              "Year                                                                         \n",
              "1981  1.376496 -0.087208 -0.084951 -0.258811  0.087191 -0.041700 -0.158683   \n",
              "1982  0.764317 -0.357338 -0.196937 -0.433829 -0.108388 -0.010522 -0.538458   \n",
              "1983  1.624118  0.064702  0.259954  0.297082 -0.146317  0.242856 -0.069399   \n",
              "1984  1.500378 -0.141534 -0.128566 -0.025731  0.142605 -0.161209 -0.166435   \n",
              "1985  1.368707 -0.121609 -0.338231 -0.382139 -0.020478 -0.130815 -0.258032   \n",
              "\n",
              "            RN        RS        SE        ST        SV        SW        WT  \\\n",
              "Year                                                                         \n",
              "1981 -0.012887 -0.111130 -0.007505  0.058336 -0.134609 -0.084965  0.189143   \n",
              "1982 -0.211941 -0.156131 -0.452043 -0.043819 -0.345070 -0.214564 -0.333190   \n",
              "1983  0.022740 -0.165062  0.018552  0.095853  0.186962  0.207787  0.044916   \n",
              "1984 -0.130824  0.011527 -0.410279 -0.190843 -0.291107 -0.238221 -0.426922   \n",
              "1985 -0.040343 -0.059485 -0.123720 -0.047249  0.061038  0.057917 -0.163531   \n",
              "\n",
              "      Year  \n",
              "Year        \n",
              "1981  1981  \n",
              "1982  1982  \n",
              "1983  1983  \n",
              "1984  1984  \n",
              "1985  1985  "
            ]
          },
          "execution_count": 64,
          "metadata": {},
          "output_type": "execute_result"
        }
      ],
      "source": [
        "final_data.head()"
      ]
    },
    {
      "cell_type": "code",
      "execution_count": 65,
      "metadata": {},
      "outputs": [],
      "source": [
        "# Create a TimeSeries, specifying the time and value columns\n",
        "series_yield = TimeSeries.from_dataframe(final_data, 'Year', 'Yield')\n",
        "train_yield, val_yield = series_yield[:-10], series_yield[-10:]\n",
        "\n",
        "series_AU = TimeSeries.from_dataframe(final_data, 'Year', 'AU')\n",
        "train_AU, val_AU = series_AU[:-10], series_AU[-10:]\n",
        "\n",
        "series_CS = TimeSeries.from_dataframe(final_data, 'Year', 'CS')\n",
        "train_CS, val_CS = series_CS[:-10], series_CS[-10:]\n",
        "\n",
        "series_CN = TimeSeries.from_dataframe(final_data, 'Year', 'CN')\n",
        "train_CN, val_CN = series_CN[:-10], series_CN[-10:]\n",
        "\n",
        "series_ES = TimeSeries.from_dataframe(final_data, 'Year', 'ES')\n",
        "train_ES, val_ES = series_ES[:-10], series_ES[-10:]\n",
        "\n",
        "series_MB = TimeSeries.from_dataframe(final_data, 'Year', 'MB')\n",
        "train_MB, val_MB = series_MB[:-10], series_MB[-10:]\n",
        "\n",
        "series_MN = TimeSeries.from_dataframe(final_data, 'Year', 'MN')\n",
        "train_MN, val_MN = series_MN[:-10], series_MN[-10:]\n",
        "\n",
        "series_RN = TimeSeries.from_dataframe(final_data, 'Year', 'RN')\n",
        "train_RN, val_RN = series_RN[:-10], series_RN[-10:]\n",
        "\n",
        "series_RS = TimeSeries.from_dataframe(final_data, 'Year', 'RS')\n",
        "train_RS, val_RS = series_RS[:-10], series_RS[-10:]\n",
        "\n",
        "series_SE = TimeSeries.from_dataframe(final_data, 'Year', 'SE')\n",
        "train_SE, val_SE = series_SE[:-10], series_SE[-10:]\n",
        "\n",
        "series_ST = TimeSeries.from_dataframe(final_data, 'Year', 'ST')\n",
        "train_ST, val_ST = series_ST[:-10], series_ST[-10:]\n",
        "\n",
        "series_SV = TimeSeries.from_dataframe(final_data, 'Year', 'SV')\n",
        "train_SV, val_SV = series_SV[:-10], series_SV[-10:]\n",
        "\n",
        "series_SW = TimeSeries.from_dataframe(final_data, 'Year', 'SW')\n",
        "train_SW, val_SW = series_SW[:-10], series_SW[-10:]\n",
        "\n",
        "series_WT = TimeSeries.from_dataframe(final_data, 'Year', 'WT')\n",
        "train_WT, val_WT = series_WT[:-10], series_WT[-10:]\n"
      ]
    },
    {
      "cell_type": "code",
      "execution_count": null,
      "metadata": {},
      "outputs": [],
      "source": [
        "rmse_results=[]\n",
        "for i in range(30):\n",
        "    model_lstm = RNNModel(\n",
        "        model=\"LSTM\",\n",
        "        hidden_dim=100,\n",
        "        dropout=0,\n",
        "        batch_size=72,\n",
        "        n_epochs=100,\n",
        "        optimizer_kwargs={\"lr\": 1e-3},\n",
        "        model_name=\"AACI_RNN\",\n",
        "        log_tensorboard=True,\n",
        "        # random_state=42,\n",
        "        # training_length=20,\n",
        "        input_chunk_length=i,\n",
        "        force_reset=True,\n",
        "        save_checkpoints=True,\n",
        "    )\n",
        "    model_lstm.fit([train_yield,train_AU,train_CS,train_CN,train_ES,train_MB,train_MN,train_RN,train_RS,train_SE,train_ST,train_SV,train_SW,train_WT])\n",
        "    pred_series = model_lstm.predict(len(val_yield),series=train_yield, num_samples=1000)\n",
        "    rmse_results.append(rmse(pred_series, val_yield))\n",
        "\n",
        "print(rmse_results)"
      ]
    },
    {
      "cell_type": "code",
      "execution_count": 187,
      "metadata": {},
      "outputs": [
        {
          "data": {
            "image/png": "[encoded data removed]",
            "text/plain": [
              "<Figure size 432x288 with 1 Axes>"
            ]
          },
          "metadata": {
            "needs_background": "light"
          },
          "output_type": "display_data"
        }
      ],
      "source": [
        "plt.plot(rmse_results)\n",
        "plt.show()"
      ]
    },
    {
      "cell_type": "code",
      "execution_count": 188,
      "metadata": {},
      "outputs": [
        {
          "name": "stdout",
          "output_type": "stream",
          "text": [
            "[0.6714354393937418, 1.5860422947961004, 1.090029296269481, 0.8184607798237928, 0.6356296987677977, 0.4597580430334773, 0.36536886260795126, 0.3350253457203982, 0.3565988791543251, 0.3752248605459192, 0.4679254169240201, 0.4442435185464838, 0.48021542586356314, 0.5559499200041744, 0.5975231666886137, 0.5508213630126795, 0.5544554453484446, 0.7681261056929072, 0.6575609195055232, 0.6503831201316009, 0.5773103797903844, 0.734633410098221, 0.688904493937928, 0.7555767150882606, 0.6244289316822299, 0.7989237866956369, 0.537252915998349, 0.5730255082048676, 0.4885039722478099, 0.6120905875896494]\n"
          ]
        }
      ],
      "source": [
        "print(rmse_results)"
      ]
    },
    {
      "cell_type": "code",
      "execution_count": 189,
      "metadata": {},
      "outputs": [
        {
          "name": "stderr",
          "output_type": "stream",
          "text": [
            "[2022-05-23 16:36:59,808] INFO | darts.models.forecasting.torch_forecasting_model | Train dataset contains 70 samples.\n",
            "[2022-05-23 16:36:59,808] INFO | darts.models.forecasting.torch_forecasting_model | Train dataset contains 70 samples.\n",
            "2022-05-23 16:36:59 darts.models.forecasting.torch_forecasting_model INFO: Train dataset contains 70 samples.\n",
            "[2022-05-23 16:36:59,823] INFO | darts.models.forecasting.torch_forecasting_model | Time series values are 64-bits; casting model to float64.\n",
            "[2022-05-23 16:36:59,823] INFO | darts.models.forecasting.torch_forecasting_model | Time series values are 64-bits; casting model to float64.\n",
            "2022-05-23 16:36:59 darts.models.forecasting.torch_forecasting_model INFO: Time series values are 64-bits; casting model to float64.\n",
            "2022-05-23 16:36:59 pytorch_lightning.utilities.rank_zero INFO: GPU available: False, used: False\n",
            "2022-05-23 16:36:59 pytorch_lightning.utilities.rank_zero INFO: TPU available: False, using: 0 TPU cores\n",
            "2022-05-23 16:36:59 pytorch_lightning.utilities.rank_zero INFO: IPU available: False, using: 0 IPUs\n",
            "2022-05-23 16:36:59 pytorch_lightning.utilities.rank_zero INFO: HPU available: False, using: 0 HPUs\n",
            "2022-05-23 16:36:59 pytorch_lightning.callbacks.model_summary INFO: \n",
            "  | Name      | Type    | Params\n",
            "--------------------------------------\n",
            "0 | criterion | MSELoss | 0     \n",
            "1 | rnn       | LSTM    | 463 K \n",
            "2 | V         | Linear  | 129   \n",
            "--------------------------------------\n",
            "463 K     Trainable params\n",
            "0         Non-trainable params\n",
            "463 K     Total params\n",
            "3.708     Total estimated model params size (MB)\n"
          ]
        },
        {
          "name": "stdout",
          "output_type": "stream",
          "text": [
            "Epoch 299: 100%|██████████| 1/1 [00:00<00:00,  3.61it/s, loss=0.0434, v_num=logs, train_loss=0.0434]\n"
          ]
        },
        {
          "data": {
            "text/plain": [
              "<darts.models.forecasting.rnn_model.RNNModel at 0x7f913c48a550>"
            ]
          },
          "execution_count": 189,
          "metadata": {},
          "output_type": "execute_result"
        }
      ],
      "source": [
        "model_lstm = RNNModel(\n",
        "        model=\"LSTM\",\n",
        "        hidden_dim=128,\n",
        "        n_rnn_layers=4,\n",
        "        dropout=0,\n",
        "        batch_size=72,\n",
        "        n_epochs=300,\n",
        "        optimizer_kwargs={\"lr\": 1e-3},\n",
        "        model_name=\"AACI_RNN\",\n",
        "        log_tensorboard=True,\n",
        "        # random_state=42,\n",
        "        # training_length=20,\n",
        "        input_chunk_length=7,\n",
        "        force_reset=True,\n",
        "        save_checkpoints=True,\n",
        "    )\n",
        "model_lstm.fit([train_yield,train_AU,train_CS,train_CN,train_ES,train_MB,train_MN,train_RN,train_RS,train_SE,train_ST,train_SV,train_SW,train_WT])"
      ]
    },
    {
      "cell_type": "code",
      "execution_count": 190,
      "metadata": {},
      "outputs": [
        {
          "name": "stdout",
          "output_type": "stream",
          "text": [
            "Predicting DataLoader 0: 100%|██████████| 1/1 [00:00<?, ?it/s]           \n"
          ]
        }
      ],
      "source": [
        "pred = model_lstm.predict(n=10, series=train_yield,num_samples = 1000)"
      ]
    },
    {
      "cell_type": "code",
      "execution_count": 191,
      "metadata": {},
      "outputs": [
        {
          "name": "stdout",
          "output_type": "stream",
          "text": [
            "Predicting DataLoader 0: 100%|██████████| 1/1 [00:00<?, ?it/s]           \n"
          ]
        },
        {
          "data": {
            "image/png": "[encoded data removed]",
            "text/plain": [
              "<Figure size 576x360 with 1 Axes>"
            ]
          },
          "metadata": {
            "needs_background": "light"
          },
          "output_type": "display_data"
        }
      ],
      "source": [
        "from darts.metrics import rmse\n",
        "def eval_model(model):\n",
        "    pred_series = model_lstm.predict(len(val_yield),series=train_yield, num_samples=1000)\n",
        "    plt.figure(figsize=(8, 5))\n",
        "    series_yield.plot(label=\"actual\")\n",
        "    pred_series.plot(label=\"forecast\")\n",
        "    plt.title(\"RMSE: {:.2f}%\".format(rmse(pred_series, val_yield)))\n",
        "    plt.legend()\n",
        "\n",
        "\n",
        "eval_model(model_lstm)"
      ]
    },
    {
      "cell_type": "markdown",
      "metadata": {},
      "source": [
        "N-Beats"
      ]
    },
    {
      "cell_type": "code",
      "execution_count": 66,
      "metadata": {},
      "outputs": [],
      "source": [
        "from darts.models import NBEATSModel\n",
        "model_nbeats = NBEATSModel(input_chunk_length=5,output_chunk_length=1)"
      ]
    },
    {
      "cell_type": "code",
      "execution_count": 78,
      "metadata": {},
      "outputs": [
        {
          "name": "stderr",
          "output_type": "stream",
          "text": [
            "[2022-05-23 22:53:07,159] INFO | darts.models.forecasting.torch_forecasting_model | Train dataset contains 336 samples.\n",
            "[2022-05-23 22:53:07,159] INFO | darts.models.forecasting.torch_forecasting_model | Train dataset contains 336 samples.\n",
            "2022-05-23 22:53:07 darts.models.forecasting.torch_forecasting_model INFO: Train dataset contains 336 samples.\n",
            "[2022-05-23 22:53:07,171] WARNING | darts.models.forecasting.torch_forecasting_model | DeprecationWarning: kwarg `verbose` is deprecated and will be removed in a future Darts version. Instead, control verbosity with PyTorch Lightning Trainer parameters `enable_progress_bar`, `progress_bar_refresh_rate` and `enable_model_summary` in the `pl_trainer_kwargs` dict at model creation.\n",
            "[2022-05-23 22:53:07,171] WARNING | darts.models.forecasting.torch_forecasting_model | DeprecationWarning: kwarg `verbose` is deprecated and will be removed in a future Darts version. Instead, control verbosity with PyTorch Lightning Trainer parameters `enable_progress_bar`, `progress_bar_refresh_rate` and `enable_model_summary` in the `pl_trainer_kwargs` dict at model creation.\n",
            "2022-05-23 22:53:07 darts.models.forecasting.torch_forecasting_model WARNING: DeprecationWarning: kwarg `verbose` is deprecated and will be removed in a future Darts version. Instead, control verbosity with PyTorch Lightning Trainer parameters `enable_progress_bar`, `progress_bar_refresh_rate` and `enable_model_summary` in the `pl_trainer_kwargs` dict at model creation.\n",
            "2022-05-23 22:53:07 pytorch_lightning.utilities.rank_zero INFO: GPU available: False, used: False\n",
            "2022-05-23 22:53:07 pytorch_lightning.utilities.rank_zero INFO: TPU available: False, using: 0 TPU cores\n",
            "2022-05-23 22:53:07 pytorch_lightning.utilities.rank_zero INFO: IPU available: False, using: 0 IPUs\n",
            "2022-05-23 22:53:07 pytorch_lightning.utilities.rank_zero INFO: HPU available: False, using: 0 HPUs\n",
            "[2022-05-23 22:53:07,184] WARNING | darts.models.forecasting.torch_forecasting_model | Attempting to retrain the model without resuming from a checkpoint. This is currently discouraged. Consider setting `save_checkpoints` to `True` and specifying `model_name` at model creation. Then call `model = NBEATSModel.load_from_checkpoint(model_name, best=False)`. Finally, train the model with `model.fit(..., epochs=new_epochs)` where `new_epochs` is the sum of (epochs already trained + some additional epochs).\n",
            "[2022-05-23 22:53:07,184] WARNING | darts.models.forecasting.torch_forecasting_model | Attempting to retrain the model without resuming from a checkpoint. This is currently discouraged. Consider setting `save_checkpoints` to `True` and specifying `model_name` at model creation. Then call `model = NBEATSModel.load_from_checkpoint(model_name, best=False)`. Finally, train the model with `model.fit(..., epochs=new_epochs)` where `new_epochs` is the sum of (epochs already trained + some additional epochs).\n",
            "2022-05-23 22:53:07 darts.models.forecasting.torch_forecasting_model WARNING: Attempting to retrain the model without resuming from a checkpoint. This is currently discouraged. Consider setting `save_checkpoints` to `True` and specifying `model_name` at model creation. Then call `model = NBEATSModel.load_from_checkpoint(model_name, best=False)`. Finally, train the model with `model.fit(..., epochs=new_epochs)` where `new_epochs` is the sum of (epochs already trained + some additional epochs).\n"
          ]
        },
        {
          "name": "stdout",
          "output_type": "stream",
          "text": [
            "Epoch 99: 100%|██████████| 11/11 [00:02<00:00,  4.86it/s, loss=0.00346, train_loss=0.00574] \n"
          ]
        },
        {
          "data": {
            "text/plain": [
              "<darts.models.forecasting.nbeats.NBEATSModel at 0x7f8da2599c70>"
            ]
          },
          "execution_count": 78,
          "metadata": {},
          "output_type": "execute_result"
        }
      ],
      "source": [
        "model_nbeats.fit([train_yield,train_AU,train_CS,train_CN,train_ES,train_MB,train_MN,train_RN,train_RS,train_SE,train_ST,train_SV,train_SW,train_WT],verbose=True)"
      ]
    },
    {
      "cell_type": "code",
      "execution_count": 79,
      "metadata": {},
      "outputs": [
        {
          "name": "stdout",
          "output_type": "stream",
          "text": [
            "Predicting DataLoader 0: 100%|██████████| 1/1 [00:00<00:00, -54.58it/s]  \n"
          ]
        }
      ],
      "source": [
        "pred = model_nbeats.predict(n=10, series=train_yield)"
      ]
    },
    {
      "cell_type": "code",
      "execution_count": 81,
      "metadata": {},
      "outputs": [
        {
          "data": {
            "text/plain": [
              "<matplotlib.legend.Legend at 0x7f8d04026ee0>"
            ]
          },
          "execution_count": 81,
          "metadata": {},
          "output_type": "execute_result"
        },
        {
          "data": {
            "image/png": "[encoded data removed]",
            "text/plain": [
              "<Figure size 432x288 with 1 Axes>"
            ]
          },
          "metadata": {
            "needs_background": "light"
          },
          "output_type": "display_data"
        }
      ],
      "source": [
        "train_yield.plot()\n",
        "pred.plot(label='forecast', low_quantile=0.05, high_quantile=0.95)\n",
        "plt.legend()"
      ]
    },
    {
      "cell_type": "markdown",
      "metadata": {},
      "source": [
        "TCN"
      ]
    },
    {
      "cell_type": "code",
      "execution_count": 70,
      "metadata": {},
      "outputs": [],
      "source": [
        "from darts.dataprocessing.transformers import Scaler\n",
        "from darts.models import TCNModel\n",
        "from darts.utils.likelihood_models import LaplaceLikelihood as LL"
      ]
    },
    {
      "cell_type": "code",
      "execution_count": 71,
      "metadata": {},
      "outputs": [],
      "source": [
        "scaler_yield,scaler_AU,scaler_CS,scaler_CN,scaler_ES,scaler_MB,scaler_MN,scaler_RN,scaler_RS,scaler_SE,scaler_ST,scaler_SV,scaler_SW,scaler_WT = Scaler(), Scaler(), Scaler(), Scaler(), Scaler(), Scaler(), Scaler(), Scaler(), Scaler(), Scaler(), Scaler(), Scaler(), Scaler(), Scaler()"
      ]
    },
    {
      "cell_type": "code",
      "execution_count": 73,
      "metadata": {},
      "outputs": [],
      "source": [
        "yield_s = scaler_yield.fit_transform(train_yield)\n",
        "AU_s = scaler_AU.fit_transform(train_AU)\n",
        "CS_s = scaler_CS.fit_transform(train_CS)\n",
        "CN_s = scaler_CN.fit_transform(train_CN)\n",
        "ES_s = scaler_ES.fit_transform(train_ES)\n",
        "MB_s = scaler_MB.fit_transform(train_MB)\n",
        "MN_s = scaler_MN.fit_transform(train_MN)\n",
        "RN_s = scaler_RN.fit_transform(train_RN)\n",
        "RS_s = scaler_RS.fit_transform(train_RS)\n",
        "SE_s = scaler_SE.fit_transform(train_SE)\n",
        "ST_s = scaler_ST.fit_transform(train_ST)\n",
        "SV_s = scaler_SV.fit_transform(train_SV)\n",
        "SW_s = scaler_SW.fit_transform(train_SW)\n",
        "WT_s = scaler_WT.fit_transform(train_WT)"
      ]
    },
    {
      "cell_type": "code",
      "execution_count": 75,
      "metadata": {},
      "outputs": [
        {
          "name": "stderr",
          "output_type": "stream",
          "text": [
            "[2022-05-23 22:50:37,693] INFO | darts.models.forecasting.torch_forecasting_model | Train dataset contains 336 samples.\n",
            "[2022-05-23 22:50:37,693] INFO | darts.models.forecasting.torch_forecasting_model | Train dataset contains 336 samples.\n",
            "2022-05-23 22:50:37 darts.models.forecasting.torch_forecasting_model INFO: Train dataset contains 336 samples.\n",
            "[2022-05-23 22:50:37,698] INFO | darts.models.forecasting.tcn_model | Number of layers chosen: 1\n",
            "[2022-05-23 22:50:37,698] INFO | darts.models.forecasting.tcn_model | Number of layers chosen: 1\n",
            "2022-05-23 22:50:37 darts.models.forecasting.tcn_model INFO: Number of layers chosen: 1\n",
            "[2022-05-23 22:50:37,705] INFO | darts.models.forecasting.torch_forecasting_model | Time series values are 64-bits; casting model to float64.\n",
            "[2022-05-23 22:50:37,705] INFO | darts.models.forecasting.torch_forecasting_model | Time series values are 64-bits; casting model to float64.\n",
            "2022-05-23 22:50:37 darts.models.forecasting.torch_forecasting_model INFO: Time series values are 64-bits; casting model to float64.\n",
            "2022-05-23 22:50:37 pytorch_lightning.utilities.rank_zero INFO: GPU available: False, used: False\n",
            "2022-05-23 22:50:37 pytorch_lightning.utilities.rank_zero INFO: TPU available: False, using: 0 TPU cores\n",
            "2022-05-23 22:50:37 pytorch_lightning.utilities.rank_zero INFO: IPU available: False, using: 0 IPUs\n",
            "2022-05-23 22:50:37 pytorch_lightning.utilities.rank_zero INFO: HPU available: False, using: 0 HPUs\n",
            "2022-05-23 22:50:37 pytorch_lightning.callbacks.model_summary INFO: \n",
            "  | Name       | Type       | Params\n",
            "------------------------------------------\n",
            "0 | criterion  | MSELoss    | 0     \n",
            "1 | dropout    | Dropout    | 0     \n",
            "2 | res_blocks | ModuleList | 36    \n",
            "------------------------------------------\n",
            "36        Trainable params\n",
            "0         Non-trainable params\n",
            "36        Total params\n",
            "0.000     Total estimated model params size (MB)\n"
          ]
        },
        {
          "name": "stdout",
          "output_type": "stream",
          "text": [
            "Epoch 99: 100%|██████████| 11/11 [00:00<00:00, 51.25it/s, loss=0.174, train_loss=0.155] \n"
          ]
        },
        {
          "data": {
            "text/plain": [
              "<darts.models.forecasting.tcn_model.TCNModel at 0x7f8da22acdf0>"
            ]
          },
          "execution_count": 75,
          "metadata": {},
          "output_type": "execute_result"
        }
      ],
      "source": [
        "model_tcn = TCNModel(input_chunk_length=5,\n",
        "            output_chunk_length=1,\n",
        "            likelihood=LL())\n",
        "model_tcn.fit([yield_s,AU_s,CS_s,CN_s,ES_s,MB_s,MN_s,RN_s,RS_s,SE_s,ST_s,SV_s,SW_s,WT_s], epochs=100)"
      ]
    },
    {
      "cell_type": "code",
      "execution_count": 76,
      "metadata": {},
      "outputs": [
        {
          "name": "stdout",
          "output_type": "stream",
          "text": [
            "Predicting DataLoader 0: 100%|██████████| 1/1 [00:00<00:00, -75.44it/s]   \n"
          ]
        }
      ],
      "source": [
        "pred = model_tcn.predict(n=10, series=yield_s,num_samples=500)"
      ]
    },
    {
      "cell_type": "code",
      "execution_count": 77,
      "metadata": {},
      "outputs": [
        {
          "data": {
            "image/png": "[encoded data removed]",
            "text/plain": [
              "<Figure size 432x288 with 1 Axes>"
            ]
          },
          "metadata": {
            "needs_background": "light"
          },
          "output_type": "display_data"
        }
      ],
      "source": [
        "yield_s.plot(label='original series')\n",
        "pred.plot(low_quantile=.1, high_quantile=.9, label='forecast')"
      ]
    }
  ],
  "metadata": {
    "colab": {
      "collapsed_sections": [],
      "name": "FYP - LSTM.ipynb",
      "provenance": []
    },
    "kernelspec": {
      "display_name": "lstm-keras",
      "language": "python",
      "name": "lstm-keras"
    },
    "language_info": {
      "codemirror_mode": {
        "name": "ipython",
        "version": 3
      },
      "file_extension": ".py",
      "mimetype": "text/x-python",
      "name": "python",
      "nbconvert_exporter": "python",
      "pygments_lexer": "ipython3",
      "version": "3.8.10"
    }
  },
  "nbformat": 4,
  "nbformat_minor": 0
}
