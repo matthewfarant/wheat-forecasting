{
  "cells": [
    {
      "cell_type": "markdown",
      "metadata": {
        "id": "8mhnMrBOOFKl"
      },
      "source": [
        "# **Multivariate Time Series Forecasting of Wheat Yield in Australia Using LSTM**"
      ]
    },
    {
      "cell_type": "markdown",
      "metadata": {
        "id": "9HE2RetIyfBQ"
      },
      "source": [
        "This notebook shows the code for my Final Year Project: *Utilizing the Australian Actuaries Climate Index to Predict Wheat Yield in Australia: A Comparative Analysis of Vector Autoregression and Recurrent Neural Network*"
      ]
    },
    {
      "cell_type": "code",
      "execution_count": 1,
      "metadata": {},
      "outputs": [
        {
          "data": {
            "text/plain": [
              "'/home/matthewfarant123/apu-fyp'"
            ]
          },
          "execution_count": 1,
          "metadata": {},
          "output_type": "execute_result"
        }
      ],
      "source": [
        "import os\n",
        "os.getcwd()"
      ]
    },
    {
      "cell_type": "markdown",
      "metadata": {
        "id": "WxhixhKazHLv"
      },
      "source": [
        "# Data Pre-Processing"
      ]
    },
    {
      "cell_type": "code",
      "execution_count": 1,
      "metadata": {
        "id": "9YOczUCaEMdq"
      },
      "outputs": [],
      "source": [
        "# %matplotlib inline\n",
        "import numpy as np\n",
        "import pandas as pd\n",
        "import matplotlib.pyplot as plt\n",
        "import seaborn as sn\n",
        "from scipy import interpolate\n",
        "from pandasql import sqldf"
      ]
    },
    {
      "cell_type": "code",
      "execution_count": 141,
      "metadata": {
        "id": "0XIJd4NgEUVA"
      },
      "outputs": [],
      "source": [
        "#Import The AACI Dataset\n",
        "df = pd.read_csv('aaci_cdd_australia.csv')"
      ]
    },
    {
      "cell_type": "code",
      "execution_count": 142,
      "metadata": {
        "colab": {
          "base_uri": "https://localhost:8080/",
          "height": 206
        },
        "id": "RTkjWHSIHjc6",
        "outputId": "fe714b2a-7108-4232-9d73-f5b76eac58ae"
      },
      "outputs": [
        {
          "data": {
            "text/html": [
              "<div>\n",
              "<style scoped>\n",
              "    .dataframe tbody tr th:only-of-type {\n",
              "        vertical-align: middle;\n",
              "    }\n",
              "\n",
              "    .dataframe tbody tr th {\n",
              "        vertical-align: top;\n",
              "    }\n",
              "\n",
              "    .dataframe thead th {\n",
              "        text-align: right;\n",
              "    }\n",
              "</style>\n",
              "<table border=\"1\" class=\"dataframe\">\n",
              "  <thead>\n",
              "    <tr style=\"text-align: right;\">\n",
              "      <th></th>\n",
              "      <th>Region</th>\n",
              "      <th>Year</th>\n",
              "      <th>Quarter</th>\n",
              "      <th>AACI</th>\n",
              "    </tr>\n",
              "  </thead>\n",
              "  <tbody>\n",
              "    <tr>\n",
              "      <th>0</th>\n",
              "      <td>AU</td>\n",
              "      <td>1981</td>\n",
              "      <td>1</td>\n",
              "      <td>-0.035248</td>\n",
              "    </tr>\n",
              "    <tr>\n",
              "      <th>1</th>\n",
              "      <td>AU</td>\n",
              "      <td>1981</td>\n",
              "      <td>2</td>\n",
              "      <td>0.179186</td>\n",
              "    </tr>\n",
              "    <tr>\n",
              "      <th>2</th>\n",
              "      <td>AU</td>\n",
              "      <td>1981</td>\n",
              "      <td>3</td>\n",
              "      <td>-0.490919</td>\n",
              "    </tr>\n",
              "    <tr>\n",
              "      <th>3</th>\n",
              "      <td>AU</td>\n",
              "      <td>1981</td>\n",
              "      <td>4</td>\n",
              "      <td>0.029853</td>\n",
              "    </tr>\n",
              "    <tr>\n",
              "      <th>4</th>\n",
              "      <td>AU</td>\n",
              "      <td>1982</td>\n",
              "      <td>1</td>\n",
              "      <td>-0.002881</td>\n",
              "    </tr>\n",
              "  </tbody>\n",
              "</table>\n",
              "</div>"
            ],
            "text/plain": [
              "  Region  Year  Quarter      AACI\n",
              "0     AU  1981        1 -0.035248\n",
              "1     AU  1981        2  0.179186\n",
              "2     AU  1981        3 -0.490919\n",
              "3     AU  1981        4  0.029853\n",
              "4     AU  1982        1 -0.002881"
            ]
          },
          "execution_count": 142,
          "metadata": {},
          "output_type": "execute_result"
        }
      ],
      "source": [
        "df.head()"
      ]
    },
    {
      "cell_type": "code",
      "execution_count": 143,
      "metadata": {
        "id": "AdOnG3YqHk06"
      },
      "outputs": [],
      "source": [
        "#Unpivot the AACI data\n",
        "sqlkey = lambda q : sqldf(q,globals())\n",
        "query =  '''\n",
        "    WITH grouped AS (\n",
        "      SELECT Year,\n",
        "        Region,\n",
        "        AVG(AACI) AS AACI\n",
        "      FROM df\n",
        "      GROUP BY 1,2\n",
        "    ), \n",
        "    transposed AS (\n",
        "      SELECT Year,\n",
        "        CASE WHEN Region = 'AU' THEN AACI END AS AU,\n",
        "        CASE WHEN Region = 'CS' THEN AACI END AS CS,\n",
        "        CASE WHEN Region = 'EN' THEN AACI END AS EN,\n",
        "        CASE WHEN Region = 'ES' THEN AACI END AS ES,\n",
        "        CASE WHEN Region = 'MB' THEN AACI END AS MB,\n",
        "        CASE WHEN Region = 'MN' THEN AACI END AS MN,\n",
        "        CASE WHEN Region = 'RN' THEN AACI END AS RN,\n",
        "        CASE WHEN Region = 'RS' THEN AACI END AS RS,\n",
        "        CASE WHEN Region = 'SE' THEN AACI END AS SE,\n",
        "        CASE WHEN Region = 'ST' THEN AACI END AS ST,\n",
        "        CASE WHEN Region = 'SV' THEN AACI END AS SV,\n",
        "        CASE WHEN Region = 'SW' THEN AACI END AS SW,\n",
        "        CASE WHEN Region = 'WT' THEN AACI END AS WT\n",
        "      FROM grouped\n",
        "    )\n",
        "    SELECT Year,\n",
        "      SUM(AU) AS AU,\n",
        "      SUM(CS) AS CS,\n",
        "      SUM(EN) AS CN,\n",
        "      SUM(ES) AS ES,\n",
        "      SUM(MB) AS MB,\n",
        "      SUM(MN) AS MN,\n",
        "      SUM(RN) AS RN,\n",
        "      SUM(RS) AS RS,\n",
        "      SUM(SE) AS SE,\n",
        "      SUM(ST) AS ST,\n",
        "      SUM(SV) AS SV,\n",
        "      SUM(SW) AS SW,\n",
        "      SUM(WT) AS WT\n",
        "    FROM transposed\n",
        "    GROUP BY Year\n",
        "    ;\n",
        "    '''\n",
        "df_final = sqlkey(query)"
      ]
    },
    {
      "cell_type": "code",
      "execution_count": 144,
      "metadata": {
        "colab": {
          "base_uri": "https://localhost:8080/",
          "height": 206
        },
        "id": "HqLQA8VhMHrj",
        "outputId": "027883e8-0af1-46ac-de1b-fcbd2099b3bf"
      },
      "outputs": [
        {
          "data": {
            "text/html": [
              "<div>\n",
              "<style scoped>\n",
              "    .dataframe tbody tr th:only-of-type {\n",
              "        vertical-align: middle;\n",
              "    }\n",
              "\n",
              "    .dataframe tbody tr th {\n",
              "        vertical-align: top;\n",
              "    }\n",
              "\n",
              "    .dataframe thead th {\n",
              "        text-align: right;\n",
              "    }\n",
              "</style>\n",
              "<table border=\"1\" class=\"dataframe\">\n",
              "  <thead>\n",
              "    <tr style=\"text-align: right;\">\n",
              "      <th></th>\n",
              "      <th>Year</th>\n",
              "      <th>AU</th>\n",
              "      <th>CS</th>\n",
              "      <th>CN</th>\n",
              "      <th>ES</th>\n",
              "      <th>MB</th>\n",
              "      <th>MN</th>\n",
              "      <th>RN</th>\n",
              "      <th>RS</th>\n",
              "      <th>SE</th>\n",
              "      <th>ST</th>\n",
              "      <th>SV</th>\n",
              "      <th>SW</th>\n",
              "      <th>WT</th>\n",
              "    </tr>\n",
              "  </thead>\n",
              "  <tbody>\n",
              "    <tr>\n",
              "      <th>0</th>\n",
              "      <td>1981</td>\n",
              "      <td>-0.079282</td>\n",
              "      <td>0.138883</td>\n",
              "      <td>0.148043</td>\n",
              "      <td>0.525506</td>\n",
              "      <td>-0.393759</td>\n",
              "      <td>-0.216926</td>\n",
              "      <td>-0.162030</td>\n",
              "      <td>0.033137</td>\n",
              "      <td>-0.471934</td>\n",
              "      <td>-0.492535</td>\n",
              "      <td>0.135720</td>\n",
              "      <td>-0.274793</td>\n",
              "      <td>0.079301</td>\n",
              "    </tr>\n",
              "    <tr>\n",
              "      <th>1</th>\n",
              "      <td>1982</td>\n",
              "      <td>0.336674</td>\n",
              "      <td>0.607493</td>\n",
              "      <td>0.110387</td>\n",
              "      <td>0.670453</td>\n",
              "      <td>0.514360</td>\n",
              "      <td>0.420968</td>\n",
              "      <td>0.376520</td>\n",
              "      <td>0.397674</td>\n",
              "      <td>0.325703</td>\n",
              "      <td>0.213000</td>\n",
              "      <td>0.412903</td>\n",
              "      <td>-0.292313</td>\n",
              "      <td>0.282937</td>\n",
              "    </tr>\n",
              "    <tr>\n",
              "      <th>2</th>\n",
              "      <td>1983</td>\n",
              "      <td>-0.049853</td>\n",
              "      <td>-0.319322</td>\n",
              "      <td>-0.037218</td>\n",
              "      <td>-0.255561</td>\n",
              "      <td>-0.032705</td>\n",
              "      <td>-0.007810</td>\n",
              "      <td>-0.171233</td>\n",
              "      <td>0.275233</td>\n",
              "      <td>-0.078571</td>\n",
              "      <td>-0.032846</td>\n",
              "      <td>0.062914</td>\n",
              "      <td>0.193896</td>\n",
              "      <td>-0.195013</td>\n",
              "    </tr>\n",
              "    <tr>\n",
              "      <th>3</th>\n",
              "      <td>1984</td>\n",
              "      <td>-0.199110</td>\n",
              "      <td>-0.266014</td>\n",
              "      <td>-0.267270</td>\n",
              "      <td>-0.255943</td>\n",
              "      <td>-0.171247</td>\n",
              "      <td>0.062452</td>\n",
              "      <td>-0.272476</td>\n",
              "      <td>-0.388016</td>\n",
              "      <td>-0.395470</td>\n",
              "      <td>-0.005572</td>\n",
              "      <td>-0.036048</td>\n",
              "      <td>-0.435160</td>\n",
              "      <td>0.041449</td>\n",
              "    </tr>\n",
              "    <tr>\n",
              "      <th>4</th>\n",
              "      <td>1985</td>\n",
              "      <td>-0.017414</td>\n",
              "      <td>-0.113842</td>\n",
              "      <td>-0.147816</td>\n",
              "      <td>-0.102894</td>\n",
              "      <td>0.279545</td>\n",
              "      <td>-0.033097</td>\n",
              "      <td>0.028285</td>\n",
              "      <td>0.233320</td>\n",
              "      <td>0.563607</td>\n",
              "      <td>-0.298943</td>\n",
              "      <td>-0.171835</td>\n",
              "      <td>-0.360961</td>\n",
              "      <td>-0.084335</td>\n",
              "    </tr>\n",
              "  </tbody>\n",
              "</table>\n",
              "</div>"
            ],
            "text/plain": [
              "   Year        AU        CS        CN        ES        MB        MN        RN  \\\n",
              "0  1981 -0.079282  0.138883  0.148043  0.525506 -0.393759 -0.216926 -0.162030   \n",
              "1  1982  0.336674  0.607493  0.110387  0.670453  0.514360  0.420968  0.376520   \n",
              "2  1983 -0.049853 -0.319322 -0.037218 -0.255561 -0.032705 -0.007810 -0.171233   \n",
              "3  1984 -0.199110 -0.266014 -0.267270 -0.255943 -0.171247  0.062452 -0.272476   \n",
              "4  1985 -0.017414 -0.113842 -0.147816 -0.102894  0.279545 -0.033097  0.028285   \n",
              "\n",
              "         RS        SE        ST        SV        SW        WT  \n",
              "0  0.033137 -0.471934 -0.492535  0.135720 -0.274793  0.079301  \n",
              "1  0.397674  0.325703  0.213000  0.412903 -0.292313  0.282937  \n",
              "2  0.275233 -0.078571 -0.032846  0.062914  0.193896 -0.195013  \n",
              "3 -0.388016 -0.395470 -0.005572 -0.036048 -0.435160  0.041449  \n",
              "4  0.233320  0.563607 -0.298943 -0.171835 -0.360961 -0.084335  "
            ]
          },
          "execution_count": 144,
          "metadata": {},
          "output_type": "execute_result"
        }
      ],
      "source": [
        "df_final.head()"
      ]
    },
    {
      "cell_type": "code",
      "execution_count": null,
      "metadata": {
        "id": "a7BG-z2-495P"
      },
      "outputs": [],
      "source": [
        "#generated using bigquery\n",
        "#query:\n",
        "# WITH grouped AS (\n",
        "#       SELECT *\n",
        "#       FROM (\n",
        "#         SELECT *, ROW_NUMBER() OVER(PARTITION BY Region,Year ORDER BY abs(AACI) DESC) rn\n",
        "#         FROM fyp.aaci_df\n",
        "#       ) x\n",
        "#       WHERE rn = 1\n",
        "#     ),\n",
        "# transposed AS (\n",
        "# SELECT Year,\n",
        "#     CASE WHEN Region = 'AU' THEN AACI END AS AU,\n",
        "#     CASE WHEN Region = 'CS' THEN AACI END AS CS,\n",
        "#     CASE WHEN Region = 'EN' THEN AACI END AS EN,\n",
        "#     CASE WHEN Region = 'ES' THEN AACI END AS ES,\n",
        "#     CASE WHEN Region = 'MB' THEN AACI END AS MB,\n",
        "#     CASE WHEN Region = 'MN' THEN AACI END AS MN,\n",
        "#     CASE WHEN Region = 'RN' THEN AACI END AS RN,\n",
        "#     CASE WHEN Region = 'RS' THEN AACI END AS RS,\n",
        "#     CASE WHEN Region = 'SE' THEN AACI END AS SE,\n",
        "#     CASE WHEN Region = 'ST' THEN AACI END AS ST,\n",
        "#     CASE WHEN Region = 'SV' THEN AACI END AS SV,\n",
        "#     CASE WHEN Region = 'SW' THEN AACI END AS SW,\n",
        "#     CASE WHEN Region = 'WT' THEN AACI END AS WT\n",
        "# FROM grouped\n",
        "#     )\n",
        "#     SELECT Year,\n",
        "#       SUM(AU) AS AU,\n",
        "#       SUM(CS) AS CS,\n",
        "#       SUM(EN) AS CN,\n",
        "#       SUM(ES) AS ES,\n",
        "#       SUM(MB) AS MB,\n",
        "#       SUM(MN) AS MN,\n",
        "#       SUM(RN) AS RN,\n",
        "#       SUM(RS) AS RS,\n",
        "#       SUM(SE) AS SE,\n",
        "#       SUM(ST) AS ST,\n",
        "#       SUM(SV) AS SV,\n",
        "#       SUM(SW) AS SW,\n",
        "#       SUM(WT) AS WT\n",
        "#     FROM transposed\n",
        "#     GROUP BY Year\n",
        "#     ORDER BY Year\n",
        "# ;\n",
        "aaci = pd.read_csv('aaci_clean.csv')\n",
        "aaci = aaci[(aaci != 2021)]"
      ]
    },
    {
      "cell_type": "code",
      "execution_count": 145,
      "metadata": {
        "id": "dEOi18WsM2_c"
      },
      "outputs": [],
      "source": [
        "#Exclude 2021 Data\n",
        "aaci = df_final[(df_final.Year != 2021)]"
      ]
    },
    {
      "cell_type": "code",
      "execution_count": 146,
      "metadata": {
        "id": "JWc80JiXMLqq"
      },
      "outputs": [],
      "source": [
        "#Import the Wheat Yield Dataset\n",
        "wheat = pd.read_csv('wheat_data.csv')"
      ]
    },
    {
      "cell_type": "code",
      "execution_count": 166,
      "metadata": {
        "id": "BVCy3uccNex4"
      },
      "outputs": [],
      "source": [
        "#Join the AACI and Wheat Yield Dataset\n",
        "query = '''\n",
        "  SELECT a.Year,Yield,AU,CS,CN,ES,MB,MN,RN,RS,SE,ST,SV,SW,WT\n",
        "  FROM aaci a\n",
        "  INNER JOIN wheat b\n",
        "  ON a.Year = b.Year\n",
        "    '''\n",
        "final_data = sqlkey(query)"
      ]
    },
    {
      "cell_type": "code",
      "execution_count": 167,
      "metadata": {
        "colab": {
          "base_uri": "https://localhost:8080/",
          "height": 250
        },
        "id": "f7_-htJwOBPr",
        "outputId": "3b11b2b8-07b6-42c1-b945-088a033b4a79"
      },
      "outputs": [
        {
          "data": {
            "text/html": [
              "<div>\n",
              "<style scoped>\n",
              "    .dataframe tbody tr th:only-of-type {\n",
              "        vertical-align: middle;\n",
              "    }\n",
              "\n",
              "    .dataframe tbody tr th {\n",
              "        vertical-align: top;\n",
              "    }\n",
              "\n",
              "    .dataframe thead th {\n",
              "        text-align: right;\n",
              "    }\n",
              "</style>\n",
              "<table border=\"1\" class=\"dataframe\">\n",
              "  <thead>\n",
              "    <tr style=\"text-align: right;\">\n",
              "      <th></th>\n",
              "      <th>Year</th>\n",
              "      <th>Yield</th>\n",
              "      <th>AU</th>\n",
              "      <th>CS</th>\n",
              "      <th>CN</th>\n",
              "      <th>ES</th>\n",
              "      <th>MB</th>\n",
              "      <th>MN</th>\n",
              "      <th>RN</th>\n",
              "      <th>RS</th>\n",
              "      <th>SE</th>\n",
              "      <th>ST</th>\n",
              "      <th>SV</th>\n",
              "      <th>SW</th>\n",
              "      <th>WT</th>\n",
              "    </tr>\n",
              "  </thead>\n",
              "  <tbody>\n",
              "    <tr>\n",
              "      <th>0</th>\n",
              "      <td>1981</td>\n",
              "      <td>1.376496</td>\n",
              "      <td>-0.079282</td>\n",
              "      <td>0.138883</td>\n",
              "      <td>0.148043</td>\n",
              "      <td>0.525506</td>\n",
              "      <td>-0.393759</td>\n",
              "      <td>-0.216926</td>\n",
              "      <td>-0.162030</td>\n",
              "      <td>0.033137</td>\n",
              "      <td>-0.471934</td>\n",
              "      <td>-0.492535</td>\n",
              "      <td>0.135720</td>\n",
              "      <td>-0.274793</td>\n",
              "      <td>0.079301</td>\n",
              "    </tr>\n",
              "    <tr>\n",
              "      <th>1</th>\n",
              "      <td>1982</td>\n",
              "      <td>0.764317</td>\n",
              "      <td>0.336674</td>\n",
              "      <td>0.607493</td>\n",
              "      <td>0.110387</td>\n",
              "      <td>0.670453</td>\n",
              "      <td>0.514360</td>\n",
              "      <td>0.420968</td>\n",
              "      <td>0.376520</td>\n",
              "      <td>0.397674</td>\n",
              "      <td>0.325703</td>\n",
              "      <td>0.213000</td>\n",
              "      <td>0.412903</td>\n",
              "      <td>-0.292313</td>\n",
              "      <td>0.282937</td>\n",
              "    </tr>\n",
              "    <tr>\n",
              "      <th>2</th>\n",
              "      <td>1983</td>\n",
              "      <td>1.624118</td>\n",
              "      <td>-0.049853</td>\n",
              "      <td>-0.319322</td>\n",
              "      <td>-0.037218</td>\n",
              "      <td>-0.255561</td>\n",
              "      <td>-0.032705</td>\n",
              "      <td>-0.007810</td>\n",
              "      <td>-0.171233</td>\n",
              "      <td>0.275233</td>\n",
              "      <td>-0.078571</td>\n",
              "      <td>-0.032846</td>\n",
              "      <td>0.062914</td>\n",
              "      <td>0.193896</td>\n",
              "      <td>-0.195013</td>\n",
              "    </tr>\n",
              "    <tr>\n",
              "      <th>3</th>\n",
              "      <td>1984</td>\n",
              "      <td>1.500378</td>\n",
              "      <td>-0.199110</td>\n",
              "      <td>-0.266014</td>\n",
              "      <td>-0.267270</td>\n",
              "      <td>-0.255943</td>\n",
              "      <td>-0.171247</td>\n",
              "      <td>0.062452</td>\n",
              "      <td>-0.272476</td>\n",
              "      <td>-0.388016</td>\n",
              "      <td>-0.395470</td>\n",
              "      <td>-0.005572</td>\n",
              "      <td>-0.036048</td>\n",
              "      <td>-0.435160</td>\n",
              "      <td>0.041449</td>\n",
              "    </tr>\n",
              "    <tr>\n",
              "      <th>4</th>\n",
              "      <td>1985</td>\n",
              "      <td>1.368707</td>\n",
              "      <td>-0.017414</td>\n",
              "      <td>-0.113842</td>\n",
              "      <td>-0.147816</td>\n",
              "      <td>-0.102894</td>\n",
              "      <td>0.279545</td>\n",
              "      <td>-0.033097</td>\n",
              "      <td>0.028285</td>\n",
              "      <td>0.233320</td>\n",
              "      <td>0.563607</td>\n",
              "      <td>-0.298943</td>\n",
              "      <td>-0.171835</td>\n",
              "      <td>-0.360961</td>\n",
              "      <td>-0.084335</td>\n",
              "    </tr>\n",
              "  </tbody>\n",
              "</table>\n",
              "</div>"
            ],
            "text/plain": [
              "   Year     Yield        AU        CS        CN        ES        MB        MN  \\\n",
              "0  1981  1.376496 -0.079282  0.138883  0.148043  0.525506 -0.393759 -0.216926   \n",
              "1  1982  0.764317  0.336674  0.607493  0.110387  0.670453  0.514360  0.420968   \n",
              "2  1983  1.624118 -0.049853 -0.319322 -0.037218 -0.255561 -0.032705 -0.007810   \n",
              "3  1984  1.500378 -0.199110 -0.266014 -0.267270 -0.255943 -0.171247  0.062452   \n",
              "4  1985  1.368707 -0.017414 -0.113842 -0.147816 -0.102894  0.279545 -0.033097   \n",
              "\n",
              "         RN        RS        SE        ST        SV        SW        WT  \n",
              "0 -0.162030  0.033137 -0.471934 -0.492535  0.135720 -0.274793  0.079301  \n",
              "1  0.376520  0.397674  0.325703  0.213000  0.412903 -0.292313  0.282937  \n",
              "2 -0.171233  0.275233 -0.078571 -0.032846  0.062914  0.193896 -0.195013  \n",
              "3 -0.272476 -0.388016 -0.395470 -0.005572 -0.036048 -0.435160  0.041449  \n",
              "4  0.028285  0.233320  0.563607 -0.298943 -0.171835 -0.360961 -0.084335  "
            ]
          },
          "execution_count": 167,
          "metadata": {},
          "output_type": "execute_result"
        }
      ],
      "source": [
        "#Final Dataframe\n",
        "final_data.head()"
      ]
    },
    {
      "cell_type": "code",
      "execution_count": 168,
      "metadata": {
        "id": "aurkAaytZzkz"
      },
      "outputs": [],
      "source": [
        "final_data = final_data.set_index('Year')\n",
        "#final_data['Year'] = final_data.index"
      ]
    },
    {
      "cell_type": "code",
      "execution_count": 169,
      "metadata": {
        "colab": {
          "base_uri": "https://localhost:8080/",
          "height": 281
        },
        "id": "R5re_dQ2uWtR",
        "outputId": "9f05fc30-5283-4b0b-8b8f-3585d9fd5c9d"
      },
      "outputs": [
        {
          "data": {
            "text/html": [
              "<div>\n",
              "<style scoped>\n",
              "    .dataframe tbody tr th:only-of-type {\n",
              "        vertical-align: middle;\n",
              "    }\n",
              "\n",
              "    .dataframe tbody tr th {\n",
              "        vertical-align: top;\n",
              "    }\n",
              "\n",
              "    .dataframe thead th {\n",
              "        text-align: right;\n",
              "    }\n",
              "</style>\n",
              "<table border=\"1\" class=\"dataframe\">\n",
              "  <thead>\n",
              "    <tr style=\"text-align: right;\">\n",
              "      <th></th>\n",
              "      <th>Yield</th>\n",
              "      <th>AU</th>\n",
              "      <th>CS</th>\n",
              "      <th>CN</th>\n",
              "      <th>ES</th>\n",
              "      <th>MB</th>\n",
              "      <th>MN</th>\n",
              "      <th>RN</th>\n",
              "      <th>RS</th>\n",
              "      <th>SE</th>\n",
              "      <th>ST</th>\n",
              "      <th>SV</th>\n",
              "      <th>SW</th>\n",
              "      <th>WT</th>\n",
              "    </tr>\n",
              "    <tr>\n",
              "      <th>Year</th>\n",
              "      <th></th>\n",
              "      <th></th>\n",
              "      <th></th>\n",
              "      <th></th>\n",
              "      <th></th>\n",
              "      <th></th>\n",
              "      <th></th>\n",
              "      <th></th>\n",
              "      <th></th>\n",
              "      <th></th>\n",
              "      <th></th>\n",
              "      <th></th>\n",
              "      <th></th>\n",
              "      <th></th>\n",
              "    </tr>\n",
              "  </thead>\n",
              "  <tbody>\n",
              "    <tr>\n",
              "      <th>1981</th>\n",
              "      <td>1.376496</td>\n",
              "      <td>-0.079282</td>\n",
              "      <td>0.138883</td>\n",
              "      <td>0.148043</td>\n",
              "      <td>0.525506</td>\n",
              "      <td>-0.393759</td>\n",
              "      <td>-0.216926</td>\n",
              "      <td>-0.162030</td>\n",
              "      <td>0.033137</td>\n",
              "      <td>-0.471934</td>\n",
              "      <td>-0.492535</td>\n",
              "      <td>0.135720</td>\n",
              "      <td>-0.274793</td>\n",
              "      <td>0.079301</td>\n",
              "    </tr>\n",
              "    <tr>\n",
              "      <th>1982</th>\n",
              "      <td>0.764317</td>\n",
              "      <td>0.336674</td>\n",
              "      <td>0.607493</td>\n",
              "      <td>0.110387</td>\n",
              "      <td>0.670453</td>\n",
              "      <td>0.514360</td>\n",
              "      <td>0.420968</td>\n",
              "      <td>0.376520</td>\n",
              "      <td>0.397674</td>\n",
              "      <td>0.325703</td>\n",
              "      <td>0.213000</td>\n",
              "      <td>0.412903</td>\n",
              "      <td>-0.292313</td>\n",
              "      <td>0.282937</td>\n",
              "    </tr>\n",
              "    <tr>\n",
              "      <th>1983</th>\n",
              "      <td>1.624118</td>\n",
              "      <td>-0.049853</td>\n",
              "      <td>-0.319322</td>\n",
              "      <td>-0.037218</td>\n",
              "      <td>-0.255561</td>\n",
              "      <td>-0.032705</td>\n",
              "      <td>-0.007810</td>\n",
              "      <td>-0.171233</td>\n",
              "      <td>0.275233</td>\n",
              "      <td>-0.078571</td>\n",
              "      <td>-0.032846</td>\n",
              "      <td>0.062914</td>\n",
              "      <td>0.193896</td>\n",
              "      <td>-0.195013</td>\n",
              "    </tr>\n",
              "    <tr>\n",
              "      <th>1984</th>\n",
              "      <td>1.500378</td>\n",
              "      <td>-0.199110</td>\n",
              "      <td>-0.266014</td>\n",
              "      <td>-0.267270</td>\n",
              "      <td>-0.255943</td>\n",
              "      <td>-0.171247</td>\n",
              "      <td>0.062452</td>\n",
              "      <td>-0.272476</td>\n",
              "      <td>-0.388016</td>\n",
              "      <td>-0.395470</td>\n",
              "      <td>-0.005572</td>\n",
              "      <td>-0.036048</td>\n",
              "      <td>-0.435160</td>\n",
              "      <td>0.041449</td>\n",
              "    </tr>\n",
              "    <tr>\n",
              "      <th>1985</th>\n",
              "      <td>1.368707</td>\n",
              "      <td>-0.017414</td>\n",
              "      <td>-0.113842</td>\n",
              "      <td>-0.147816</td>\n",
              "      <td>-0.102894</td>\n",
              "      <td>0.279545</td>\n",
              "      <td>-0.033097</td>\n",
              "      <td>0.028285</td>\n",
              "      <td>0.233320</td>\n",
              "      <td>0.563607</td>\n",
              "      <td>-0.298943</td>\n",
              "      <td>-0.171835</td>\n",
              "      <td>-0.360961</td>\n",
              "      <td>-0.084335</td>\n",
              "    </tr>\n",
              "  </tbody>\n",
              "</table>\n",
              "</div>"
            ],
            "text/plain": [
              "         Yield        AU        CS        CN        ES        MB        MN  \\\n",
              "Year                                                                         \n",
              "1981  1.376496 -0.079282  0.138883  0.148043  0.525506 -0.393759 -0.216926   \n",
              "1982  0.764317  0.336674  0.607493  0.110387  0.670453  0.514360  0.420968   \n",
              "1983  1.624118 -0.049853 -0.319322 -0.037218 -0.255561 -0.032705 -0.007810   \n",
              "1984  1.500378 -0.199110 -0.266014 -0.267270 -0.255943 -0.171247  0.062452   \n",
              "1985  1.368707 -0.017414 -0.113842 -0.147816 -0.102894  0.279545 -0.033097   \n",
              "\n",
              "            RN        RS        SE        ST        SV        SW        WT  \n",
              "Year                                                                        \n",
              "1981 -0.162030  0.033137 -0.471934 -0.492535  0.135720 -0.274793  0.079301  \n",
              "1982  0.376520  0.397674  0.325703  0.213000  0.412903 -0.292313  0.282937  \n",
              "1983 -0.171233  0.275233 -0.078571 -0.032846  0.062914  0.193896 -0.195013  \n",
              "1984 -0.272476 -0.388016 -0.395470 -0.005572 -0.036048 -0.435160  0.041449  \n",
              "1985  0.028285  0.233320  0.563607 -0.298943 -0.171835 -0.360961 -0.084335  "
            ]
          },
          "execution_count": 169,
          "metadata": {},
          "output_type": "execute_result"
        }
      ],
      "source": [
        "final_data.head()"
      ]
    },
    {
      "cell_type": "code",
      "execution_count": null,
      "metadata": {
        "colab": {
          "base_uri": "https://localhost:8080/",
          "height": 139
        },
        "id": "tAliBObWtr1p",
        "outputId": "771f60c5-4828-4a47-8fde-e5eb7a9c1f94"
      },
      "outputs": [],
      "source": [
        "final_data.to_csv()"
      ]
    },
    {
      "cell_type": "markdown",
      "metadata": {
        "id": "eJb5WfRHzw-8"
      },
      "source": [
        "# Data Visualization"
      ]
    },
    {
      "cell_type": "code",
      "execution_count": 15,
      "metadata": {
        "colab": {
          "base_uri": "https://localhost:8080/",
          "height": 268
        },
        "id": "FHfyJPYix4S7",
        "outputId": "08441371-1314-439e-fd44-f1795ab6f6c3"
      },
      "outputs": [
        {
          "data": {
            "image/png": "[encoded data removed]",
            "text/plain": [
              "<Figure size 432x288 with 12 Axes>"
            ]
          },
          "metadata": {},
          "output_type": "display_data"
        }
      ],
      "source": [
        "aaci = aaci.set_index('Year')\n",
        "groups = [0, 1, 2, 3, 5, 6, 7, 8, 9, 10, 11, 12]\n",
        "values = aaci.values\n",
        "fig,sub = plt.subplots(3,4)\n",
        "plt.subplots_adjust(wspace=1, hspace=1)\n",
        "\n",
        "for ax, i in zip(sub.flatten(),groups):\n",
        "    ax.plot(values[:,i])\n",
        "    ax.set_xticks(())\n",
        "    ax.set_yticks(())\n",
        "    ax.set_title(aaci.columns[i])"
      ]
    },
    {
      "cell_type": "code",
      "execution_count": 34,
      "metadata": {
        "colab": {
          "base_uri": "https://localhost:8080/",
          "height": 297
        },
        "id": "RHktZXMkyBOf",
        "outputId": "7263d6c9-67b9-447b-e97e-47912ccca422"
      },
      "outputs": [
        {
          "name": "stderr",
          "output_type": "stream",
          "text": [
            "/home/matthewfarant123/fyp_venv/lib/python3.8/site-packages/seaborn/_decorators.py:36: FutureWarning: Pass the following variables as keyword args: x, y. From version 0.12, the only valid positional argument will be `data`, and passing other arguments without an explicit keyword will result in an error or misinterpretation.\n",
            "  warnings.warn(\n"
          ]
        },
        {
          "data": {
            "text/plain": [
              "<matplotlib.axes._subplots.AxesSubplot at 0x7f570d7179d0>"
            ]
          },
          "execution_count": 34,
          "metadata": {},
          "output_type": "execute_result"
        },
        {
          "data": {
            "image/png": "[encoded data removed]",
            "text/plain": [
              "<Figure size 432x288 with 1 Axes>"
            ]
          },
          "metadata": {
            "needs_background": "light"
          },
          "output_type": "display_data"
        }
      ],
      "source": [
        "original = final_data[['Year', 'Yield']]\n",
        "sn.lineplot(original['Year'], original['Yield'])"
      ]
    },
    {
      "cell_type": "markdown",
      "metadata": {
        "id": "7hqgRYJ-n_C9"
      },
      "source": [
        "# Outlier Detection"
      ]
    },
    {
      "cell_type": "code",
      "execution_count": 170,
      "metadata": {
        "colab": {
          "base_uri": "https://localhost:8080/",
          "height": 561
        },
        "id": "fKzYPOhRoCUP",
        "outputId": "0348dd77-5274-4958-bf0a-ca0992f17a0e"
      },
      "outputs": [
        {
          "data": {
            "image/png": "[encoded data removed]",
            "text/plain": [
              "<Figure size 432x288 with 1 Axes>"
            ]
          },
          "metadata": {
            "needs_background": "light"
          },
          "output_type": "display_data"
        },
        {
          "data": {
            "image/png": "[encoded data removed]",
            "text/plain": [
              "<Figure size 432x288 with 3 Axes>"
            ]
          },
          "metadata": {
            "needs_background": "light"
          },
          "output_type": "display_data"
        }
      ],
      "source": [
        "from ThymeBoost import ThymeBoost as tb\n",
        "boosted_model = tb.ThymeBoost()\n",
        "output = boosted_model.detect_outliers(final_data['Yield'],\n",
        "                                       trend_estimator='linear',\n",
        "                                       seasonal_estimator='fourier',\n",
        "                                      #  seasonal_period=25,\n",
        "                                       global_cost='maicc',\n",
        "                                       fit_type='global')\n",
        "boosted_model.plot_results(output)\n",
        "boosted_model.plot_components(output)"
      ]
    },
    {
      "cell_type": "markdown",
      "metadata": {
        "id": "pUk2GqApz3t2"
      },
      "source": [
        "The result above that there IS an outlier. Hence, we need to solve this before proceeding to the modelling process"
      ]
    },
    {
      "cell_type": "code",
      "execution_count": 171,
      "metadata": {
        "id": "ydq2kjA813wF"
      },
      "outputs": [],
      "source": [
        "## Handling Outlier\n",
        "final_data['Yield'].loc[1982] = np.nan\n",
        "final_data['Yield'].loc[1994] = np.nan\n",
        "final_data['Yield'].loc[2002] = np.nan\n",
        "final_data['Yield'].loc[2006] = np.nan\n",
        "final_data['Yield'].loc[2007] = np.nan\n",
        "final_data['Yield'].loc[2016] = np.nan\n",
        "final_data['Yield'].loc[2019] = np.nan\n",
        "final_data['Yield'].loc[2020] = np.nan"
      ]
    },
    {
      "cell_type": "code",
      "execution_count": 172,
      "metadata": {},
      "outputs": [
        {
          "data": {
            "text/html": [
              "<div>\n",
              "<style scoped>\n",
              "    .dataframe tbody tr th:only-of-type {\n",
              "        vertical-align: middle;\n",
              "    }\n",
              "\n",
              "    .dataframe tbody tr th {\n",
              "        vertical-align: top;\n",
              "    }\n",
              "\n",
              "    .dataframe thead th {\n",
              "        text-align: right;\n",
              "    }\n",
              "</style>\n",
              "<table border=\"1\" class=\"dataframe\">\n",
              "  <thead>\n",
              "    <tr style=\"text-align: right;\">\n",
              "      <th></th>\n",
              "      <th>Yield</th>\n",
              "      <th>AU</th>\n",
              "      <th>CS</th>\n",
              "      <th>CN</th>\n",
              "      <th>ES</th>\n",
              "      <th>MB</th>\n",
              "      <th>MN</th>\n",
              "      <th>RN</th>\n",
              "      <th>RS</th>\n",
              "      <th>SE</th>\n",
              "      <th>ST</th>\n",
              "      <th>SV</th>\n",
              "      <th>SW</th>\n",
              "      <th>WT</th>\n",
              "    </tr>\n",
              "    <tr>\n",
              "      <th>Year</th>\n",
              "      <th></th>\n",
              "      <th></th>\n",
              "      <th></th>\n",
              "      <th></th>\n",
              "      <th></th>\n",
              "      <th></th>\n",
              "      <th></th>\n",
              "      <th></th>\n",
              "      <th></th>\n",
              "      <th></th>\n",
              "      <th></th>\n",
              "      <th></th>\n",
              "      <th></th>\n",
              "      <th></th>\n",
              "    </tr>\n",
              "  </thead>\n",
              "  <tbody>\n",
              "    <tr>\n",
              "      <th>1981</th>\n",
              "      <td>1.376496</td>\n",
              "      <td>-0.079282</td>\n",
              "      <td>0.138883</td>\n",
              "      <td>0.148043</td>\n",
              "      <td>0.525506</td>\n",
              "      <td>-0.393759</td>\n",
              "      <td>-0.216926</td>\n",
              "      <td>-0.162030</td>\n",
              "      <td>0.033137</td>\n",
              "      <td>-0.471934</td>\n",
              "      <td>-0.492535</td>\n",
              "      <td>0.135720</td>\n",
              "      <td>-0.274793</td>\n",
              "      <td>0.079301</td>\n",
              "    </tr>\n",
              "    <tr>\n",
              "      <th>1982</th>\n",
              "      <td>1.370017</td>\n",
              "      <td>0.336674</td>\n",
              "      <td>0.607493</td>\n",
              "      <td>0.110387</td>\n",
              "      <td>0.670453</td>\n",
              "      <td>0.514360</td>\n",
              "      <td>0.420968</td>\n",
              "      <td>0.376520</td>\n",
              "      <td>0.397674</td>\n",
              "      <td>0.325703</td>\n",
              "      <td>0.213000</td>\n",
              "      <td>0.412903</td>\n",
              "      <td>-0.292313</td>\n",
              "      <td>0.282937</td>\n",
              "    </tr>\n",
              "    <tr>\n",
              "      <th>1983</th>\n",
              "      <td>1.624118</td>\n",
              "      <td>-0.049853</td>\n",
              "      <td>-0.319322</td>\n",
              "      <td>-0.037218</td>\n",
              "      <td>-0.255561</td>\n",
              "      <td>-0.032705</td>\n",
              "      <td>-0.007810</td>\n",
              "      <td>-0.171233</td>\n",
              "      <td>0.275233</td>\n",
              "      <td>-0.078571</td>\n",
              "      <td>-0.032846</td>\n",
              "      <td>0.062914</td>\n",
              "      <td>0.193896</td>\n",
              "      <td>-0.195013</td>\n",
              "    </tr>\n",
              "    <tr>\n",
              "      <th>1984</th>\n",
              "      <td>1.500378</td>\n",
              "      <td>-0.199110</td>\n",
              "      <td>-0.266014</td>\n",
              "      <td>-0.267270</td>\n",
              "      <td>-0.255943</td>\n",
              "      <td>-0.171247</td>\n",
              "      <td>0.062452</td>\n",
              "      <td>-0.272476</td>\n",
              "      <td>-0.388016</td>\n",
              "      <td>-0.395470</td>\n",
              "      <td>-0.005572</td>\n",
              "      <td>-0.036048</td>\n",
              "      <td>-0.435160</td>\n",
              "      <td>0.041449</td>\n",
              "    </tr>\n",
              "    <tr>\n",
              "      <th>1985</th>\n",
              "      <td>1.368707</td>\n",
              "      <td>-0.017414</td>\n",
              "      <td>-0.113842</td>\n",
              "      <td>-0.147816</td>\n",
              "      <td>-0.102894</td>\n",
              "      <td>0.279545</td>\n",
              "      <td>-0.033097</td>\n",
              "      <td>0.028285</td>\n",
              "      <td>0.233320</td>\n",
              "      <td>0.563607</td>\n",
              "      <td>-0.298943</td>\n",
              "      <td>-0.171835</td>\n",
              "      <td>-0.360961</td>\n",
              "      <td>-0.084335</td>\n",
              "    </tr>\n",
              "  </tbody>\n",
              "</table>\n",
              "</div>"
            ],
            "text/plain": [
              "         Yield        AU        CS        CN        ES        MB        MN  \\\n",
              "Year                                                                         \n",
              "1981  1.376496 -0.079282  0.138883  0.148043  0.525506 -0.393759 -0.216926   \n",
              "1982  1.370017  0.336674  0.607493  0.110387  0.670453  0.514360  0.420968   \n",
              "1983  1.624118 -0.049853 -0.319322 -0.037218 -0.255561 -0.032705 -0.007810   \n",
              "1984  1.500378 -0.199110 -0.266014 -0.267270 -0.255943 -0.171247  0.062452   \n",
              "1985  1.368707 -0.017414 -0.113842 -0.147816 -0.102894  0.279545 -0.033097   \n",
              "\n",
              "            RN        RS        SE        ST        SV        SW        WT  \n",
              "Year                                                                        \n",
              "1981 -0.162030  0.033137 -0.471934 -0.492535  0.135720 -0.274793  0.079301  \n",
              "1982  0.376520  0.397674  0.325703  0.213000  0.412903 -0.292313  0.282937  \n",
              "1983 -0.171233  0.275233 -0.078571 -0.032846  0.062914  0.193896 -0.195013  \n",
              "1984 -0.272476 -0.388016 -0.395470 -0.005572 -0.036048 -0.435160  0.041449  \n",
              "1985  0.028285  0.233320  0.563607 -0.298943 -0.171835 -0.360961 -0.084335  "
            ]
          },
          "execution_count": 172,
          "metadata": {},
          "output_type": "execute_result"
        }
      ],
      "source": [
        "#Linear Interpolation : final_data.interpolate().head()\n",
        "#Spline Interpolation\n",
        "final_data.interpolate(method='spline',order=3).head()"
      ]
    },
    {
      "cell_type": "code",
      "execution_count": 48,
      "metadata": {
        "colab": {
          "base_uri": "https://localhost:8080/",
          "height": 561
        },
        "id": "BMDuJfQW6pAe",
        "outputId": "a89f7c12-d30d-43d3-a40c-a26e3c4fb34c"
      },
      "outputs": [
        {
          "data": {
            "image/png": "[encoded data removed]",
            "text/plain": [
              "<Figure size 432x288 with 1 Axes>"
            ]
          },
          "metadata": {
            "needs_background": "light"
          },
          "output_type": "display_data"
        },
        {
          "data": {
            "image/png": "[encoded data removed]",
            "text/plain": [
              "<Figure size 432x288 with 3 Axes>"
            ]
          },
          "metadata": {
            "needs_background": "light"
          },
          "output_type": "display_data"
        }
      ],
      "source": [
        "output = boosted_model.detect_outliers(final_data.interpolate(method='spline',order=3)['Yield'],\n",
        "                                       trend_estimator='linear',\n",
        "                                       seasonal_estimator='fourier',\n",
        "                                      #  seasonal_period=25,\n",
        "                                       global_cost='maicc',\n",
        "                                       fit_type='global')\n",
        "boosted_model.plot_results(output)\n",
        "boosted_model.plot_components(output)"
      ]
    },
    {
      "cell_type": "code",
      "execution_count": 173,
      "metadata": {
        "id": "zGaqAoW48z86"
      },
      "outputs": [],
      "source": [
        "final_data = final_data.interpolate(method='spline',order=3)\n",
        "# final_data['Yield']=np.log(final_data['Yield'])"
      ]
    },
    {
      "cell_type": "markdown",
      "metadata": {
        "id": "0_n2mcl0Zl7Z"
      },
      "source": [
        "# Modelling\n"
      ]
    },
    {
      "cell_type": "code",
      "execution_count": 12,
      "metadata": {
        "id": "2xHlxfQRZlnS"
      },
      "outputs": [
        {
          "name": "stderr",
          "output_type": "stream",
          "text": [
            "2022-05-17 21:50:05.291549: W tensorflow/stream_executor/platform/default/dso_loader.cc:64] Could not load dynamic library 'libcudart.so.11.0'; dlerror: libcudart.so.11.0: cannot open shared object file: No such file or directory\n",
            "2022-05-17 21:50:05.292812: I tensorflow/stream_executor/cuda/cudart_stub.cc:29] Ignore above cudart dlerror if you do not have a GPU set up on your machine.\n"
          ]
        }
      ],
      "source": [
        "import tensorflow as tf\n",
        "from tensorflow.keras.models import Sequential\n",
        "from tensorflow.keras.layers import LSTM\n",
        "from tensorflow.keras.layers import Dense, Dropout\n",
        "from tensorflow.keras.callbacks import EarlyStopping\n",
        "from sklearn.preprocessing import StandardScaler"
      ]
    },
    {
      "cell_type": "code",
      "execution_count": 174,
      "metadata": {
        "colab": {
          "base_uri": "https://localhost:8080/"
        },
        "id": "etkW71ewZs9g",
        "outputId": "90b08b35-5d56-4144-e020-e2c037c681a6"
      },
      "outputs": [
        {
          "data": {
            "text/plain": [
              "array([0.01526656, 0.37315836, 0.39910151, 0.45445057, 0.84544908,\n",
              "       0.10990869, 0.32851399, 0.31554268, 0.44529901, 0.01674478,\n",
              "       0.0467314 , 0.66424207, 0.17624064, 0.37979586])"
            ]
          },
          "execution_count": 174,
          "metadata": {},
          "output_type": "execute_result"
        }
      ],
      "source": [
        "#Scaling The Data\n",
        "from sklearn.preprocessing import MinMaxScaler\n",
        "scaler = MinMaxScaler()\n",
        "scaled = scaler.fit_transform(final_data.values)\n",
        "scaled[0]"
      ]
    },
    {
      "cell_type": "code",
      "execution_count": 153,
      "metadata": {
        "id": "uYPFn_y9aVky"
      },
      "outputs": [],
      "source": [
        "#Supervised form\n",
        "def to_supervised(data,dropNa = True,lag = 1):\n",
        "    df = pd.DataFrame(data)\n",
        "    column = []\n",
        "    column.append(df)\n",
        "    for i in range(1,lag+1):\n",
        "        column.append(df.shift(-i))\n",
        "    df = pd.concat(column,axis=1)\n",
        "    df.dropna(inplace = True)\n",
        "    features = data.shape[1]\n",
        "    df = df.values\n",
        "    supervised_data = df[:,:features*lag]\n",
        "    supervised_data = np.column_stack( [supervised_data, df[:,features*lag]])\n",
        "    return supervised_data"
      ]
    },
    {
      "cell_type": "code",
      "execution_count": 175,
      "metadata": {
        "colab": {
          "base_uri": "https://localhost:8080/",
          "height": 299
        },
        "id": "52aUwfQIaw00",
        "outputId": "f74a7003-703f-49d2-e79d-59025714c29b"
      },
      "outputs": [
        {
          "data": {
            "text/html": [
              "<div>\n",
              "<style scoped>\n",
              "    .dataframe tbody tr th:only-of-type {\n",
              "        vertical-align: middle;\n",
              "    }\n",
              "\n",
              "    .dataframe tbody tr th {\n",
              "        vertical-align: top;\n",
              "    }\n",
              "\n",
              "    .dataframe thead th {\n",
              "        text-align: right;\n",
              "    }\n",
              "</style>\n",
              "<table border=\"1\" class=\"dataframe\">\n",
              "  <thead>\n",
              "    <tr style=\"text-align: right;\">\n",
              "      <th></th>\n",
              "      <th>0</th>\n",
              "      <th>1</th>\n",
              "      <th>2</th>\n",
              "      <th>3</th>\n",
              "      <th>4</th>\n",
              "      <th>5</th>\n",
              "      <th>6</th>\n",
              "      <th>7</th>\n",
              "      <th>8</th>\n",
              "      <th>9</th>\n",
              "      <th>...</th>\n",
              "      <th>61</th>\n",
              "      <th>62</th>\n",
              "      <th>63</th>\n",
              "      <th>64</th>\n",
              "      <th>65</th>\n",
              "      <th>66</th>\n",
              "      <th>67</th>\n",
              "      <th>68</th>\n",
              "      <th>69</th>\n",
              "      <th>70</th>\n",
              "    </tr>\n",
              "  </thead>\n",
              "  <tbody>\n",
              "    <tr>\n",
              "      <th>0</th>\n",
              "      <td>0.015267</td>\n",
              "      <td>0.373158</td>\n",
              "      <td>0.399102</td>\n",
              "      <td>0.454451</td>\n",
              "      <td>0.845449</td>\n",
              "      <td>0.109909</td>\n",
              "      <td>0.328514</td>\n",
              "      <td>0.315543</td>\n",
              "      <td>0.445299</td>\n",
              "      <td>0.016745</td>\n",
              "      <td>...</td>\n",
              "      <td>0.586427</td>\n",
              "      <td>0.448788</td>\n",
              "      <td>0.445268</td>\n",
              "      <td>0.598724</td>\n",
              "      <td>0.794102</td>\n",
              "      <td>0.220731</td>\n",
              "      <td>0.383366</td>\n",
              "      <td>0.117406</td>\n",
              "      <td>0.271875</td>\n",
              "      <td>0.105657</td>\n",
              "    </tr>\n",
              "    <tr>\n",
              "      <th>1</th>\n",
              "      <td>0.007030</td>\n",
              "      <td>0.813006</td>\n",
              "      <td>0.648789</td>\n",
              "      <td>0.433509</td>\n",
              "      <td>0.951512</td>\n",
              "      <td>0.752613</td>\n",
              "      <td>0.745868</td>\n",
              "      <td>0.682639</td>\n",
              "      <td>0.724688</td>\n",
              "      <td>0.615513</td>\n",
              "      <td>...</td>\n",
              "      <td>0.684845</td>\n",
              "      <td>0.234883</td>\n",
              "      <td>0.390777</td>\n",
              "      <td>0.510826</td>\n",
              "      <td>0.581474</td>\n",
              "      <td>0.291408</td>\n",
              "      <td>0.832662</td>\n",
              "      <td>0.308366</td>\n",
              "      <td>0.078074</td>\n",
              "      <td>0.000000</td>\n",
              "    </tr>\n",
              "    <tr>\n",
              "      <th>2</th>\n",
              "      <td>0.330059</td>\n",
              "      <td>0.404278</td>\n",
              "      <td>0.154958</td>\n",
              "      <td>0.351419</td>\n",
              "      <td>0.273915</td>\n",
              "      <td>0.365438</td>\n",
              "      <td>0.465332</td>\n",
              "      <td>0.309270</td>\n",
              "      <td>0.630846</td>\n",
              "      <td>0.312034</td>\n",
              "      <td>...</td>\n",
              "      <td>0.312444</td>\n",
              "      <td>0.462168</td>\n",
              "      <td>0.224571</td>\n",
              "      <td>0.370492</td>\n",
              "      <td>0.317204</td>\n",
              "      <td>0.657274</td>\n",
              "      <td>0.724124</td>\n",
              "      <td>0.943592</td>\n",
              "      <td>0.262483</td>\n",
              "      <td>0.272354</td>\n",
              "    </tr>\n",
              "    <tr>\n",
              "      <th>3</th>\n",
              "      <td>0.172753</td>\n",
              "      <td>0.246449</td>\n",
              "      <td>0.183362</td>\n",
              "      <td>0.223478</td>\n",
              "      <td>0.273635</td>\n",
              "      <td>0.267387</td>\n",
              "      <td>0.511302</td>\n",
              "      <td>0.240258</td>\n",
              "      <td>0.122519</td>\n",
              "      <td>0.074145</td>\n",
              "      <td>...</td>\n",
              "      <td>0.197635</td>\n",
              "      <td>0.394841</td>\n",
              "      <td>0.303687</td>\n",
              "      <td>0.586638</td>\n",
              "      <td>0.474341</td>\n",
              "      <td>0.703675</td>\n",
              "      <td>0.555510</td>\n",
              "      <td>0.439042</td>\n",
              "      <td>0.215191</td>\n",
              "      <td>0.272362</td>\n",
              "    </tr>\n",
              "    <tr>\n",
              "      <th>4</th>\n",
              "      <td>0.005365</td>\n",
              "      <td>0.438580</td>\n",
              "      <td>0.264443</td>\n",
              "      <td>0.289911</td>\n",
              "      <td>0.385627</td>\n",
              "      <td>0.586427</td>\n",
              "      <td>0.448788</td>\n",
              "      <td>0.445268</td>\n",
              "      <td>0.598724</td>\n",
              "      <td>0.794102</td>\n",
              "      <td>...</td>\n",
              "      <td>0.187810</td>\n",
              "      <td>0.232126</td>\n",
              "      <td>0.357624</td>\n",
              "      <td>0.516215</td>\n",
              "      <td>0.568585</td>\n",
              "      <td>0.307635</td>\n",
              "      <td>0.184464</td>\n",
              "      <td>0.134938</td>\n",
              "      <td>0.136643</td>\n",
              "      <td>0.343112</td>\n",
              "    </tr>\n",
              "  </tbody>\n",
              "</table>\n",
              "<p>5 rows × 71 columns</p>\n",
              "</div>"
            ],
            "text/plain": [
              "         0         1         2         3         4         5         6   \\\n",
              "0  0.015267  0.373158  0.399102  0.454451  0.845449  0.109909  0.328514   \n",
              "1  0.007030  0.813006  0.648789  0.433509  0.951512  0.752613  0.745868   \n",
              "2  0.330059  0.404278  0.154958  0.351419  0.273915  0.365438  0.465332   \n",
              "3  0.172753  0.246449  0.183362  0.223478  0.273635  0.267387  0.511302   \n",
              "4  0.005365  0.438580  0.264443  0.289911  0.385627  0.586427  0.448788   \n",
              "\n",
              "         7         8         9   ...        61        62        63        64  \\\n",
              "0  0.315543  0.445299  0.016745  ...  0.586427  0.448788  0.445268  0.598724   \n",
              "1  0.682639  0.724688  0.615513  ...  0.684845  0.234883  0.390777  0.510826   \n",
              "2  0.309270  0.630846  0.312034  ...  0.312444  0.462168  0.224571  0.370492   \n",
              "3  0.240258  0.122519  0.074145  ...  0.197635  0.394841  0.303687  0.586638   \n",
              "4  0.445268  0.598724  0.794102  ...  0.187810  0.232126  0.357624  0.516215   \n",
              "\n",
              "         65        66        67        68        69        70  \n",
              "0  0.794102  0.220731  0.383366  0.117406  0.271875  0.105657  \n",
              "1  0.581474  0.291408  0.832662  0.308366  0.078074  0.000000  \n",
              "2  0.317204  0.657274  0.724124  0.943592  0.262483  0.272354  \n",
              "3  0.474341  0.703675  0.555510  0.439042  0.215191  0.272362  \n",
              "4  0.568585  0.307635  0.184464  0.134938  0.136643  0.343112  \n",
              "\n",
              "[5 rows x 71 columns]"
            ]
          },
          "execution_count": 175,
          "metadata": {},
          "output_type": "execute_result"
        }
      ],
      "source": [
        "timeSteps = 5\n",
        "\n",
        "supervised = to_supervised(scaled,lag=timeSteps)\n",
        "pd.DataFrame(supervised).head()"
      ]
    },
    {
      "cell_type": "code",
      "execution_count": 176,
      "metadata": {
        "colab": {
          "base_uri": "https://localhost:8080/"
        },
        "id": "561Nkqxva3F3",
        "outputId": "e497836b-64e9-45e8-d655-b820136396ce"
      },
      "outputs": [
        {
          "name": "stdout",
          "output_type": "stream",
          "text": [
            "(25, 70) (10, 70) (25,) (10,)\n"
          ]
        }
      ],
      "source": [
        "#Training and Testing Splitting\n",
        "features = final_data.shape[1]\n",
        "train_years = 25\n",
        "X = supervised[:,:features*timeSteps]\n",
        "y = supervised[:,features*timeSteps]\n",
        "\n",
        "x_train = X[:train_years,:]\n",
        "x_test = X[train_years:,:]\n",
        "y_train = y[:train_years]\n",
        "y_test = y[train_years:]\n",
        "\n",
        "print(x_train.shape,x_test.shape,y_train.shape,y_test.shape)"
      ]
    },
    {
      "cell_type": "code",
      "execution_count": 177,
      "metadata": {
        "colab": {
          "base_uri": "https://localhost:8080/"
        },
        "id": "9_5JJa7KbRPB",
        "outputId": "b82b0730-83fe-42a9-a923-80953df7429d"
      },
      "outputs": [
        {
          "name": "stdout",
          "output_type": "stream",
          "text": [
            "(25, 5, 14) (10, 5, 14)\n"
          ]
        }
      ],
      "source": [
        "#Convert Data Shape to Fit LSTM Model\n",
        "\n",
        "x_train = x_train.reshape(x_train.shape[0], timeSteps, features)\n",
        "x_test = x_test.reshape(x_test.shape[0], timeSteps, features)\n",
        "\n",
        "print(x_train.shape,x_test.shape)"
      ]
    },
    {
      "cell_type": "code",
      "execution_count": 178,
      "metadata": {
        "id": "Izf3YcEQbWF-"
      },
      "outputs": [],
      "source": [
        "#Defining the Model\n",
        "\n",
        "model = Sequential()\n",
        "model.add( LSTM( 128, input_shape = ( timeSteps,x_train.shape[2]),return_sequences=True ))\n",
        "model.add( LSTM( 64, input_shape = ( timeSteps,x_train.shape[2]),return_sequences=True ))\n",
        "model.add( LSTM( 32, input_shape = ( timeSteps,x_train.shape[2]),return_sequences=True))\n",
        "model.add( LSTM( 16, input_shape = ( timeSteps,x_train.shape[2]),return_sequences=False))\n",
        "# model.add(Dropout(0.2))\n",
        "model.add(Dense(1))\n",
        "\n",
        "model.compile( loss = \"mse\", optimizer = \"adam\")\n",
        "\n",
        "history =  model.fit( x_train,y_train,\n",
        "                     validation_data = (x_test,y_test),\n",
        "                     epochs = 100 ,\n",
        "                     batch_size = 72,\n",
        "                    #  callbacks=[EarlyStopping(monitor='val_loss', patience=10)],\n",
        "                     verbose = 0,\n",
        "                     shuffle = False)"
      ]
    },
    {
      "cell_type": "code",
      "execution_count": 179,
      "metadata": {
        "colab": {
          "base_uri": "https://localhost:8080/",
          "height": 281
        },
        "id": "wP8UC14lbjHu",
        "outputId": "cb52ae4f-a146-45f7-a4f4-d7b4722741e7"
      },
      "outputs": [
        {
          "data": {
            "image/png": "[encoded data removed]",
            "text/plain": [
              "<Figure size 432x288 with 1 Axes>"
            ]
          },
          "metadata": {
            "needs_background": "light"
          },
          "output_type": "display_data"
        }
      ],
      "source": [
        "#Learning Curves\n",
        "plt.plot(history.history['loss'], label='train')\n",
        "plt.plot(history.history['val_loss'], label='test')\n",
        "plt.legend()\n",
        "plt.title(\"Loss During Training\")\n",
        "plt.show()"
      ]
    },
    {
      "cell_type": "code",
      "execution_count": 180,
      "metadata": {
        "id": "p0fFzlDFc8yU"
      },
      "outputs": [],
      "source": [
        "#Scaling Back the Wheat Yield Data to Original Scale\n",
        "y_pred = model.predict(x_test)\n",
        "x_test = x_test.reshape(x_test.shape[0],x_test.shape[2]*x_test.shape[1])\n",
        "\n",
        "inv_new = np.concatenate( (y_pred, x_test[:,-13:] ) , axis =1)\n",
        "inv_new = scaler.inverse_transform(inv_new)\n",
        "final_pred = inv_new[:,0]\n",
        "\n",
        "y_test = y_test.reshape( len(y_test), 1)\n",
        "\n",
        "inv_new = np.concatenate( (y_test, x_test[:,-13:] ) ,axis = 1)\n",
        "inv_new = scaler.inverse_transform(inv_new)\n",
        "actual_pred = inv_new[:,0]"
      ]
    },
    {
      "cell_type": "code",
      "execution_count": 181,
      "metadata": {
        "colab": {
          "base_uri": "https://localhost:8080/",
          "height": 363
        },
        "id": "dVG1T9_ifY-X",
        "outputId": "4a603444-165f-4087-cba8-2619dc60e50e"
      },
      "outputs": [
        {
          "data": {
            "text/html": [
              "<div>\n",
              "<style scoped>\n",
              "    .dataframe tbody tr th:only-of-type {\n",
              "        vertical-align: middle;\n",
              "    }\n",
              "\n",
              "    .dataframe tbody tr th {\n",
              "        vertical-align: top;\n",
              "    }\n",
              "\n",
              "    .dataframe thead th {\n",
              "        text-align: right;\n",
              "    }\n",
              "</style>\n",
              "<table border=\"1\" class=\"dataframe\">\n",
              "  <thead>\n",
              "    <tr style=\"text-align: right;\">\n",
              "      <th></th>\n",
              "      <th>Date</th>\n",
              "      <th>Yield</th>\n",
              "    </tr>\n",
              "  </thead>\n",
              "  <tbody>\n",
              "    <tr>\n",
              "      <th>0</th>\n",
              "      <td>2011</td>\n",
              "      <td>1.829932</td>\n",
              "    </tr>\n",
              "    <tr>\n",
              "      <th>1</th>\n",
              "      <td>2012</td>\n",
              "      <td>1.765891</td>\n",
              "    </tr>\n",
              "    <tr>\n",
              "      <th>2</th>\n",
              "      <td>2013</td>\n",
              "      <td>1.775850</td>\n",
              "    </tr>\n",
              "    <tr>\n",
              "      <th>3</th>\n",
              "      <td>2014</td>\n",
              "      <td>1.916901</td>\n",
              "    </tr>\n",
              "    <tr>\n",
              "      <th>4</th>\n",
              "      <td>2015</td>\n",
              "      <td>1.991144</td>\n",
              "    </tr>\n",
              "    <tr>\n",
              "      <th>5</th>\n",
              "      <td>2016</td>\n",
              "      <td>1.911862</td>\n",
              "    </tr>\n",
              "    <tr>\n",
              "      <th>6</th>\n",
              "      <td>2017</td>\n",
              "      <td>1.917252</td>\n",
              "    </tr>\n",
              "    <tr>\n",
              "      <th>7</th>\n",
              "      <td>2018</td>\n",
              "      <td>1.905777</td>\n",
              "    </tr>\n",
              "    <tr>\n",
              "      <th>8</th>\n",
              "      <td>2019</td>\n",
              "      <td>1.993227</td>\n",
              "    </tr>\n",
              "    <tr>\n",
              "      <th>9</th>\n",
              "      <td>2020</td>\n",
              "      <td>1.993658</td>\n",
              "    </tr>\n",
              "  </tbody>\n",
              "</table>\n",
              "</div>"
            ],
            "text/plain": [
              "   Date     Yield\n",
              "0  2011  1.829932\n",
              "1  2012  1.765891\n",
              "2  2013  1.775850\n",
              "3  2014  1.916901\n",
              "4  2015  1.991144\n",
              "5  2016  1.911862\n",
              "6  2017  1.917252\n",
              "7  2018  1.905777\n",
              "8  2019  1.993227\n",
              "9  2020  1.993658"
            ]
          },
          "execution_count": 181,
          "metadata": {},
          "output_type": "execute_result"
        }
      ],
      "source": [
        "#Predicted Year\n",
        "df_forecast = pd.DataFrame({'Date':np.arange(start=2021-len(final_pred), stop=2021, step=1), 'Yield':final_pred})\n",
        "df_forecast"
      ]
    },
    {
      "cell_type": "code",
      "execution_count": 182,
      "metadata": {
        "id": "IPNjXuNIl1Jo"
      },
      "outputs": [],
      "source": [
        "final_data['Year'] = final_data.index"
      ]
    },
    {
      "cell_type": "code",
      "execution_count": 183,
      "metadata": {
        "colab": {
          "base_uri": "https://localhost:8080/",
          "height": 313
        },
        "id": "NgM9lWWglNH_",
        "outputId": "5d595332-9666-41da-ffd1-773c423a37ac"
      },
      "outputs": [
        {
          "data": {
            "text/plain": [
              "<matplotlib.axes._subplots.AxesSubplot at 0x7fdfbe05f520>"
            ]
          },
          "execution_count": 183,
          "metadata": {},
          "output_type": "execute_result"
        },
        {
          "data": {
            "image/png": "[encoded data removed]",
            "text/plain": [
              "<Figure size 432x288 with 1 Axes>"
            ]
          },
          "metadata": {
            "needs_background": "light"
          },
          "output_type": "display_data"
        }
      ],
      "source": [
        "#Actual vs. Forecast Plot\n",
        "original = final_data[['Year', 'Yield']]\n",
        "lower_ci_99 = df_forecast['Yield']-2.576*(np.std(final_pred)/np.sqrt(10))\n",
        "upper_ci_99 = df_forecast['Yield']+2.576*(np.std(final_pred)/np.sqrt(10))\n",
        "lower_ci_95 = df_forecast['Yield']-1.96*(np.std(final_pred)/np.sqrt(10))\n",
        "upper_ci_95 = df_forecast['Yield']+1.96*(np.std(final_pred)/np.sqrt(10))\n",
        "\n",
        "sn.lineplot(original['Year'], original['Yield'],label='Actual').set(title='Actual vs. Forecast (LSTM)',ylabel='Yield (t/ha)')\n",
        "sn.lineplot(df_forecast['Date'], df_forecast['Yield'],label='Forecast')\n",
        "plt.fill_between(df_forecast['Date'], lower_ci_99, upper_ci_99, color='orange', alpha=.1)\n",
        "plt.fill_between(df_forecast['Date'], lower_ci_95, upper_ci_95, color='orange', alpha=.3)\n",
        "plt.legend(loc='upper left')\n",
        "sn.lineplot()"
      ]
    },
    {
      "cell_type": "code",
      "execution_count": 184,
      "metadata": {
        "colab": {
          "base_uri": "https://localhost:8080/"
        },
        "id": "qKGhxd3RgRi7",
        "outputId": "b1824ff3-c797-4044-ba72-6a8e2f02837d"
      },
      "outputs": [
        {
          "name": "stdout",
          "output_type": "stream",
          "text": [
            "MAE: 0.12833197782834296\n",
            "RMSE: 0.17314980583165807\n",
            "MAPE: 0.06789618558244029\n"
          ]
        }
      ],
      "source": [
        "from sklearn.metrics import mean_absolute_error,mean_squared_error,mean_absolute_percentage_error,r2_score\n",
        "\n",
        "print('MAE: '+ str(mean_absolute_error(final_pred,actual_pred)))\n",
        "print('RMSE: '+ str(np.sqrt(mean_squared_error(final_pred,actual_pred))))\n",
        "print('MAPE: '+ str(mean_absolute_percentage_error(final_pred,actual_pred)))"
      ]
    },
    {
      "cell_type": "markdown",
      "metadata": {
        "id": "O_DiNh3TPkDb"
      },
      "source": [
        "# AutoKeras"
      ]
    },
    {
      "cell_type": "code",
      "execution_count": null,
      "metadata": {
        "id": "Jka9OI7cQS8r"
      },
      "outputs": [],
      "source": [
        "import autokeras as ak"
      ]
    },
    {
      "cell_type": "code",
      "execution_count": null,
      "metadata": {
        "colab": {
          "base_uri": "https://localhost:8080/",
          "height": 301
        },
        "id": "dWIFswTBQEBN",
        "outputId": "ed45dbd7-edad-4627-a75f-e2e18223c76b"
      },
      "outputs": [
        {
          "data": {
            "text/html": [
              "<div>\n",
              "<style scoped>\n",
              "    .dataframe tbody tr th:only-of-type {\n",
              "        vertical-align: middle;\n",
              "    }\n",
              "\n",
              "    .dataframe tbody tr th {\n",
              "        vertical-align: top;\n",
              "    }\n",
              "\n",
              "    .dataframe thead th {\n",
              "        text-align: right;\n",
              "    }\n",
              "</style>\n",
              "<table border=\"1\" class=\"dataframe\">\n",
              "  <thead>\n",
              "    <tr style=\"text-align: right;\">\n",
              "      <th></th>\n",
              "      <th>Yield</th>\n",
              "      <th>AU</th>\n",
              "      <th>CS</th>\n",
              "      <th>CN</th>\n",
              "      <th>ES</th>\n",
              "      <th>MB</th>\n",
              "      <th>MN</th>\n",
              "      <th>RN</th>\n",
              "      <th>RS</th>\n",
              "      <th>SE</th>\n",
              "      <th>ST</th>\n",
              "      <th>SV</th>\n",
              "      <th>SW</th>\n",
              "      <th>WT</th>\n",
              "      <th>Year</th>\n",
              "    </tr>\n",
              "    <tr>\n",
              "      <th>Year</th>\n",
              "      <th></th>\n",
              "      <th></th>\n",
              "      <th></th>\n",
              "      <th></th>\n",
              "      <th></th>\n",
              "      <th></th>\n",
              "      <th></th>\n",
              "      <th></th>\n",
              "      <th></th>\n",
              "      <th></th>\n",
              "      <th></th>\n",
              "      <th></th>\n",
              "      <th></th>\n",
              "      <th></th>\n",
              "      <th></th>\n",
              "    </tr>\n",
              "  </thead>\n",
              "  <tbody>\n",
              "    <tr>\n",
              "      <th>1981</th>\n",
              "      <td>1.376496</td>\n",
              "      <td>-0.087208</td>\n",
              "      <td>-0.084951</td>\n",
              "      <td>-0.258811</td>\n",
              "      <td>0.087191</td>\n",
              "      <td>-0.041700</td>\n",
              "      <td>-0.158683</td>\n",
              "      <td>-0.012887</td>\n",
              "      <td>-0.111130</td>\n",
              "      <td>-0.007505</td>\n",
              "      <td>0.058336</td>\n",
              "      <td>-0.134609</td>\n",
              "      <td>-0.084965</td>\n",
              "      <td>0.189143</td>\n",
              "      <td>1981</td>\n",
              "    </tr>\n",
              "    <tr>\n",
              "      <th>1982</th>\n",
              "      <td>1.500307</td>\n",
              "      <td>-0.357338</td>\n",
              "      <td>-0.196937</td>\n",
              "      <td>-0.433829</td>\n",
              "      <td>-0.108388</td>\n",
              "      <td>-0.010522</td>\n",
              "      <td>-0.538458</td>\n",
              "      <td>-0.211941</td>\n",
              "      <td>-0.156131</td>\n",
              "      <td>-0.452043</td>\n",
              "      <td>-0.043819</td>\n",
              "      <td>-0.345070</td>\n",
              "      <td>-0.214564</td>\n",
              "      <td>-0.333190</td>\n",
              "      <td>1982</td>\n",
              "    </tr>\n",
              "    <tr>\n",
              "      <th>1983</th>\n",
              "      <td>1.624118</td>\n",
              "      <td>0.064702</td>\n",
              "      <td>0.259954</td>\n",
              "      <td>0.297082</td>\n",
              "      <td>-0.146317</td>\n",
              "      <td>0.242856</td>\n",
              "      <td>-0.069399</td>\n",
              "      <td>0.022740</td>\n",
              "      <td>-0.165062</td>\n",
              "      <td>0.018552</td>\n",
              "      <td>0.095853</td>\n",
              "      <td>0.186962</td>\n",
              "      <td>0.207787</td>\n",
              "      <td>0.044916</td>\n",
              "      <td>1983</td>\n",
              "    </tr>\n",
              "    <tr>\n",
              "      <th>1984</th>\n",
              "      <td>1.500378</td>\n",
              "      <td>-0.141534</td>\n",
              "      <td>-0.128566</td>\n",
              "      <td>-0.025731</td>\n",
              "      <td>0.142605</td>\n",
              "      <td>-0.161209</td>\n",
              "      <td>-0.166435</td>\n",
              "      <td>-0.130824</td>\n",
              "      <td>0.011527</td>\n",
              "      <td>-0.410279</td>\n",
              "      <td>-0.190843</td>\n",
              "      <td>-0.291107</td>\n",
              "      <td>-0.238221</td>\n",
              "      <td>-0.426922</td>\n",
              "      <td>1984</td>\n",
              "    </tr>\n",
              "    <tr>\n",
              "      <th>1985</th>\n",
              "      <td>1.368707</td>\n",
              "      <td>-0.121609</td>\n",
              "      <td>-0.338231</td>\n",
              "      <td>-0.382139</td>\n",
              "      <td>-0.020478</td>\n",
              "      <td>-0.130815</td>\n",
              "      <td>-0.258032</td>\n",
              "      <td>-0.040343</td>\n",
              "      <td>-0.059485</td>\n",
              "      <td>-0.123720</td>\n",
              "      <td>-0.047249</td>\n",
              "      <td>0.061038</td>\n",
              "      <td>0.057917</td>\n",
              "      <td>-0.163531</td>\n",
              "      <td>1985</td>\n",
              "    </tr>\n",
              "  </tbody>\n",
              "</table>\n",
              "</div>"
            ],
            "text/plain": [
              "         Yield        AU        CS        CN        ES        MB        MN  \\\n",
              "Year                                                                         \n",
              "1981  1.376496 -0.087208 -0.084951 -0.258811  0.087191 -0.041700 -0.158683   \n",
              "1982  1.500307 -0.357338 -0.196937 -0.433829 -0.108388 -0.010522 -0.538458   \n",
              "1983  1.624118  0.064702  0.259954  0.297082 -0.146317  0.242856 -0.069399   \n",
              "1984  1.500378 -0.141534 -0.128566 -0.025731  0.142605 -0.161209 -0.166435   \n",
              "1985  1.368707 -0.121609 -0.338231 -0.382139 -0.020478 -0.130815 -0.258032   \n",
              "\n",
              "            RN        RS        SE        ST        SV        SW        WT  \\\n",
              "Year                                                                         \n",
              "1981 -0.012887 -0.111130 -0.007505  0.058336 -0.134609 -0.084965  0.189143   \n",
              "1982 -0.211941 -0.156131 -0.452043 -0.043819 -0.345070 -0.214564 -0.333190   \n",
              "1983  0.022740 -0.165062  0.018552  0.095853  0.186962  0.207787  0.044916   \n",
              "1984 -0.130824  0.011527 -0.410279 -0.190843 -0.291107 -0.238221 -0.426922   \n",
              "1985 -0.040343 -0.059485 -0.123720 -0.047249  0.061038  0.057917 -0.163531   \n",
              "\n",
              "      Year  \n",
              "Year        \n",
              "1981  1981  \n",
              "1982  1982  \n",
              "1983  1983  \n",
              "1984  1984  \n",
              "1985  1985  "
            ]
          },
          "execution_count": 67,
          "metadata": {},
          "output_type": "execute_result"
        }
      ],
      "source": [
        "final_data.head()"
      ]
    },
    {
      "cell_type": "code",
      "execution_count": null,
      "metadata": {
        "id": "PRspUCIGTwnM"
      },
      "outputs": [],
      "source": [
        "val_split = int(len(final_data) * 0.7)\n",
        "data_train = final_data[:val_split]\n",
        "validation_data = final_data[val_split:]"
      ]
    },
    {
      "cell_type": "code",
      "execution_count": null,
      "metadata": {
        "colab": {
          "base_uri": "https://localhost:8080/"
        },
        "id": "lIfu-j1ZT-RC",
        "outputId": "852e8a08-f903-4933-ccea-6819bdf8de9d"
      },
      "outputs": [
        {
          "name": "stdout",
          "output_type": "stream",
          "text": [
            "(28, 13)\n",
            "(28, 1)\n"
          ]
        }
      ],
      "source": [
        "data_x=data_train[['AU','CS','CN','ES','MB','MN','RN','RS','SE','ST','SV','SW','WT']].astype('float64')\n",
        "data_x_val=validation_data[['AU','CS','CN','ES','MB','MN','RN','RS','SE','ST','SV','SW','WT']].astype('float64')\n",
        "data_x_test=final_data[['AU','CS','CN','ES','MB','MN','RN','RS','SE','ST','SV','SW','WT']].astype('float64')\n",
        "\n",
        "data_y=data_train[['Yield']].astype('float64')\n",
        "data_y_val=validation_data[['Yield']].astype('float64')\n",
        "\n",
        "print(data_x.shape) \n",
        "print(data_y.shape)  "
      ]
    },
    {
      "cell_type": "code",
      "execution_count": null,
      "metadata": {
        "colab": {
          "base_uri": "https://localhost:8080/"
        },
        "id": "juWxTKc7VYuu",
        "outputId": "88b37189-34a5-4b55-b0e6-becea62b88ad"
      },
      "outputs": [
        {
          "name": "stdout",
          "output_type": "stream",
          "text": [
            "Trial 1 Complete [00h 00m 11s]\n",
            "val_loss: 3.3113675117492676\n",
            "\n",
            "Best val_loss So Far: 3.3113675117492676\n",
            "Total elapsed time: 00h 00m 11s\n",
            "INFO:tensorflow:Oracle triggered exit\n",
            "Epoch 1/100\n",
            "1/1 [==============================] - 6s 6s/step - loss: 3.1070 - mean_squared_error: 3.1070 - val_loss: 3.9195 - val_mean_squared_error: 3.9195\n",
            "Epoch 2/100\n",
            "1/1 [==============================] - 0s 139ms/step - loss: 3.0862 - mean_squared_error: 3.0862 - val_loss: 3.9337 - val_mean_squared_error: 3.9337\n",
            "Epoch 3/100\n",
            "1/1 [==============================] - 0s 137ms/step - loss: 3.0652 - mean_squared_error: 3.0652 - val_loss: 3.9485 - val_mean_squared_error: 3.9485\n",
            "Epoch 4/100\n",
            "1/1 [==============================] - 0s 123ms/step - loss: 3.0440 - mean_squared_error: 3.0440 - val_loss: 3.9639 - val_mean_squared_error: 3.9639\n",
            "Epoch 5/100\n",
            "1/1 [==============================] - 0s 110ms/step - loss: 3.0226 - mean_squared_error: 3.0226 - val_loss: 3.9793 - val_mean_squared_error: 3.9793\n",
            "Epoch 6/100\n",
            "1/1 [==============================] - 0s 105ms/step - loss: 3.0009 - mean_squared_error: 3.0009 - val_loss: 3.9944 - val_mean_squared_error: 3.9944\n",
            "Epoch 7/100\n",
            "1/1 [==============================] - 0s 120ms/step - loss: 2.9788 - mean_squared_error: 2.9788 - val_loss: 4.0090 - val_mean_squared_error: 4.0090\n",
            "Epoch 8/100\n",
            "1/1 [==============================] - 0s 165ms/step - loss: 2.9563 - mean_squared_error: 2.9563 - val_loss: 4.0228 - val_mean_squared_error: 4.0228\n",
            "Epoch 9/100\n",
            "1/1 [==============================] - 0s 110ms/step - loss: 2.9334 - mean_squared_error: 2.9334 - val_loss: 4.0357 - val_mean_squared_error: 4.0357\n",
            "Epoch 10/100\n",
            "1/1 [==============================] - 0s 121ms/step - loss: 2.9099 - mean_squared_error: 2.9099 - val_loss: 4.0478 - val_mean_squared_error: 4.0478\n",
            "Epoch 11/100\n",
            "1/1 [==============================] - 0s 108ms/step - loss: 2.8860 - mean_squared_error: 2.8860 - val_loss: 4.0591 - val_mean_squared_error: 4.0591\n",
            "Epoch 12/100\n",
            "1/1 [==============================] - 0s 99ms/step - loss: 2.8615 - mean_squared_error: 2.8615 - val_loss: 4.0696 - val_mean_squared_error: 4.0696\n",
            "Epoch 13/100\n",
            "1/1 [==============================] - 0s 131ms/step - loss: 2.8363 - mean_squared_error: 2.8363 - val_loss: 4.0794 - val_mean_squared_error: 4.0794\n",
            "Epoch 14/100\n",
            "1/1 [==============================] - 0s 97ms/step - loss: 2.8105 - mean_squared_error: 2.8105 - val_loss: 4.0885 - val_mean_squared_error: 4.0885\n",
            "Epoch 15/100\n",
            "1/1 [==============================] - 0s 147ms/step - loss: 2.7841 - mean_squared_error: 2.7841 - val_loss: 4.0970 - val_mean_squared_error: 4.0970\n",
            "Epoch 16/100\n",
            "1/1 [==============================] - 0s 99ms/step - loss: 2.7569 - mean_squared_error: 2.7569 - val_loss: 4.1050 - val_mean_squared_error: 4.1050\n",
            "Epoch 17/100\n",
            "1/1 [==============================] - 0s 129ms/step - loss: 2.7289 - mean_squared_error: 2.7289 - val_loss: 4.1123 - val_mean_squared_error: 4.1123\n",
            "Epoch 18/100\n",
            "1/1 [==============================] - 0s 104ms/step - loss: 2.7001 - mean_squared_error: 2.7001 - val_loss: 4.1192 - val_mean_squared_error: 4.1192\n",
            "Epoch 19/100\n",
            "1/1 [==============================] - 0s 105ms/step - loss: 2.6705 - mean_squared_error: 2.6705 - val_loss: 4.1256 - val_mean_squared_error: 4.1256\n",
            "Epoch 20/100\n",
            "1/1 [==============================] - 0s 106ms/step - loss: 2.6400 - mean_squared_error: 2.6400 - val_loss: 4.1314 - val_mean_squared_error: 4.1314\n",
            "Epoch 21/100\n",
            "1/1 [==============================] - 0s 107ms/step - loss: 2.6086 - mean_squared_error: 2.6086 - val_loss: 4.1369 - val_mean_squared_error: 4.1369\n",
            "Epoch 22/100\n",
            "1/1 [==============================] - 0s 112ms/step - loss: 2.5762 - mean_squared_error: 2.5762 - val_loss: 4.1418 - val_mean_squared_error: 4.1418\n",
            "Epoch 23/100\n",
            "1/1 [==============================] - 0s 105ms/step - loss: 2.5428 - mean_squared_error: 2.5428 - val_loss: 4.1463 - val_mean_squared_error: 4.1463\n",
            "Epoch 24/100\n",
            "1/1 [==============================] - 0s 105ms/step - loss: 2.5084 - mean_squared_error: 2.5084 - val_loss: 4.1503 - val_mean_squared_error: 4.1503\n",
            "Epoch 25/100\n",
            "1/1 [==============================] - 0s 102ms/step - loss: 2.4730 - mean_squared_error: 2.4730 - val_loss: 4.1538 - val_mean_squared_error: 4.1538\n",
            "Epoch 26/100\n",
            "1/1 [==============================] - 0s 106ms/step - loss: 2.4365 - mean_squared_error: 2.4365 - val_loss: 4.1567 - val_mean_squared_error: 4.1567\n",
            "Epoch 27/100\n",
            "1/1 [==============================] - 0s 106ms/step - loss: 2.3988 - mean_squared_error: 2.3988 - val_loss: 4.1591 - val_mean_squared_error: 4.1591\n",
            "Epoch 28/100\n",
            "1/1 [==============================] - 0s 102ms/step - loss: 2.3600 - mean_squared_error: 2.3600 - val_loss: 4.1609 - val_mean_squared_error: 4.1609\n",
            "Epoch 29/100\n",
            "1/1 [==============================] - 0s 102ms/step - loss: 2.3201 - mean_squared_error: 2.3201 - val_loss: 4.1621 - val_mean_squared_error: 4.1621\n",
            "Epoch 30/100\n",
            "1/1 [==============================] - 0s 106ms/step - loss: 2.2790 - mean_squared_error: 2.2790 - val_loss: 4.1626 - val_mean_squared_error: 4.1626\n",
            "Epoch 31/100\n",
            "1/1 [==============================] - 0s 107ms/step - loss: 2.2366 - mean_squared_error: 2.2366 - val_loss: 4.1623 - val_mean_squared_error: 4.1623\n",
            "Epoch 32/100\n",
            "1/1 [==============================] - 0s 176ms/step - loss: 2.1930 - mean_squared_error: 2.1930 - val_loss: 4.1613 - val_mean_squared_error: 4.1613\n",
            "Epoch 33/100\n",
            "1/1 [==============================] - 0s 108ms/step - loss: 2.1483 - mean_squared_error: 2.1483 - val_loss: 4.1594 - val_mean_squared_error: 4.1594\n",
            "Epoch 34/100\n",
            "1/1 [==============================] - 0s 113ms/step - loss: 2.1023 - mean_squared_error: 2.1023 - val_loss: 4.1565 - val_mean_squared_error: 4.1565\n",
            "Epoch 35/100\n",
            "1/1 [==============================] - 0s 113ms/step - loss: 2.0550 - mean_squared_error: 2.0550 - val_loss: 4.1525 - val_mean_squared_error: 4.1525\n",
            "Epoch 36/100\n",
            "1/1 [==============================] - 0s 122ms/step - loss: 2.0066 - mean_squared_error: 2.0066 - val_loss: 4.1473 - val_mean_squared_error: 4.1473\n",
            "Epoch 37/100\n",
            "1/1 [==============================] - 0s 111ms/step - loss: 1.9570 - mean_squared_error: 1.9570 - val_loss: 4.1407 - val_mean_squared_error: 4.1407\n",
            "Epoch 38/100\n",
            "1/1 [==============================] - 0s 108ms/step - loss: 1.9062 - mean_squared_error: 1.9062 - val_loss: 4.1325 - val_mean_squared_error: 4.1325\n",
            "Epoch 39/100\n",
            "1/1 [==============================] - 0s 114ms/step - loss: 1.8544 - mean_squared_error: 1.8544 - val_loss: 4.1225 - val_mean_squared_error: 4.1225\n",
            "Epoch 40/100\n",
            "1/1 [==============================] - 0s 107ms/step - loss: 1.8015 - mean_squared_error: 1.8015 - val_loss: 4.1105 - val_mean_squared_error: 4.1105\n",
            "Epoch 41/100\n",
            "1/1 [==============================] - 0s 106ms/step - loss: 1.7476 - mean_squared_error: 1.7476 - val_loss: 4.0963 - val_mean_squared_error: 4.0963\n",
            "Epoch 42/100\n",
            "1/1 [==============================] - 0s 101ms/step - loss: 1.6929 - mean_squared_error: 1.6929 - val_loss: 4.0795 - val_mean_squared_error: 4.0795\n",
            "Epoch 43/100\n",
            "1/1 [==============================] - 0s 102ms/step - loss: 1.6373 - mean_squared_error: 1.6373 - val_loss: 4.0601 - val_mean_squared_error: 4.0601\n",
            "Epoch 44/100\n",
            "1/1 [==============================] - 0s 103ms/step - loss: 1.5811 - mean_squared_error: 1.5811 - val_loss: 4.0375 - val_mean_squared_error: 4.0375\n",
            "Epoch 45/100\n",
            "1/1 [==============================] - 0s 100ms/step - loss: 1.5243 - mean_squared_error: 1.5243 - val_loss: 4.0117 - val_mean_squared_error: 4.0117\n",
            "Epoch 46/100\n",
            "1/1 [==============================] - 0s 101ms/step - loss: 1.4671 - mean_squared_error: 1.4671 - val_loss: 3.9821 - val_mean_squared_error: 3.9821\n",
            "Epoch 47/100\n",
            "1/1 [==============================] - 0s 101ms/step - loss: 1.4096 - mean_squared_error: 1.4096 - val_loss: 3.9485 - val_mean_squared_error: 3.9485\n",
            "Epoch 48/100\n",
            "1/1 [==============================] - 0s 104ms/step - loss: 1.3520 - mean_squared_error: 1.3520 - val_loss: 3.9105 - val_mean_squared_error: 3.9105\n",
            "Epoch 49/100\n",
            "1/1 [==============================] - 0s 98ms/step - loss: 1.2945 - mean_squared_error: 1.2945 - val_loss: 3.8676 - val_mean_squared_error: 3.8676\n",
            "Epoch 50/100\n",
            "1/1 [==============================] - 0s 97ms/step - loss: 1.2373 - mean_squared_error: 1.2373 - val_loss: 3.8194 - val_mean_squared_error: 3.8194\n",
            "Epoch 51/100\n",
            "1/1 [==============================] - 0s 103ms/step - loss: 1.1806 - mean_squared_error: 1.1806 - val_loss: 3.7654 - val_mean_squared_error: 3.7654\n",
            "Epoch 52/100\n",
            "1/1 [==============================] - 0s 106ms/step - loss: 1.1245 - mean_squared_error: 1.1245 - val_loss: 3.7051 - val_mean_squared_error: 3.7051\n",
            "Epoch 53/100\n",
            "1/1 [==============================] - 0s 99ms/step - loss: 1.0693 - mean_squared_error: 1.0693 - val_loss: 3.6380 - val_mean_squared_error: 3.6380\n",
            "Epoch 54/100\n",
            "1/1 [==============================] - 0s 109ms/step - loss: 1.0151 - mean_squared_error: 1.0151 - val_loss: 3.5637 - val_mean_squared_error: 3.5637\n",
            "Epoch 55/100\n",
            "1/1 [==============================] - 0s 97ms/step - loss: 0.9621 - mean_squared_error: 0.9621 - val_loss: 3.4818 - val_mean_squared_error: 3.4818\n",
            "Epoch 56/100\n",
            "1/1 [==============================] - 0s 123ms/step - loss: 0.9104 - mean_squared_error: 0.9104 - val_loss: 3.3918 - val_mean_squared_error: 3.3918\n",
            "Epoch 57/100\n",
            "1/1 [==============================] - 0s 127ms/step - loss: 0.8602 - mean_squared_error: 0.8602 - val_loss: 3.2936 - val_mean_squared_error: 3.2936\n",
            "Epoch 58/100\n",
            "1/1 [==============================] - 0s 107ms/step - loss: 0.8117 - mean_squared_error: 0.8117 - val_loss: 3.1869 - val_mean_squared_error: 3.1869\n",
            "Epoch 59/100\n",
            "1/1 [==============================] - 0s 112ms/step - loss: 0.7648 - mean_squared_error: 0.7648 - val_loss: 3.0715 - val_mean_squared_error: 3.0715\n",
            "Epoch 60/100\n",
            "1/1 [==============================] - 0s 103ms/step - loss: 0.7197 - mean_squared_error: 0.7197 - val_loss: 2.9477 - val_mean_squared_error: 2.9477\n",
            "Epoch 61/100\n",
            "1/1 [==============================] - 0s 125ms/step - loss: 0.6764 - mean_squared_error: 0.6764 - val_loss: 2.8155 - val_mean_squared_error: 2.8155\n",
            "Epoch 62/100\n",
            "1/1 [==============================] - 0s 100ms/step - loss: 0.6350 - mean_squared_error: 0.6350 - val_loss: 2.6753 - val_mean_squared_error: 2.6753\n",
            "Epoch 63/100\n",
            "1/1 [==============================] - 0s 130ms/step - loss: 0.5953 - mean_squared_error: 0.5953 - val_loss: 2.5277 - val_mean_squared_error: 2.5277\n",
            "Epoch 64/100\n",
            "1/1 [==============================] - 0s 121ms/step - loss: 0.5574 - mean_squared_error: 0.5574 - val_loss: 2.3733 - val_mean_squared_error: 2.3733\n",
            "Epoch 65/100\n",
            "1/1 [==============================] - 0s 104ms/step - loss: 0.5212 - mean_squared_error: 0.5212 - val_loss: 2.2133 - val_mean_squared_error: 2.2133\n",
            "Epoch 66/100\n",
            "1/1 [==============================] - 0s 98ms/step - loss: 0.4867 - mean_squared_error: 0.4867 - val_loss: 2.0487 - val_mean_squared_error: 2.0487\n",
            "Epoch 67/100\n",
            "1/1 [==============================] - 0s 105ms/step - loss: 0.4537 - mean_squared_error: 0.4537 - val_loss: 1.8810 - val_mean_squared_error: 1.8810\n",
            "Epoch 68/100\n",
            "1/1 [==============================] - 0s 141ms/step - loss: 0.4221 - mean_squared_error: 0.4221 - val_loss: 1.7120 - val_mean_squared_error: 1.7120\n",
            "Epoch 69/100\n",
            "1/1 [==============================] - 0s 154ms/step - loss: 0.3919 - mean_squared_error: 0.3919 - val_loss: 1.5436 - val_mean_squared_error: 1.5436\n",
            "Epoch 70/100\n",
            "1/1 [==============================] - 0s 178ms/step - loss: 0.3630 - mean_squared_error: 0.3630 - val_loss: 1.3780 - val_mean_squared_error: 1.3780\n",
            "Epoch 71/100\n",
            "1/1 [==============================] - 0s 100ms/step - loss: 0.3353 - mean_squared_error: 0.3353 - val_loss: 1.2174 - val_mean_squared_error: 1.2174\n",
            "Epoch 72/100\n",
            "1/1 [==============================] - 0s 105ms/step - loss: 0.3088 - mean_squared_error: 0.3088 - val_loss: 1.0643 - val_mean_squared_error: 1.0643\n",
            "Epoch 73/100\n",
            "1/1 [==============================] - 0s 112ms/step - loss: 0.2837 - mean_squared_error: 0.2837 - val_loss: 0.9210 - val_mean_squared_error: 0.9210\n",
            "Epoch 74/100\n",
            "1/1 [==============================] - 0s 131ms/step - loss: 0.2597 - mean_squared_error: 0.2597 - val_loss: 0.7897 - val_mean_squared_error: 0.7897\n",
            "Epoch 75/100\n",
            "1/1 [==============================] - 0s 113ms/step - loss: 0.2372 - mean_squared_error: 0.2372 - val_loss: 0.6722 - val_mean_squared_error: 0.6722\n",
            "Epoch 76/100\n",
            "1/1 [==============================] - 0s 101ms/step - loss: 0.2160 - mean_squared_error: 0.2160 - val_loss: 0.5702 - val_mean_squared_error: 0.5702\n",
            "Epoch 77/100\n",
            "1/1 [==============================] - 0s 100ms/step - loss: 0.1962 - mean_squared_error: 0.1962 - val_loss: 0.4848 - val_mean_squared_error: 0.4848\n",
            "Epoch 78/100\n",
            "1/1 [==============================] - 0s 118ms/step - loss: 0.1780 - mean_squared_error: 0.1780 - val_loss: 0.4168 - val_mean_squared_error: 0.4168\n",
            "Epoch 79/100\n",
            "1/1 [==============================] - 0s 120ms/step - loss: 0.1613 - mean_squared_error: 0.1613 - val_loss: 0.3661 - val_mean_squared_error: 0.3661\n",
            "Epoch 80/100\n",
            "1/1 [==============================] - 0s 111ms/step - loss: 0.1462 - mean_squared_error: 0.1462 - val_loss: 0.3326 - val_mean_squared_error: 0.3326\n",
            "Epoch 81/100\n",
            "1/1 [==============================] - 0s 103ms/step - loss: 0.1327 - mean_squared_error: 0.1327 - val_loss: 0.3152 - val_mean_squared_error: 0.3152\n",
            "Epoch 82/100\n",
            "1/1 [==============================] - 0s 107ms/step - loss: 0.1207 - mean_squared_error: 0.1207 - val_loss: 0.3128 - val_mean_squared_error: 0.3128\n",
            "Epoch 83/100\n",
            "1/1 [==============================] - 0s 102ms/step - loss: 0.1103 - mean_squared_error: 0.1103 - val_loss: 0.3238 - val_mean_squared_error: 0.3238\n",
            "Epoch 84/100\n",
            "1/1 [==============================] - 0s 108ms/step - loss: 0.1012 - mean_squared_error: 0.1012 - val_loss: 0.3461 - val_mean_squared_error: 0.3461\n",
            "Epoch 85/100\n",
            "1/1 [==============================] - 0s 99ms/step - loss: 0.0936 - mean_squared_error: 0.0936 - val_loss: 0.3779 - val_mean_squared_error: 0.3779\n",
            "Epoch 86/100\n",
            "1/1 [==============================] - 0s 111ms/step - loss: 0.0871 - mean_squared_error: 0.0871 - val_loss: 0.4171 - val_mean_squared_error: 0.4171\n",
            "Epoch 87/100\n",
            "1/1 [==============================] - 0s 105ms/step - loss: 0.0818 - mean_squared_error: 0.0818 - val_loss: 0.4614 - val_mean_squared_error: 0.4614\n",
            "Epoch 88/100\n",
            "1/1 [==============================] - 0s 104ms/step - loss: 0.0775 - mean_squared_error: 0.0775 - val_loss: 0.5091 - val_mean_squared_error: 0.5091\n",
            "Epoch 89/100\n",
            "1/1 [==============================] - 0s 106ms/step - loss: 0.0740 - mean_squared_error: 0.0740 - val_loss: 0.5581 - val_mean_squared_error: 0.5581\n",
            "Epoch 90/100\n",
            "1/1 [==============================] - 0s 100ms/step - loss: 0.0712 - mean_squared_error: 0.0712 - val_loss: 0.6069 - val_mean_squared_error: 0.6069\n",
            "Epoch 91/100\n",
            "1/1 [==============================] - 0s 129ms/step - loss: 0.0689 - mean_squared_error: 0.0689 - val_loss: 0.6540 - val_mean_squared_error: 0.6540\n",
            "Epoch 92/100\n",
            "1/1 [==============================] - 0s 177ms/step - loss: 0.0672 - mean_squared_error: 0.0672 - val_loss: 0.6983 - val_mean_squared_error: 0.6983\n",
            "Epoch 93/100\n",
            "1/1 [==============================] - 0s 105ms/step - loss: 0.0657 - mean_squared_error: 0.0657 - val_loss: 0.7388 - val_mean_squared_error: 0.7388\n",
            "Epoch 94/100\n",
            "1/1 [==============================] - 0s 111ms/step - loss: 0.0646 - mean_squared_error: 0.0646 - val_loss: 0.7749 - val_mean_squared_error: 0.7749\n",
            "Epoch 95/100\n",
            "1/1 [==============================] - 0s 107ms/step - loss: 0.0635 - mean_squared_error: 0.0635 - val_loss: 0.8060 - val_mean_squared_error: 0.8060\n",
            "Epoch 96/100\n",
            "1/1 [==============================] - 0s 148ms/step - loss: 0.0626 - mean_squared_error: 0.0626 - val_loss: 0.8320 - val_mean_squared_error: 0.8320\n",
            "Epoch 97/100\n",
            "1/1 [==============================] - 0s 202ms/step - loss: 0.0617 - mean_squared_error: 0.0617 - val_loss: 0.8527 - val_mean_squared_error: 0.8527\n",
            "Epoch 98/100\n",
            "1/1 [==============================] - 0s 147ms/step - loss: 0.0608 - mean_squared_error: 0.0608 - val_loss: 0.8682 - val_mean_squared_error: 0.8682\n",
            "Epoch 99/100\n",
            "1/1 [==============================] - 0s 157ms/step - loss: 0.0599 - mean_squared_error: 0.0599 - val_loss: 0.8787 - val_mean_squared_error: 0.8787\n",
            "Epoch 100/100\n",
            "1/1 [==============================] - 0s 165ms/step - loss: 0.0589 - mean_squared_error: 0.0589 - val_loss: 0.8845 - val_mean_squared_error: 0.8845\n"
          ]
        },
        {
          "name": "stderr",
          "output_type": "stream",
          "text": [
            "2022-05-13 00:53:20.536206: W tensorflow/python/util/util.cc:368] Sets are not currently considered sequences, but this may change in the future, so consider avoiding using them.\n",
            "WARNING:absl:Found untraced functions such as lstm_cell_1_layer_call_fn, lstm_cell_1_layer_call_and_return_conditional_losses, lstm_cell_2_layer_call_fn, lstm_cell_2_layer_call_and_return_conditional_losses, lstm_cell_4_layer_call_fn while saving (showing 5 of 8). These functions will not be directly callable after loading.\n"
          ]
        },
        {
          "name": "stdout",
          "output_type": "stream",
          "text": [
            "INFO:tensorflow:Assets written to: ./time_series_forecaster/best_model/assets\n"
          ]
        },
        {
          "name": "stderr",
          "output_type": "stream",
          "text": [
            "INFO:tensorflow:Assets written to: ./time_series_forecaster/best_model/assets\n",
            "WARNING:absl:<keras.layers.recurrent.LSTMCell object at 0x7f9ae7fc4ee0> has the same name 'LSTMCell' as a built-in Keras object. Consider renaming <class 'keras.layers.recurrent.LSTMCell'> to avoid naming conflicts when loading with `tf.keras.models.load_model`. If renaming is not possible, pass the object in the `custom_objects` parameter of the load function.\n",
            "WARNING:absl:<keras.layers.recurrent.LSTMCell object at 0x7f9ae7fc7040> has the same name 'LSTMCell' as a built-in Keras object. Consider renaming <class 'keras.layers.recurrent.LSTMCell'> to avoid naming conflicts when loading with `tf.keras.models.load_model`. If renaming is not possible, pass the object in the `custom_objects` parameter of the load function.\n",
            "WARNING:absl:<keras.layers.recurrent.LSTMCell object at 0x7f9afc099dc0> has the same name 'LSTMCell' as a built-in Keras object. Consider renaming <class 'keras.layers.recurrent.LSTMCell'> to avoid naming conflicts when loading with `tf.keras.models.load_model`. If renaming is not possible, pass the object in the `custom_objects` parameter of the load function.\n",
            "WARNING:absl:<keras.layers.recurrent.LSTMCell object at 0x7f9afdcc4d60> has the same name 'LSTMCell' as a built-in Keras object. Consider renaming <class 'keras.layers.recurrent.LSTMCell'> to avoid naming conflicts when loading with `tf.keras.models.load_model`. If renaming is not possible, pass the object in the `custom_objects` parameter of the load function.\n"
          ]
        },
        {
          "name": "stdout",
          "output_type": "stream",
          "text": [
            "2/2 [==============================] - 0s 21ms/step\n",
            "(9, 1)\n",
            "1/1 [==============================] - 1s 1s/step - loss: 0.8845 - mean_squared_error: 0.8845\n",
            "[0.8844712972640991, 0.8844712972640991]\n"
          ]
        }
      ],
      "source": [
        "predict_from = 1\n",
        "predict_until = 10\n",
        "lookback = 3\n",
        "clf = ak.TimeseriesForecaster(\n",
        "    lookback=lookback,\n",
        "    predict_from=predict_from,\n",
        "    predict_until=predict_until,\n",
        "    max_trials=1,\n",
        "    objective=\"val_loss\",\n",
        ")\n",
        "# Train the TimeSeriesForecaster with train data\n",
        "clf.fit(\n",
        "    x=data_x,\n",
        "    y=data_y,\n",
        "    validation_data=(data_x_val, data_y_val),\n",
        "    batch_size=72,\n",
        "    epochs=100,\n",
        ")\n",
        "# Predict with the best model(includes original training data).\n",
        "predictions = clf.predict(data_x_test)\n",
        "print(predictions.shape)\n",
        "# Evaluate the best model with testing data.\n",
        "print(clf.evaluate(data_x_val, data_y_val))"
      ]
    },
    {
      "cell_type": "code",
      "execution_count": null,
      "metadata": {
        "colab": {
          "base_uri": "https://localhost:8080/",
          "height": 331
        },
        "id": "m9BXO28_V5B8",
        "outputId": "de229063-349f-4ba8-df5e-b0382f5df7d7"
      },
      "outputs": [
        {
          "data": {
            "text/html": [
              "<div>\n",
              "<style scoped>\n",
              "    .dataframe tbody tr th:only-of-type {\n",
              "        vertical-align: middle;\n",
              "    }\n",
              "\n",
              "    .dataframe tbody tr th {\n",
              "        vertical-align: top;\n",
              "    }\n",
              "\n",
              "    .dataframe thead th {\n",
              "        text-align: right;\n",
              "    }\n",
              "</style>\n",
              "<table border=\"1\" class=\"dataframe\">\n",
              "  <thead>\n",
              "    <tr style=\"text-align: right;\">\n",
              "      <th></th>\n",
              "      <th>Date</th>\n",
              "      <th>Yield</th>\n",
              "    </tr>\n",
              "  </thead>\n",
              "  <tbody>\n",
              "    <tr>\n",
              "      <th>0</th>\n",
              "      <td>2009</td>\n",
              "      <td>1.506171</td>\n",
              "    </tr>\n",
              "    <tr>\n",
              "      <th>1</th>\n",
              "      <td>2010</td>\n",
              "      <td>2.118176</td>\n",
              "    </tr>\n",
              "    <tr>\n",
              "      <th>2</th>\n",
              "      <td>2011</td>\n",
              "      <td>2.398314</td>\n",
              "    </tr>\n",
              "    <tr>\n",
              "      <th>3</th>\n",
              "      <td>2012</td>\n",
              "      <td>2.548802</td>\n",
              "    </tr>\n",
              "    <tr>\n",
              "      <th>4</th>\n",
              "      <td>2013</td>\n",
              "      <td>2.965831</td>\n",
              "    </tr>\n",
              "    <tr>\n",
              "      <th>5</th>\n",
              "      <td>2014</td>\n",
              "      <td>3.159941</td>\n",
              "    </tr>\n",
              "    <tr>\n",
              "      <th>6</th>\n",
              "      <td>2015</td>\n",
              "      <td>3.041525</td>\n",
              "    </tr>\n",
              "    <tr>\n",
              "      <th>7</th>\n",
              "      <td>2016</td>\n",
              "      <td>3.115644</td>\n",
              "    </tr>\n",
              "    <tr>\n",
              "      <th>8</th>\n",
              "      <td>2017</td>\n",
              "      <td>3.018960</td>\n",
              "    </tr>\n",
              "  </tbody>\n",
              "</table>\n",
              "</div>"
            ],
            "text/plain": [
              "   Date     Yield\n",
              "0  2009  1.506171\n",
              "1  2010  2.118176\n",
              "2  2011  2.398314\n",
              "3  2012  2.548802\n",
              "4  2013  2.965831\n",
              "5  2014  3.159941\n",
              "6  2015  3.041525\n",
              "7  2016  3.115644\n",
              "8  2017  3.018960"
            ]
          },
          "execution_count": 71,
          "metadata": {},
          "output_type": "execute_result"
        }
      ],
      "source": [
        "#Predicted Year\n",
        "df_forecast = pd.DataFrame({'Date':np.arange(start=2018-len(predictions), stop=2018, step=1), 'Yield':predictions.flatten()})\n",
        "df_forecast"
      ]
    },
    {
      "cell_type": "code",
      "execution_count": null,
      "metadata": {
        "colab": {
          "base_uri": "https://localhost:8080/",
          "height": 313
        },
        "id": "bFNTUcU3Wx3L",
        "outputId": "ae7c5ecc-075a-49da-e4c9-7fc48d4dd1c2"
      },
      "outputs": [
        {
          "data": {
            "text/plain": [
              "<matplotlib.axes._subplots.AxesSubplot at 0x7f9ae7eadcd0>"
            ]
          },
          "execution_count": 72,
          "metadata": {},
          "output_type": "execute_result"
        },
        {
          "data": {
            "image/png": "[encoded data removed]",
            "text/plain": [
              "<Figure size 432x288 with 1 Axes>"
            ]
          },
          "metadata": {
            "needs_background": "light"
          },
          "output_type": "display_data"
        }
      ],
      "source": [
        "#Actual vs. Forecast Plot\n",
        "original = final_data[['Year', 'Yield']]\n",
        "lower_ci_99 = df_forecast['Yield']-2.576*(np.std(predictions)/np.sqrt(10))\n",
        "upper_ci_99 = df_forecast['Yield']+2.576*(np.std(predictions)/np.sqrt(10))\n",
        "lower_ci_95 = df_forecast['Yield']-1.96*(np.std(predictions)/np.sqrt(10))\n",
        "upper_ci_95 = df_forecast['Yield']+1.96*(np.std(predictions)/np.sqrt(10))\n",
        "\n",
        "sn.lineplot(original['Year'], original['Yield'],label='Actual').set(title='Actual vs. Forecast',ylabel='Yield (t/ha)')\n",
        "sn.lineplot(df_forecast['Date'], df_forecast['Yield'],label='Forecast')\n",
        "plt.fill_between(df_forecast['Date'], lower_ci_99, upper_ci_99, color='orange', alpha=.1)\n",
        "plt.fill_between(df_forecast['Date'], lower_ci_95, upper_ci_95, color='orange', alpha=.3)\n",
        "plt.legend(loc='upper left')\n",
        "sn.lineplot()"
      ]
    }
  ],
  "metadata": {
    "colab": {
      "collapsed_sections": [],
      "name": "FYP - LSTM.ipynb",
      "provenance": []
    },
    "kernelspec": {
      "display_name": "lstm-keras",
      "language": "python",
      "name": "lstm-keras"
    },
    "language_info": {
      "codemirror_mode": {
        "name": "ipython",
        "version": 3
      },
      "file_extension": ".py",
      "mimetype": "text/x-python",
      "name": "python",
      "nbconvert_exporter": "python",
      "pygments_lexer": "ipython3",
      "version": "3.8.10"
    }
  },
  "nbformat": 4,
  "nbformat_minor": 0
}
